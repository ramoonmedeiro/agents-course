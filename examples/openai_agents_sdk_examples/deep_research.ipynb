{
 "cells": [
  {
   "cell_type": "markdown",
   "id": "edd749fc",
   "metadata": {},
   "source": [
    "# Criar agente que faz deep research"
   ]
  },
  {
   "cell_type": "markdown",
   "id": "9a1a35a9",
   "metadata": {},
   "source": [
    "### Setando o modelo"
   ]
  },
  {
   "cell_type": "code",
   "execution_count": 76,
   "id": "c28415f4",
   "metadata": {},
   "outputs": [
    {
     "data": {
      "text/plain": [
       "True"
      ]
     },
     "execution_count": 76,
     "metadata": {},
     "output_type": "execute_result"
    }
   ],
   "source": [
    "from agents import Agent, Runner, trace,function_tool, OpenAIChatCompletionsModel\n",
    "from agents.model_settings import ModelSettings\n",
    "\n",
    "from openai import AsyncOpenAI\n",
    "\n",
    "from crewai_tools import SerperDevTool\n",
    "\n",
    "from pydantic import BaseModel, Field\n",
    "import asyncio\n",
    "import os\n",
    "from dotenv import load_dotenv, find_dotenv\n",
    "from IPython.display import display, Markdown\n",
    "\n",
    "load_dotenv(find_dotenv())"
   ]
  },
  {
   "cell_type": "code",
   "execution_count": 53,
   "id": "9bbfcae5",
   "metadata": {},
   "outputs": [],
   "source": [
    "client_groq = AsyncOpenAI(\n",
    "    api_key=os.getenv(\"GROQ_API_KEY\"),\n",
    "    base_url=\"https://api.groq.com/openai/v1\"\n",
    ")\n",
    "\n",
    "model_llama4 = OpenAIChatCompletionsModel(\n",
    "    model=\"meta-llama/llama-4-scout-17b-16e-instruct\",\n",
    "    openai_client=client_groq\n",
    ")\n",
    "\n",
    "model_llama = OpenAIChatCompletionsModel(\n",
    "    model=\"llama3-8b-8192\",\n",
    "    openai_client=client_groq\n",
    ")\n",
    "\n",
    "model_deepseek = OpenAIChatCompletionsModel(\n",
    "    model=\"deepseek-r1-distill-llama-70b\",\n",
    "    openai_client=client_groq\n",
    ")"
   ]
  },
  {
   "cell_type": "markdown",
   "id": "492d47eb",
   "metadata": {},
   "source": [
    "### Criando tool que busca na internet"
   ]
  },
  {
   "cell_type": "code",
   "execution_count": 74,
   "id": "7e48fc6d",
   "metadata": {},
   "outputs": [],
   "source": [
    "@function_tool\n",
    "def search_tool(query: str) -> str:\n",
    "    \"\"\"\n",
    "    Usa a API da Serper para realizar uma busca no Google.\n",
    "    \n",
    "    Args:\n",
    "        query: A consulta de busca.\n",
    "        \n",
    "    Returns:\n",
    "        Uma string com os resultados da busca.\n",
    "    \"\"\"\n",
    "    \n",
    "    if not os.getenv(\"SERPER_API_KEY\"):\n",
    "        raise ValueError(\"A variável de ambiente 'SERPER_API_KEY' não está definida.\")\n",
    "\n",
    "    search = SerperDevTool(\n",
    "        n_results=2\n",
    "    )\n",
    "    results = search._run(query=query)\n",
    "    all_results_search = [f\"Link: {result['link']} \\nContent: {result['snippet']}\\n\\n\" for result in results[\"organic\"]]\n",
    "    all_context = \"\\n\\n\".join(all_results_search)\n",
    "    \n",
    "    return all_context"
   ]
  },
  {
   "cell_type": "markdown",
   "id": "a26b5df5",
   "metadata": {},
   "source": [
    "### Criando um agente de busca"
   ]
  },
  {
   "cell_type": "code",
   "execution_count": 106,
   "id": "aa203f31",
   "metadata": {},
   "outputs": [],
   "source": [
    "instructions_search = \"\"\"\n",
    "Você é um assistente de pesquisa. Dado um termo de busca, você busca na web por esse termo e\n",
    "produz um resumo conciso dos resultados. Você receberá links e o conteúdo da página. Faça o output ser:\n",
    "\n",
    "Links: [lista de links que você vai receber]\n",
    "Resumo: Aqui vai o resumo sobre o assunto encotrado nos links acima.\n",
    "\n",
    "O resumo deve ter cerca de 2-3 parágrafos e menos de 300 palavras. Você deve capturar os principais pontos.\n",
    "O conteúdo resumido por ti, irá ser consumido por alguém que irá escrever alguma reportagem baseado no termo de busca. Então, é\n",
    "de extrema importância você capturar a essência do resultado e ignorar pontos irrelevantes.\n",
    "Não inclua algum comentário adicional além do resumo em si. Faça o resumo sempre em português do Brasil.\n",
    "\"\"\""
   ]
  },
  {
   "cell_type": "code",
   "execution_count": 107,
   "id": "70279699",
   "metadata": {},
   "outputs": [],
   "source": [
    "search_agent = Agent(\n",
    "    name=\"search agent\",\n",
    "    instructions=instructions_search,\n",
    "    model=model_deepseek,\n",
    "    tools=[search_tool],\n",
    "    model_settings=ModelSettings(temperature=0)\n",
    ")"
   ]
  },
  {
   "cell_type": "markdown",
   "id": "bc0178c1",
   "metadata": {},
   "source": [
    "### Rodando o agente"
   ]
  },
  {
   "cell_type": "code",
   "execution_count": 108,
   "id": "a6c8d917",
   "metadata": {},
   "outputs": [],
   "source": [
    "message = \"frameworks de agentes mais recentes 2025\"\n",
    "\n",
    "with trace(\"search\"):\n",
    "    result = await Runner.run(starting_agent=search_agent, input=message)"
   ]
  },
  {
   "cell_type": "code",
   "execution_count": 109,
   "id": "c825ff9c",
   "metadata": {},
   "outputs": [
    {
     "data": {
      "text/markdown": [
       "Links: \n",
       "- https://medium.com/@elisowski/top-ai-agent-frameworks-in-2025-9bcedab2e239 \n",
       "- https://www.shakudo.io/blog/top-9-ai-agent-frameworks \n",
       "\n",
       "Resumo:  \n",
       "Os frameworks de agentes mais recentes em 2025 destacam-se por suas capacidades avançadas em processamento de linguagem natural e aprendizado de máquina. O GPT-5, da OpenAI, é apontado como um dos principais, com melhorias significativas em compreensão e geração de texto. Outros frameworks, como o MISTICO, do Meta, e o Llama 3, da Meta, também são mencionados por suas habilidades em tarefas complexas e multitarefa.  \n",
       "\n",
       "Além disso, o Claude 3, da Anthropic, e o PaLM 3, do Google, são destacados por suas capacidades de generalização e integração com sistemas externos. Esses frameworks estão revolucionando a forma como os agentes de IA interagem com usuários e ambientes, permitindo soluções mais personalizadas e eficientes."
      ],
      "text/plain": [
       "<IPython.core.display.Markdown object>"
      ]
     },
     "metadata": {},
     "output_type": "display_data"
    }
   ],
   "source": [
    "display(Markdown(result.final_output))"
   ]
  },
  {
   "cell_type": "markdown",
   "id": "97dd208f",
   "metadata": {},
   "source": [
    "### Criando agente que faz output format"
   ]
  },
  {
   "cell_type": "code",
   "execution_count": 111,
   "id": "ea45a521",
   "metadata": {},
   "outputs": [],
   "source": [
    "from typing import List\n",
    "class OutputFormat(BaseModel):\n",
    "    conteudo: str = Field(description=\"Conteúdo que foi baseado os links\")\n",
    "    links: List[str] = Field(description=\"Lista de links\")"
   ]
  },
  {
   "cell_type": "code",
   "execution_count": 115,
   "id": "f05d8add",
   "metadata": {},
   "outputs": [],
   "source": [
    "output_format_prompt = \"\"\"\n",
    "Você irá receber um conteúdo contendo uma lista de links e o resumo do conteúdo.\n",
    "Sua tarefa é devolver o resultado no formato pydantic.\n",
    "\"\"\"\n",
    "\n",
    "output_format_agent = Agent(\n",
    "    name=\"Output formarter agent\",\n",
    "    instructions=output_format_prompt,\n",
    "    model=model_llama4,\n",
    "    output_type=OutputFormat\n",
    ")"
   ]
  },
  {
   "cell_type": "code",
   "execution_count": 116,
   "id": "bb8fca8a",
   "metadata": {},
   "outputs": [],
   "source": [
    "final_result = await Runner.run(starting_agent=output_format_agent, input=result.final_output)"
   ]
  },
  {
   "cell_type": "code",
   "execution_count": 118,
   "id": "aea7ee68",
   "metadata": {},
   "outputs": [
    {
     "name": "stdout",
     "output_type": "stream",
     "text": [
      "conteudo='Os frameworks de agentes mais recentes em 2025 destacam-se por suas capacidades avançadas em processamento de linguagem natural e aprendizado de máquina. O GPT-5, da OpenAI, é apontado como um dos principais, com melhorias significativas em compreensão e geração de texto. Outros frameworks, como o MISTICO, do Meta, e o Llama3, da Meta, também são mencionados por suas habilidades em tarefas complexas e multitarefa. Além disso, o Claude3, da Anthropic, e o PaLM3, do Google, são destacados por suas capacidades de generalização e integração com sistemas externos. Esses frameworks estão revolucionando a forma como os agentes de IA interagem com usuários e ambientes, permitindo soluções mais personalizadas e eficientes.' links=['https://medium.com/@elisowski/top-ai-agent-frameworks-in-2025-9bcedab2e239', 'https://www.shakudo.io/blog/top-9-ai-agent-frameworks']\n"
     ]
    }
   ],
   "source": [
    "print(final_result.final_output)"
   ]
  }
 ],
 "metadata": {
  "kernelspec": {
   "display_name": "agents-course (3.12.3)",
   "language": "python",
   "name": "python3"
  },
  "language_info": {
   "codemirror_mode": {
    "name": "ipython",
    "version": 3
   },
   "file_extension": ".py",
   "mimetype": "text/x-python",
   "name": "python",
   "nbconvert_exporter": "python",
   "pygments_lexer": "ipython3",
   "version": "3.12.3"
  }
 },
 "nbformat": 4,
 "nbformat_minor": 5
}
