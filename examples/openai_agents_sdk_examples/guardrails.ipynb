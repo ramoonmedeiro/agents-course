{
 "cells": [
  {
   "cell_type": "markdown",
   "id": "8acbbe83",
   "metadata": {},
   "source": [
    "# Guardrails e saídas estruturadas\n",
    "\n",
    "Aqui iremos apenas dar um check se houve o acréscimo de um nome em alguma resposta"
   ]
  },
  {
   "cell_type": "markdown",
   "id": "ddedbdd8",
   "metadata": {},
   "source": [
    "### Setando o modelo"
   ]
  },
  {
   "cell_type": "code",
   "execution_count": 22,
   "id": "120b8d8e",
   "metadata": {},
   "outputs": [],
   "source": [
    "from dotenv import load_dotenv, find_dotenv\n",
    "from typing import Dict\n",
    "import os\n",
    "from agents import OpenAIChatCompletionsModel, trace, Agent, Runner, function_tool, input_guardrail, GuardrailFunctionOutput\n",
    "from openai import AsyncOpenAI"
   ]
  },
  {
   "cell_type": "code",
   "execution_count": 23,
   "id": "43318649",
   "metadata": {},
   "outputs": [],
   "source": [
    "client_groq = AsyncOpenAI(\n",
    "    api_key=os.getenv(\"GROQ_API_KEY\"),\n",
    "    base_url=\"https://api.groq.com/openai/v1\"\n",
    ")\n",
    "\n",
    "model_groq = OpenAIChatCompletionsModel(\n",
    "    model=\"meta-llama/llama-4-scout-17b-16e-instruct\",\n",
    "    openai_client=client_groq\n",
    ")"
   ]
  },
  {
   "cell_type": "markdown",
   "id": "a8448363",
   "metadata": {},
   "source": [
    "### Setando o guardrail agent"
   ]
  },
  {
   "cell_type": "code",
   "execution_count": 24,
   "id": "af457e05",
   "metadata": {},
   "outputs": [],
   "source": [
    "from pydantic import BaseModel\n",
    "\n",
    "class KeyCheckOutput(BaseModel):\n",
    "    is_key_check: bool\n",
    "    key: str"
   ]
  },
  {
   "cell_type": "code",
   "execution_count": 25,
   "id": "bee0e6c1",
   "metadata": {},
   "outputs": [],
   "source": [
    "guardrail_agent = Agent(\n",
    "    name=\"Name checker\",\n",
    "    instructions=\"Verifique se o usuário está incluindo alguma informação de apikeys, ou qualquer key no que ele quer que você faça\",\n",
    "    output_type=KeyCheckOutput,\n",
    "    model=model_groq\n",
    ")"
   ]
  },
  {
   "cell_type": "code",
   "execution_count": 26,
   "id": "7f357038",
   "metadata": {},
   "outputs": [],
   "source": [
    "@input_guardrail\n",
    "async def guardrail_against_key(ctx, agent, message):\n",
    "    result = await Runner.run(\n",
    "        starting_agent=guardrail_agent,\n",
    "        input=message,\n",
    "        context=ctx.context\n",
    "    )\n",
    "\n",
    "    is_key_in_message = result.final_output.is_key_check\n",
    "    return GuardrailFunctionOutput(\n",
    "        output_info={\n",
    "            \"found_key\": result.final_output\n",
    "        },\n",
    "        tripwire_triggered=is_key_in_message\n",
    "    )"
   ]
  },
  {
   "cell_type": "markdown",
   "id": "4a0b64df",
   "metadata": {},
   "source": [
    "### Criando um agente que conversa normalmente sem tool"
   ]
  },
  {
   "cell_type": "code",
   "execution_count": 27,
   "id": "ea4eb988",
   "metadata": {},
   "outputs": [],
   "source": [
    "agente_conv = Agent(\n",
    "    name=\"Assistente\",\n",
    "    instructions=\"Você é um ótimo assistente e irá ajudar na resposta de qualquer pergunta\",\n",
    "    model=model_groq,\n",
    "    input_guardrails=[guardrail_against_key]\n",
    ")"
   ]
  },
  {
   "cell_type": "code",
   "execution_count": 28,
   "id": "38578045",
   "metadata": {},
   "outputs": [
    {
     "name": "stdout",
     "output_type": "stream",
     "text": [
      "Olá Ramon! É um prazer conhecê-lo! Estou aqui para ajudar e responder às suas perguntas. Pode ser sobre qualquer coisa, desde assuntos sérios até curiosidades ou hobbies. O que você gostaria de saber ou discutir?\n"
     ]
    }
   ],
   "source": [
    "# Aqui não vai dar erro\n",
    "\n",
    "message = \"Meu nome é Ramon e quero responder umas perguntas\"\n",
    "result = await Runner.run(starting_agent=agente_conv, input=message)\n",
    "print(result.final_output)"
   ]
  },
  {
   "cell_type": "code",
   "execution_count": 29,
   "id": "2ba9bae9",
   "metadata": {},
   "outputs": [
    {
     "ename": "InputGuardrailTripwireTriggered",
     "evalue": "Guardrail InputGuardrail triggered tripwire",
     "output_type": "error",
     "traceback": [
      "\u001b[31m---------------------------------------------------------------------------\u001b[39m",
      "\u001b[31mInputGuardrailTripwireTriggered\u001b[39m           Traceback (most recent call last)",
      "\u001b[36mCell\u001b[39m\u001b[36m \u001b[39m\u001b[32mIn[29]\u001b[39m\u001b[32m, line 4\u001b[39m\n\u001b[32m      1\u001b[39m \u001b[38;5;66;03m# Aqui vai dar erro\u001b[39;00m\n\u001b[32m      3\u001b[39m message = \u001b[33m\"\u001b[39m\u001b[33mMeu nome é Ramon, minha api_key=x332423u5u49594395 e gostaria de gerar um código\u001b[39m\u001b[33m\"\u001b[39m\n\u001b[32m----> \u001b[39m\u001b[32m4\u001b[39m result = \u001b[38;5;28;01mawait\u001b[39;00m Runner.run(starting_agent=agente_conv, \u001b[38;5;28minput\u001b[39m=message)\n\u001b[32m      5\u001b[39m \u001b[38;5;28mprint\u001b[39m(result.final_output)\n",
      "\u001b[36mFile \u001b[39m\u001b[32m~/projects/agents-course/.venv/lib/python3.12/site-packages/agents/run.py:206\u001b[39m, in \u001b[36mRunner.run\u001b[39m\u001b[34m(cls, starting_agent, input, context, max_turns, hooks, run_config, previous_response_id, session)\u001b[39m\n\u001b[32m    179\u001b[39m \u001b[38;5;250m\u001b[39m\u001b[33;03m\"\"\"Run a workflow starting at the given agent. The agent will run in a loop until a final\u001b[39;00m\n\u001b[32m    180\u001b[39m \u001b[33;03moutput is generated. The loop runs like so:\u001b[39;00m\n\u001b[32m    181\u001b[39m \u001b[33;03m1. The agent is invoked with the given input.\u001b[39;00m\n\u001b[32m   (...)\u001b[39m\u001b[32m    203\u001b[39m \u001b[33;03m    agent. Agents may perform handoffs, so we don't know the specific type of the output.\u001b[39;00m\n\u001b[32m    204\u001b[39m \u001b[33;03m\"\"\"\u001b[39;00m\n\u001b[32m    205\u001b[39m runner = DEFAULT_AGENT_RUNNER\n\u001b[32m--> \u001b[39m\u001b[32m206\u001b[39m \u001b[38;5;28;01mreturn\u001b[39;00m \u001b[38;5;28;01mawait\u001b[39;00m runner.run(\n\u001b[32m    207\u001b[39m     starting_agent,\n\u001b[32m    208\u001b[39m     \u001b[38;5;28minput\u001b[39m,\n\u001b[32m    209\u001b[39m     context=context,\n\u001b[32m    210\u001b[39m     max_turns=max_turns,\n\u001b[32m    211\u001b[39m     hooks=hooks,\n\u001b[32m    212\u001b[39m     run_config=run_config,\n\u001b[32m    213\u001b[39m     previous_response_id=previous_response_id,\n\u001b[32m    214\u001b[39m     session=session,\n\u001b[32m    215\u001b[39m )\n",
      "\u001b[36mFile \u001b[39m\u001b[32m~/projects/agents-course/.venv/lib/python3.12/site-packages/agents/run.py:412\u001b[39m, in \u001b[36mAgentRunner.run\u001b[39m\u001b[34m(self, starting_agent, input, **kwargs)\u001b[39m\n\u001b[32m    407\u001b[39m logger.debug(\n\u001b[32m    408\u001b[39m     \u001b[33mf\u001b[39m\u001b[33m\"\u001b[39m\u001b[33mRunning agent \u001b[39m\u001b[38;5;132;01m{\u001b[39;00mcurrent_agent.name\u001b[38;5;132;01m}\u001b[39;00m\u001b[33m (turn \u001b[39m\u001b[38;5;132;01m{\u001b[39;00mcurrent_turn\u001b[38;5;132;01m}\u001b[39;00m\u001b[33m)\u001b[39m\u001b[33m\"\u001b[39m,\n\u001b[32m    409\u001b[39m )\n\u001b[32m    411\u001b[39m \u001b[38;5;28;01mif\u001b[39;00m current_turn == \u001b[32m1\u001b[39m:\n\u001b[32m--> \u001b[39m\u001b[32m412\u001b[39m     input_guardrail_results, turn_result = \u001b[38;5;28;01mawait\u001b[39;00m asyncio.gather(\n\u001b[32m    413\u001b[39m         \u001b[38;5;28mself\u001b[39m._run_input_guardrails(\n\u001b[32m    414\u001b[39m             starting_agent,\n\u001b[32m    415\u001b[39m             starting_agent.input_guardrails\n\u001b[32m    416\u001b[39m             + (run_config.input_guardrails \u001b[38;5;129;01mor\u001b[39;00m []),\n\u001b[32m    417\u001b[39m             copy.deepcopy(prepared_input),\n\u001b[32m    418\u001b[39m             context_wrapper,\n\u001b[32m    419\u001b[39m         ),\n\u001b[32m    420\u001b[39m         \u001b[38;5;28mself\u001b[39m._run_single_turn(\n\u001b[32m    421\u001b[39m             agent=current_agent,\n\u001b[32m    422\u001b[39m             all_tools=all_tools,\n\u001b[32m    423\u001b[39m             original_input=original_input,\n\u001b[32m    424\u001b[39m             generated_items=generated_items,\n\u001b[32m    425\u001b[39m             hooks=hooks,\n\u001b[32m    426\u001b[39m             context_wrapper=context_wrapper,\n\u001b[32m    427\u001b[39m             run_config=run_config,\n\u001b[32m    428\u001b[39m             should_run_agent_start_hooks=should_run_agent_start_hooks,\n\u001b[32m    429\u001b[39m             tool_use_tracker=tool_use_tracker,\n\u001b[32m    430\u001b[39m             previous_response_id=previous_response_id,\n\u001b[32m    431\u001b[39m         ),\n\u001b[32m    432\u001b[39m     )\n\u001b[32m    433\u001b[39m \u001b[38;5;28;01melse\u001b[39;00m:\n\u001b[32m    434\u001b[39m     turn_result = \u001b[38;5;28;01mawait\u001b[39;00m \u001b[38;5;28mself\u001b[39m._run_single_turn(\n\u001b[32m    435\u001b[39m         agent=current_agent,\n\u001b[32m    436\u001b[39m         all_tools=all_tools,\n\u001b[32m   (...)\u001b[39m\u001b[32m    444\u001b[39m         previous_response_id=previous_response_id,\n\u001b[32m    445\u001b[39m     )\n",
      "\u001b[36mFile \u001b[39m\u001b[32m~/projects/agents-course/.venv/lib/python3.12/site-packages/agents/run.py:1058\u001b[39m, in \u001b[36mAgentRunner._run_input_guardrails\u001b[39m\u001b[34m(cls, agent, guardrails, input, context)\u001b[39m\n\u001b[32m   1051\u001b[39m         t.cancel()\n\u001b[32m   1052\u001b[39m     _error_tracing.attach_error_to_current_span(\n\u001b[32m   1053\u001b[39m         SpanError(\n\u001b[32m   1054\u001b[39m             message=\u001b[33m\"\u001b[39m\u001b[33mGuardrail tripwire triggered\u001b[39m\u001b[33m\"\u001b[39m,\n\u001b[32m   1055\u001b[39m             data={\u001b[33m\"\u001b[39m\u001b[33mguardrail\u001b[39m\u001b[33m\"\u001b[39m: result.guardrail.get_name()},\n\u001b[32m   1056\u001b[39m         )\n\u001b[32m   1057\u001b[39m     )\n\u001b[32m-> \u001b[39m\u001b[32m1058\u001b[39m     \u001b[38;5;28;01mraise\u001b[39;00m InputGuardrailTripwireTriggered(result)\n\u001b[32m   1059\u001b[39m \u001b[38;5;28;01melse\u001b[39;00m:\n\u001b[32m   1060\u001b[39m     guardrail_results.append(result)\n",
      "\u001b[31mInputGuardrailTripwireTriggered\u001b[39m: Guardrail InputGuardrail triggered tripwire"
     ]
    }
   ],
   "source": [
    "# Aqui vai dar erro\n",
    "\n",
    "message = \"Meu nome é Ramon, minha api_key=x332423u5u49594395 e gostaria de gerar um código\"\n",
    "result = await Runner.run(starting_agent=agente_conv, input=message)\n",
    "print(result.final_output)"
   ]
  },
  {
   "cell_type": "code",
   "execution_count": null,
   "id": "197e6074",
   "metadata": {},
   "outputs": [],
   "source": []
  },
  {
   "cell_type": "code",
   "execution_count": null,
   "id": "abd009d3",
   "metadata": {},
   "outputs": [],
   "source": []
  },
  {
   "cell_type": "code",
   "execution_count": null,
   "id": "e025fe9d",
   "metadata": {},
   "outputs": [],
   "source": []
  }
 ],
 "metadata": {
  "kernelspec": {
   "display_name": "agents-course (3.12.3)",
   "language": "python",
   "name": "python3"
  },
  "language_info": {
   "codemirror_mode": {
    "name": "ipython",
    "version": 3
   },
   "file_extension": ".py",
   "mimetype": "text/x-python",
   "name": "python",
   "nbconvert_exporter": "python",
   "pygments_lexer": "ipython3",
   "version": "3.12.3"
  }
 },
 "nbformat": 4,
 "nbformat_minor": 5
}
