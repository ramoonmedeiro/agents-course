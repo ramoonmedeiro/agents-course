{
 "cells": [
  {
   "cell_type": "code",
   "execution_count": 1,
   "id": "a5691677",
   "metadata": {},
   "outputs": [
    {
     "data": {
      "text/plain": [
       "True"
      ]
     },
     "execution_count": 1,
     "metadata": {},
     "output_type": "execute_result"
    }
   ],
   "source": [
    "from agents import Agent, Runner, AsyncOpenAI, OpenAIChatCompletionsModel, trace\n",
    "from openai import OpenAI\n",
    "import os\n",
    "from dotenv import load_dotenv, find_dotenv\n",
    "\n",
    "load_dotenv(find_dotenv())"
   ]
  },
  {
   "cell_type": "code",
   "execution_count": 2,
   "id": "80e39685",
   "metadata": {},
   "outputs": [],
   "source": [
    "client_groq = AsyncOpenAI(\n",
    "    api_key=os.getenv(\"GROQ_API_KEY\"),\n",
    "    base_url=\"https://api.groq.com/openai/v1\"\n",
    ")"
   ]
  },
  {
   "cell_type": "code",
   "execution_count": 3,
   "id": "01f55270",
   "metadata": {},
   "outputs": [],
   "source": [
    "model_groq = OpenAIChatCompletionsModel(\n",
    "    model=\"llama3-8b-8192\",\n",
    "    openai_client=client_groq\n",
    ")"
   ]
  },
  {
   "cell_type": "code",
   "execution_count": 7,
   "id": "9de78a63",
   "metadata": {},
   "outputs": [],
   "source": [
    "agente = Agent(\n",
    "    name=\"Assistente\",\n",
    "    instructions=\"Você é um ótimo assistente e irá ajudar na resposta de qualquer pergunta\",\n",
    "    model=model_groq\n",
    ")"
   ]
  },
  {
   "cell_type": "code",
   "execution_count": 8,
   "id": "3b55a3d0",
   "metadata": {},
   "outputs": [],
   "source": [
    "result = await Runner.run(starting_agent=agente, input=\"Quem foi o campeão da nba em 2021?\")"
   ]
  },
  {
   "cell_type": "code",
   "execution_count": 9,
   "id": "c2af73d4",
   "metadata": {},
   "outputs": [
    {
     "name": "stdout",
     "output_type": "stream",
     "text": [
      "O campeão da NBA em 2021 foi o Milwaukee Bucks. Eles derrotaram os Phoenix Suns na Série Estreia das Finais da NBA com placar de 4-2, conquistando o título de Campeões da NBA pela primeira vez em 50 anos. O melhor jogador da Finals foi Giannis Antetokounmpo, que foi nomeado MVP das Finais.\n"
     ]
    }
   ],
   "source": [
    "print(result.final_output)"
   ]
  },
  {
   "cell_type": "code",
   "execution_count": null,
   "id": "84b76b6e",
   "metadata": {},
   "outputs": [],
   "source": []
  },
  {
   "cell_type": "code",
   "execution_count": null,
   "id": "a524f138",
   "metadata": {},
   "outputs": [],
   "source": []
  }
 ],
 "metadata": {
  "kernelspec": {
   "display_name": "agents-course (3.12.3)",
   "language": "python",
   "name": "python3"
  },
  "language_info": {
   "codemirror_mode": {
    "name": "ipython",
    "version": 3
   },
   "file_extension": ".py",
   "mimetype": "text/x-python",
   "name": "python",
   "nbconvert_exporter": "python",
   "pygments_lexer": "ipython3",
   "version": "3.12.3"
  }
 },
 "nbformat": 4,
 "nbformat_minor": 5
}
