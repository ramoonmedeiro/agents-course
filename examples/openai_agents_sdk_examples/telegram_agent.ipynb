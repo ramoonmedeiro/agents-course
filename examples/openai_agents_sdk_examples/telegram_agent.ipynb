{
 "cells": [
  {
   "cell_type": "markdown",
   "id": "c0212a13",
   "metadata": {},
   "source": [
    "# Um agente que executa funções e notifica via telegram"
   ]
  },
  {
   "cell_type": "markdown",
   "id": "39514b61",
   "metadata": {},
   "source": [
    "### Setando nosso modelo"
   ]
  },
  {
   "cell_type": "code",
   "execution_count": 4,
   "id": "1b0c6547",
   "metadata": {},
   "outputs": [],
   "source": [
    "from agents import trace, Agent, Runner, function_tool, AsyncOpenAI, OpenAIChatCompletionsModel"
   ]
  },
  {
   "cell_type": "code",
   "execution_count": 5,
   "id": "e8817f49",
   "metadata": {},
   "outputs": [],
   "source": [
    "client_groq = AsyncOpenAI(\n",
    "    api_key=os.getenv(\"GROQ_API_KEY\"),\n",
    "    base_url=\"https://api.groq.com/openai/v1\"\n",
    ")\n",
    "\n",
    "model_groq = OpenAIChatCompletionsModel(\n",
    "    model=\"llama3-8b-8192\",\n",
    "    openai_client=client_groq\n",
    ")"
   ]
  },
  {
   "cell_type": "markdown",
   "id": "c30dd193",
   "metadata": {},
   "source": [
    "### Workflow do agente"
   ]
  },
  {
   "cell_type": "code",
   "execution_count": 10,
   "id": "953b95e6",
   "metadata": {},
   "outputs": [],
   "source": [
    "instrucao1 = \"\"\"\n",
    "Você é um agente de vendas que trabalha na RamonSA,\n",
    "uma empresa que oferece uma ferramenta SaaS para garantir a conformidade com o SOC2 e preparar auditorias, impulsionada por IA.\n",
    "Você escreve mensagens frias profissionais e sérias para clientes que a receberão via telegram\n",
    "\"\"\"\n",
    "\n",
    "instrucao2 = \"\"\"\n",
    "Você é um agente de vendas bem-humorado e envolvente que trabalha na RamonSA,\n",
    "uma empresa que oferece uma ferramenta SaaS para garantir a conformidade com o SOC2 e preparar auditorias, impulsionada por IA.\n",
    "Você escreve mensagens frias, espirituosas e envolventes, com grande chance de obter uma resposta de clientes que a receberão via telegram\n",
    "\"\"\"\n",
    "\n",
    "instrucao3 = \"\"\"\n",
    "Você é um agente de vendas atarefado que trabalha na RamonSA,\n",
    "uma empresa que oferece uma ferramenta SaaS para garantir a conformidade com o SOC2 e preparar auditorias, impulsionada por IA.\n",
    "Você escreve mensagens frias, curtos e diretas ao ponto para clientes que a receberão via telegram\n",
    "\"\"\""
   ]
  },
  {
   "cell_type": "code",
   "execution_count": 12,
   "id": "3d772c53",
   "metadata": {},
   "outputs": [],
   "source": [
    "sales_agent1 = Agent(\n",
    "    name=\"Agente de vendas profissional\",\n",
    "    instructions=instrucao1,\n",
    "    model=model_groq\n",
    ")\n",
    "\n",
    "sales_agent2 = Agent(\n",
    "    name=\"Agente de vendas engajado\",\n",
    "    instructions=instrucao2,\n",
    "    model=model_groq\n",
    ")\n",
    "\n",
    "sales_agent3 = Agent(\n",
    "    name=\"Agente de vendas ocupado\",\n",
    "    instructions=instrucao3,\n",
    "    model=model_groq\n",
    ")"
   ]
  },
  {
   "cell_type": "code",
   "execution_count": 18,
   "id": "19af042e",
   "metadata": {},
   "outputs": [],
   "source": [
    "# Testando\n",
    "result =  Runner.run_streamed(sales_agent1, input=\"Escreva uma mensagem para venda\")"
   ]
  },
  {
   "cell_type": "code",
   "execution_count": 19,
   "id": "c3d73c9b",
   "metadata": {},
   "outputs": [
    {
     "name": "stdout",
     "output_type": "stream",
     "text": [
      "\"Alô [nome do cliente], espero que você esteja bem. Lembrei que nossa empresa RamonSA oferece uma solução SaaS revolucionária para garantir a conformidade com o SOC2 e preparar auditorias. Nossa ferramenta, impulsionada por IA, ajuda a identificar e mitigar riscos, simplificando o processo de certificação. Estamos aqui para ajudá-lo a melhorar a segurança e a confiança das suas operações. Gostaria de agendar um reunião para apresentar como podemos ajudá-lo? Responda e escolha um horário que melhor lhe atenda.\""
     ]
    }
   ],
   "source": [
    "from openai.types.responses import ResponseTextDeltaEvent\n",
    "\n",
    "async for event in result.stream_events():\n",
    "    if event.type == \"raw_response_event\" and isinstance(event.data, ResponseTextDeltaEvent):\n",
    "        print(event.data.delta, end=\"\", flush=\"True\")"
   ]
  },
  {
   "cell_type": "code",
   "execution_count": 28,
   "id": "e5865c92",
   "metadata": {},
   "outputs": [],
   "source": [
    "# Testando as coisas em paralelo\n",
    "import asyncio\n",
    "\n",
    "message = \"Escreva uma mensagem de venda que irá para pessoas que a receberão via APP do telegram\"\n",
    "\n",
    "results = await asyncio.gather(\n",
    "    Runner.run(starting_agent=sales_agent1, input=message),\n",
    "    Runner.run(starting_agent=sales_agent2, input=message),\n",
    "    Runner.run(starting_agent=sales_agent3, input=message),\n",
    ")"
   ]
  },
  {
   "cell_type": "code",
   "execution_count": 29,
   "id": "ea368203",
   "metadata": {},
   "outputs": [
    {
     "name": "stdout",
     "output_type": "stream",
     "text": [
      "\"Olá [nome do cliente],\n",
      "\n",
      "Espero que você esteja bem. Nossa equipe da RamonSA gostaria de apresentar sua empresa para a nossa ferramenta SaaS de conformidade com o SOC2. Como uma empresa que valoriza a segurança e a integridade dos dados, sabemos que a escolha certa de tecnologia é fundamental.\n",
      "\n",
      "Nossa plataforma utiliza inteligência artificial para ajudar a automatizar e a simplificar o processo de conformidade, reduzindo significativamente o tempo e os custos associados às auditorias. Além disso, nossa ferramenta oferece uma visão real-time dos resultados e uma capacidade de monitoramento em tempo real, garantindo que sua empresa esteja sempre preparada para uma auditoria.\n",
      "\n",
      "Gostaríamos de demonstrar como nossa ferramenta pode ajudar sua empresa a melhorar a eficiência e a reduzir os riscos de uma auditoria. Estamos dispostos a oferecer uma demonstração personalizada para você e sua equipe.\n",
      "\n",
      "Por favor, respondendo a essa mensagem, podemos agendar um horário que melhor atenda às suas necessidades.\n",
      "\n",
      "Muito obrigado por sua atenção.\n",
      "\n",
      "Atenciosamente,\n",
      "[Seu nome] - RamonSA\"\n",
      "\n",
      "\n",
      "\"Olá!\n",
      "\n",
      "Entendi que você é alguém que valoriza a segurança e a confiança nos seus processos. Afinal, quem não quer evitar surpresas negativas em audits?\n",
      "\n",
      "No RamonSA, desenvolvemos uma ferramenta SaaS revolucionária que ajuda empresas como a sua a atingir a não conformidade com o SOC2 de forma fácil e rápida. Além disso, nossa inteligência artificial é capaz de antecipar e resolver problemas antes que eles surjam!\n",
      "\n",
      "E você sabia que a nossa solução é a melhor nosagem para evitar a revisão? E que nossos usuários mais satisfeitos são aqueles que encontraram nossa ferramenta após uma auditoria?\n",
      "\n",
      "Vamos trabalhar juntos para garantir a segurança e a confiança em seus processos? \n",
      "\n",
      "Por isso, vamos grátis por 30 dias. Qual é a sua escolha?\"\n",
      "\n",
      "Espero sua resposta!\n",
      "\n",
      "\n",
      "\"Olá! Nossa ferramenta SaaS, RamonSA, ajuda a garantir a conformidade com o SOC2 e preparar auditorias de forma eficiente e segura. Com inteligência artificial, é possível automatizar rotinas, reduzir tempo de resposta e minimizar riscos. Gostaria de saber se você precisa de uma solução para a sua empresa? Responda-me!\"\n",
      "\n",
      "\n"
     ]
    }
   ],
   "source": [
    "all_results = [result.final_output for result in results]\n",
    "\n",
    "for output in all_results:\n",
    "    print(output + \"\\n\\n\")"
   ]
  },
  {
   "cell_type": "markdown",
   "id": "0bf89b03",
   "metadata": {},
   "source": [
    "### Definindo o agente que irá escolher a melhor mensagem dentre as três geradas acima"
   ]
  },
  {
   "cell_type": "code",
   "execution_count": 34,
   "id": "537255c6",
   "metadata": {},
   "outputs": [],
   "source": [
    "sales_picker = Agent(\n",
    "    name=\"Agente que escolhe a melhor mensagem\",\n",
    "    instructions=\"\"\"\n",
    "    Você é o melhor em escolher a melhor mensagem para ser enviada à clientes que à receberão\n",
    "    via APP do telegram. Devolva apenas a mensagem escolhida por você, sem mais e nem menos\n",
    "\"\"\",\n",
    "    model=model_groq\n",
    ")"
   ]
  },
  {
   "cell_type": "code",
   "execution_count": 35,
   "id": "2f854577",
   "metadata": {},
   "outputs": [],
   "source": [
    "message = \"Escreva uma mensagem de venda que irá para pessoas que a receberão via APP do telegram\"\n",
    "\n",
    "results = await asyncio.gather(\n",
    "    Runner.run(starting_agent=sales_agent1, input=message),\n",
    "    Runner.run(starting_agent=sales_agent2, input=message),\n",
    "    Runner.run(starting_agent=sales_agent3, input=message),\n",
    ")\n",
    "\n",
    "all_results = [result.final_output for result in results]\n",
    "\n",
    "all_messages = \"Todas as mensagens:\\n\\n\".join(all_results)\n",
    "best_message = await Runner.run(starting_agent=sales_picker, input=all_messages)"
   ]
  },
  {
   "cell_type": "code",
   "execution_count": 36,
   "id": "9fcb660f",
   "metadata": {},
   "outputs": [
    {
     "name": "stdout",
     "output_type": "stream",
     "text": [
      "A melhor mensagem foi: \n",
      "\n",
      "\"Olá ! Fiquei sabendo que você busca uma solução para garantir a conformidade sua com o SOC2 e facilitar a preparação para auditorias. Eu estou trabalhando atualmente com a RamonSA, uma empresa líder em SaaS que utiliza inteligência artificial para impulsionar a gestão de compliance. Nossa ferramenta pode ajudar a reduzir o tempo e esforço necessários para atingir a conformidade, garantindo a segurança dos seus dados e melhorando a confiança com seus clientes. Estou disponível para discutir como a RamonSA pode ajudá-lo. Qual é o seu maior desafio atualmente em relação à conformidade do SOC2?\"\n"
     ]
    }
   ],
   "source": [
    "print(f\"A melhor mensagem foi: \\n\\n{best_message.final_output}\")"
   ]
  },
  {
   "cell_type": "markdown",
   "id": "822476d8",
   "metadata": {},
   "source": [
    "### Fazendo a mesma coisa, mas usando uma tool\n",
    "\n",
    "Aqui estamos transformando agentes em tools e um agente geral irá decidir qual agente utilizar.\n",
    "Esse método é conhecido como hierárquico"
   ]
  },
  {
   "cell_type": "code",
   "execution_count": 37,
   "id": "d90e7f3b",
   "metadata": {},
   "outputs": [],
   "source": [
    "import requests\n",
    "from dotenv import load_dotenv, find_dotenv\n",
    "import os\n",
    "\n",
    "load_dotenv(find_dotenv())\n",
    "\n",
    "chat_id = os.getenv(\"TELEGRAM_CHAT_ID\")\n",
    "token = os.getenv(\"TELEGRAM_TOKEN\")\n",
    "\n",
    "@function_tool\n",
    "def send_message(msg):\n",
    "    \"\"\"\n",
    "    Função que manda mensagem para o telegram\n",
    "\n",
    "    ----------\n",
    "    parameters\n",
    "    ----------\n",
    "\n",
    "    msg: str\n",
    "        - parâmetro contendo a mensagem que será enviada\n",
    "    \"\"\"\n",
    "    data = {\"chat_id\": chat_id, \"text\": msg}\n",
    "    url = \"https://api.telegram.org/bot{}/sendMessage\".format(token)\n",
    "    requests.post(url, data)\n",
    "    return {\"status\": \"ok\"}"
   ]
  },
  {
   "cell_type": "code",
   "execution_count": 40,
   "id": "b7f32093",
   "metadata": {},
   "outputs": [],
   "source": [
    "task = \"Escreva uma mensagem de venda que irá para pessoas que a receberão via APP do telegram\"\n",
    "\n",
    "tool1 = sales_agent1.as_tool(tool_name=\"sales_agent1\",tool_description=task)\n",
    "tool2 = sales_agent2.as_tool(tool_name=\"sales_agent2\",tool_description=task)\n",
    "tool3 = sales_agent3.as_tool(tool_name=\"sales_agent3\",tool_description=task)\n",
    "\n",
    "tools = [tool1, tool2, tool3, send_message]"
   ]
  },
  {
   "cell_type": "code",
   "execution_count": 44,
   "id": "7ee339bc",
   "metadata": {},
   "outputs": [],
   "source": [
    "general_instructions = \"\"\"\n",
    "Você é um gerente de vendas trabalhando para a empresa RamonSA.\n",
    "Você irá usar as ferramentas dadas à você para gerar mensagens para clientes no app do telegram.\n",
    "Você nunca deverá gerar mensagens sozinho, mas sim usar as ferramentas sempre que for realizar tal tarefa.\n",
    "Você irá tentar todas as 3 ferramentas de sales_agent e escolher a melhor dentre elas para ser mandada.\n",
    "E irá mandar a mensagem usando a função send_message\n",
    "\"\"\"\n",
    "\n",
    "sales_manager = Agent(\n",
    "    name=\"Gerente de vendas\",\n",
    "    instructions=general_instructions,\n",
    "    tools=tools,\n",
    "    model=model_groq\n",
    ")"
   ]
  },
  {
   "cell_type": "code",
   "execution_count": 45,
   "id": "1dbf6fe5",
   "metadata": {},
   "outputs": [],
   "source": [
    "message = \"Escreva uma mensagem de venda que irá para pessoas que a receberão via APP do telegram\"\n",
    "\n",
    "\n",
    "with trace(\"Sales manager\"):\n",
    "    result_manager = await Runner.run(\n",
    "        starting_agent=sales_manager,\n",
    "        input=message\n",
    "    )"
   ]
  }
 ],
 "metadata": {
  "kernelspec": {
   "display_name": "agents-course (3.12.3)",
   "language": "python",
   "name": "python3"
  },
  "language_info": {
   "codemirror_mode": {
    "name": "ipython",
    "version": 3
   },
   "file_extension": ".py",
   "mimetype": "text/x-python",
   "name": "python",
   "nbconvert_exporter": "python",
   "pygments_lexer": "ipython3",
   "version": "3.12.3"
  }
 },
 "nbformat": 4,
 "nbformat_minor": 5
}
