{
 "cells": [
  {
   "cell_type": "markdown",
   "id": "b635ddfa",
   "metadata": {},
   "source": [
    "### Exemplo simples"
   ]
  },
  {
   "cell_type": "code",
   "execution_count": 2,
   "id": "ed7cf6e3",
   "metadata": {},
   "outputs": [],
   "source": [
    "async def do_something_processing() -> str:\n",
    "    # faz alguma coisa aqui\n",
    "    return \"feito\""
   ]
  },
  {
   "cell_type": "code",
   "execution_count": 3,
   "id": "14059a33",
   "metadata": {},
   "outputs": [
    {
     "name": "stdout",
     "output_type": "stream",
     "text": [
      "feito\n"
     ]
    }
   ],
   "source": [
    "result = await do_something_processing()\n",
    "print(result)"
   ]
  },
  {
   "cell_type": "markdown",
   "id": "34d87c9a",
   "metadata": {},
   "source": [
    "### Exemplos com 3 corotinas"
   ]
  },
  {
   "cell_type": "code",
   "execution_count": 5,
   "id": "2bde05db",
   "metadata": {},
   "outputs": [
    {
     "name": "stdout",
     "output_type": "stream",
     "text": [
      "['feito 1', 'feito 2', 'feito 3']\n"
     ]
    }
   ],
   "source": [
    "import asyncio\n",
    "\n",
    "async def do_something_processing1() -> str:\n",
    "    # faz alguma coisa aqui\n",
    "    return \"feito 1\"\n",
    "\n",
    "async def do_something_processing2() -> str:\n",
    "    # faz alguma coisa aqui\n",
    "    return \"feito 2\"\n",
    "\n",
    "async def do_something_processing3() -> str:\n",
    "    # faz alguma coisa aqui\n",
    "    return \"feito 3\"\n",
    "\n",
    "\n",
    "results = await asyncio.gather(\n",
    "    do_something_processing1(),\n",
    "    do_something_processing2(),\n",
    "    do_something_processing3()\n",
    ")\n",
    "\n",
    "print(results)\n"
   ]
  },
  {
   "cell_type": "code",
   "execution_count": null,
   "id": "0e5ca38b",
   "metadata": {},
   "outputs": [],
   "source": []
  },
  {
   "cell_type": "code",
   "execution_count": null,
   "id": "cf384c53",
   "metadata": {},
   "outputs": [],
   "source": []
  }
 ],
 "metadata": {
  "kernelspec": {
   "display_name": "agents-course (3.12.3)",
   "language": "python",
   "name": "python3"
  },
  "language_info": {
   "codemirror_mode": {
    "name": "ipython",
    "version": 3
   },
   "file_extension": ".py",
   "mimetype": "text/x-python",
   "name": "python",
   "nbconvert_exporter": "python",
   "pygments_lexer": "ipython3",
   "version": "3.12.3"
  }
 },
 "nbformat": 4,
 "nbformat_minor": 5
}
