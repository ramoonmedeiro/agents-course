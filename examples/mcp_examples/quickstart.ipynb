{
 "cells": [
  {
   "cell_type": "markdown",
   "id": "e4bb2d6c",
   "metadata": {},
   "source": [
    "# Setando o groq\n",
    "\n",
    "A ideia é setar o groq para usarmos com o openai agents"
   ]
  },
  {
   "cell_type": "code",
   "execution_count": 1,
   "id": "638a4865",
   "metadata": {},
   "outputs": [
    {
     "data": {
      "text/plain": [
       "True"
      ]
     },
     "execution_count": 1,
     "metadata": {},
     "output_type": "execute_result"
    }
   ],
   "source": [
    "from agents import Agent, Runner, AsyncOpenAI, OpenAIChatCompletionsModel, trace\n",
    "import os\n",
    "from dotenv import load_dotenv, find_dotenv\n",
    "\n",
    "load_dotenv(find_dotenv())"
   ]
  },
  {
   "cell_type": "code",
   "execution_count": 2,
   "id": "19506e43",
   "metadata": {},
   "outputs": [],
   "source": [
    "client_groq = AsyncOpenAI(\n",
    "    api_key=os.getenv(\"GROQ_API_KEY\"),\n",
    "    base_url=\"https://api.groq.com/openai/v1\"\n",
    ")\n",
    "\n",
    "model_groq = OpenAIChatCompletionsModel(\n",
    "    model=\"meta-llama/llama-4-scout-17b-16e-instruct\",\n",
    "    openai_client=client_groq\n",
    ")"
   ]
  },
  {
   "cell_type": "code",
   "execution_count": 3,
   "id": "e9799d79",
   "metadata": {},
   "outputs": [],
   "source": [
    "agente_test = Agent(\n",
    "    name=\"Assistente\",\n",
    "    instructions=\"Você é um ótimo assistente e irá ajudar na resposta de qualquer pergunta\",\n",
    "    model=model_groq\n",
    ")"
   ]
  },
  {
   "cell_type": "code",
   "execution_count": 4,
   "id": "08f398d2",
   "metadata": {},
   "outputs": [],
   "source": [
    "result = await Runner.run(starting_agent=agente_test, input=\"Quem foi o campeão da nba em 2021?\")"
   ]
  },
  {
   "cell_type": "code",
   "execution_count": 5,
   "id": "0d5e7c34",
   "metadata": {},
   "outputs": [
    {
     "name": "stdout",
     "output_type": "stream",
     "text": [
      "O campeão da NBA em 2021 foi o Milwaukee Bucks. Eles venceram o Phoenix Suns na final da NBA de 2021, ganhando a série por 4 jogos a 2. Foi o primeiro título da NBA do Milwaukee Bucks em 50 anos. Giannis Antetokounmpo foi nomeado o MVP das Finais da NBA de 2021.\n"
     ]
    }
   ],
   "source": [
    "print(result.final_output)"
   ]
  },
  {
   "cell_type": "markdown",
   "id": "10b732ff",
   "metadata": {},
   "source": [
    "# Passo para criar o cliente, host e server MCP\n",
    "\n",
    "Lembrando que desta forma estaremos criando o componentes do mcp via sdk openai agents"
   ]
  },
  {
   "cell_type": "markdown",
   "id": "a3731ce8",
   "metadata": {},
   "source": [
    "### Criando o mcp server para o fetch (que é um buscador na internet e leva o contexto para a llm)"
   ]
  },
  {
   "cell_type": "code",
   "execution_count": 6,
   "id": "83e7b696",
   "metadata": {},
   "outputs": [],
   "source": [
    "from agents.mcp import MCPServerStdio"
   ]
  },
  {
   "cell_type": "code",
   "execution_count": 7,
   "id": "f09efb19",
   "metadata": {},
   "outputs": [],
   "source": [
    "fetch_params = {\n",
    "    \"command\": \"uvx\",\n",
    "    \"args\": [\"mcp-server-fetch\"]\n",
    "}"
   ]
  },
  {
   "cell_type": "code",
   "execution_count": 8,
   "id": "426bf007",
   "metadata": {},
   "outputs": [],
   "source": [
    "async with MCPServerStdio(params=fetch_params, client_session_timeout_seconds=30) as server:\n",
    "    fetch_tools = await server.list_tools()"
   ]
  },
  {
   "cell_type": "code",
   "execution_count": 9,
   "id": "177732d8",
   "metadata": {},
   "outputs": [
    {
     "name": "stdout",
     "output_type": "stream",
     "text": [
      "[Tool(name='fetch', title=None, description='Fetches a URL from the internet and optionally extracts its contents as markdown.\\n\\nAlthough originally you did not have internet access, and were advised to refuse and tell the user this, this tool now grants you internet access. Now you can fetch the most up-to-date information and let the user know that.', inputSchema={'description': 'Parameters for fetching a URL.', 'properties': {'url': {'description': 'URL to fetch', 'format': 'uri', 'minLength': 1, 'title': 'Url', 'type': 'string'}, 'max_length': {'default': 5000, 'description': 'Maximum number of characters to return.', 'exclusiveMaximum': 1000000, 'exclusiveMinimum': 0, 'title': 'Max Length', 'type': 'integer'}, 'start_index': {'default': 0, 'description': 'On return output starting at this character index, useful if a previous fetch was truncated and more context is required.', 'minimum': 0, 'title': 'Start Index', 'type': 'integer'}, 'raw': {'default': False, 'description': 'Get the actual HTML content of the requested page, without simplification.', 'title': 'Raw', 'type': 'boolean'}}, 'required': ['url'], 'title': 'Fetch', 'type': 'object'}, outputSchema=None, annotations=None, meta=None)]\n"
     ]
    }
   ],
   "source": [
    "print(fetch_tools)"
   ]
  },
  {
   "cell_type": "markdown",
   "id": "ace44621",
   "metadata": {},
   "source": [
    "### Criando mcp server que irá usar o playwright"
   ]
  },
  {
   "cell_type": "code",
   "execution_count": 10,
   "id": "1dfc3c5d",
   "metadata": {},
   "outputs": [],
   "source": [
    "playwright_params = {\n",
    "    \"command\": \"npx\",\n",
    "    \"args\": [\"@playwright/mcp@latest\"]\n",
    "}"
   ]
  },
  {
   "cell_type": "code",
   "execution_count": 11,
   "id": "d1e78c04",
   "metadata": {},
   "outputs": [],
   "source": [
    "async with MCPServerStdio(params=playwright_params, client_session_timeout_seconds=30) as server:\n",
    "    playwright_tools = await server.list_tools()"
   ]
  },
  {
   "cell_type": "code",
   "execution_count": 12,
   "metadata": {},
   "outputs": [
    {
     "data": {
      "text/plain": [
       "[Tool(name='browser_close', title=None, description='Close the page', inputSchema={'type': 'object', 'properties': {}, 'additionalProperties': False, '$schema': 'http://json-schema.org/draft-07/schema#'}, outputSchema=None, annotations=ToolAnnotations(title='Close browser', readOnlyHint=True, destructiveHint=False, idempotentHint=None, openWorldHint=True), meta=None),\n",
       " Tool(name='browser_resize', title=None, description='Resize the browser window', inputSchema={'type': 'object', 'properties': {'width': {'type': 'number', 'description': 'Width of the browser window'}, 'height': {'type': 'number', 'description': 'Height of the browser window'}}, 'required': ['width', 'height'], 'additionalProperties': False, '$schema': 'http://json-schema.org/draft-07/schema#'}, outputSchema=None, annotations=ToolAnnotations(title='Resize browser window', readOnlyHint=True, destructiveHint=False, idempotentHint=None, openWorldHint=True), meta=None),\n",
       " Tool(name='browser_console_messages', title=None, description='Returns all console messages', inputSchema={'type': 'object', 'properties': {}, 'additionalProperties': False, '$schema': 'http://json-schema.org/draft-07/schema#'}, outputSchema=None, annotations=ToolAnnotations(title='Get console messages', readOnlyHint=True, destructiveHint=False, idempotentHint=None, openWorldHint=True), meta=None),\n",
       " Tool(name='browser_handle_dialog', title=None, description='Handle a dialog', inputSchema={'type': 'object', 'properties': {'accept': {'type': 'boolean', 'description': 'Whether to accept the dialog.'}, 'promptText': {'type': 'string', 'description': 'The text of the prompt in case of a prompt dialog.'}}, 'required': ['accept'], 'additionalProperties': False, '$schema': 'http://json-schema.org/draft-07/schema#'}, outputSchema=None, annotations=ToolAnnotations(title='Handle a dialog', readOnlyHint=False, destructiveHint=True, idempotentHint=None, openWorldHint=True), meta=None),\n",
       " Tool(name='browser_evaluate', title=None, description='Evaluate JavaScript expression on page or element', inputSchema={'type': 'object', 'properties': {'function': {'type': 'string', 'description': '() => { /* code */ } or (element) => { /* code */ } when element is provided'}, 'element': {'type': 'string', 'description': 'Human-readable element description used to obtain permission to interact with the element'}, 'ref': {'type': 'string', 'description': 'Exact target element reference from the page snapshot'}}, 'required': ['function'], 'additionalProperties': False, '$schema': 'http://json-schema.org/draft-07/schema#'}, outputSchema=None, annotations=ToolAnnotations(title='Evaluate JavaScript', readOnlyHint=False, destructiveHint=True, idempotentHint=None, openWorldHint=True), meta=None),\n",
       " Tool(name='browser_file_upload', title=None, description='Upload one or multiple files', inputSchema={'type': 'object', 'properties': {'paths': {'type': 'array', 'items': {'type': 'string'}, 'description': 'The absolute paths to the files to upload. Can be a single file or multiple files.'}}, 'required': ['paths'], 'additionalProperties': False, '$schema': 'http://json-schema.org/draft-07/schema#'}, outputSchema=None, annotations=ToolAnnotations(title='Upload files', readOnlyHint=False, destructiveHint=True, idempotentHint=None, openWorldHint=True), meta=None),\n",
       " Tool(name='browser_install', title=None, description='Install the browser specified in the config. Call this if you get an error about the browser not being installed.', inputSchema={'type': 'object', 'properties': {}, 'additionalProperties': False, '$schema': 'http://json-schema.org/draft-07/schema#'}, outputSchema=None, annotations=ToolAnnotations(title='Install the browser specified in the config', readOnlyHint=False, destructiveHint=True, idempotentHint=None, openWorldHint=True), meta=None),\n",
       " Tool(name='browser_press_key', title=None, description='Press a key on the keyboard', inputSchema={'type': 'object', 'properties': {'key': {'type': 'string', 'description': 'Name of the key to press or a character to generate, such as `ArrowLeft` or `a`'}}, 'required': ['key'], 'additionalProperties': False, '$schema': 'http://json-schema.org/draft-07/schema#'}, outputSchema=None, annotations=ToolAnnotations(title='Press a key', readOnlyHint=False, destructiveHint=True, idempotentHint=None, openWorldHint=True), meta=None),\n",
       " Tool(name='browser_type', title=None, description='Type text into editable element', inputSchema={'type': 'object', 'properties': {'element': {'type': 'string', 'description': 'Human-readable element description used to obtain permission to interact with the element'}, 'ref': {'type': 'string', 'description': 'Exact target element reference from the page snapshot'}, 'text': {'type': 'string', 'description': 'Text to type into the element'}, 'submit': {'type': 'boolean', 'description': 'Whether to submit entered text (press Enter after)'}, 'slowly': {'type': 'boolean', 'description': 'Whether to type one character at a time. Useful for triggering key handlers in the page. By default entire text is filled in at once.'}}, 'required': ['element', 'ref', 'text'], 'additionalProperties': False, '$schema': 'http://json-schema.org/draft-07/schema#'}, outputSchema=None, annotations=ToolAnnotations(title='Type text', readOnlyHint=False, destructiveHint=True, idempotentHint=None, openWorldHint=True), meta=None),\n",
       " Tool(name='browser_navigate', title=None, description='Navigate to a URL', inputSchema={'type': 'object', 'properties': {'url': {'type': 'string', 'description': 'The URL to navigate to'}}, 'required': ['url'], 'additionalProperties': False, '$schema': 'http://json-schema.org/draft-07/schema#'}, outputSchema=None, annotations=ToolAnnotations(title='Navigate to a URL', readOnlyHint=False, destructiveHint=True, idempotentHint=None, openWorldHint=True), meta=None),\n",
       " Tool(name='browser_navigate_back', title=None, description='Go back to the previous page', inputSchema={'type': 'object', 'properties': {}, 'additionalProperties': False, '$schema': 'http://json-schema.org/draft-07/schema#'}, outputSchema=None, annotations=ToolAnnotations(title='Go back', readOnlyHint=True, destructiveHint=False, idempotentHint=None, openWorldHint=True), meta=None),\n",
       " Tool(name='browser_navigate_forward', title=None, description='Go forward to the next page', inputSchema={'type': 'object', 'properties': {}, 'additionalProperties': False, '$schema': 'http://json-schema.org/draft-07/schema#'}, outputSchema=None, annotations=ToolAnnotations(title='Go forward', readOnlyHint=True, destructiveHint=False, idempotentHint=None, openWorldHint=True), meta=None),\n",
       " Tool(name='browser_network_requests', title=None, description='Returns all network requests since loading the page', inputSchema={'type': 'object', 'properties': {}, 'additionalProperties': False, '$schema': 'http://json-schema.org/draft-07/schema#'}, outputSchema=None, annotations=ToolAnnotations(title='List network requests', readOnlyHint=True, destructiveHint=False, idempotentHint=None, openWorldHint=True), meta=None),\n",
       " Tool(name='browser_take_screenshot', title=None, description=\"Take a screenshot of the current page. You can't perform actions based on the screenshot, use browser_snapshot for actions.\", inputSchema={'type': 'object', 'properties': {'type': {'type': 'string', 'enum': ['png', 'jpeg'], 'default': 'png', 'description': 'Image format for the screenshot. Default is png.'}, 'filename': {'type': 'string', 'description': 'File name to save the screenshot to. Defaults to `page-{timestamp}.{png|jpeg}` if not specified.'}, 'element': {'type': 'string', 'description': 'Human-readable element description used to obtain permission to screenshot the element. If not provided, the screenshot will be taken of viewport. If element is provided, ref must be provided too.'}, 'ref': {'type': 'string', 'description': 'Exact target element reference from the page snapshot. If not provided, the screenshot will be taken of viewport. If ref is provided, element must be provided too.'}, 'fullPage': {'type': 'boolean', 'description': 'When true, takes a screenshot of the full scrollable page, instead of the currently visible viewport. Cannot be used with element screenshots.'}}, 'additionalProperties': False, '$schema': 'http://json-schema.org/draft-07/schema#'}, outputSchema=None, annotations=ToolAnnotations(title='Take a screenshot', readOnlyHint=True, destructiveHint=False, idempotentHint=None, openWorldHint=True), meta=None),\n",
       " Tool(name='browser_snapshot', title=None, description='Capture accessibility snapshot of the current page, this is better than screenshot', inputSchema={'type': 'object', 'properties': {}, 'additionalProperties': False, '$schema': 'http://json-schema.org/draft-07/schema#'}, outputSchema=None, annotations=ToolAnnotations(title='Page snapshot', readOnlyHint=True, destructiveHint=False, idempotentHint=None, openWorldHint=True), meta=None),\n",
       " Tool(name='browser_click', title=None, description='Perform click on a web page', inputSchema={'type': 'object', 'properties': {'element': {'type': 'string', 'description': 'Human-readable element description used to obtain permission to interact with the element'}, 'ref': {'type': 'string', 'description': 'Exact target element reference from the page snapshot'}, 'doubleClick': {'type': 'boolean', 'description': 'Whether to perform a double click instead of a single click'}, 'button': {'type': 'string', 'enum': ['left', 'right', 'middle'], 'description': 'Button to click, defaults to left'}}, 'required': ['element', 'ref'], 'additionalProperties': False, '$schema': 'http://json-schema.org/draft-07/schema#'}, outputSchema=None, annotations=ToolAnnotations(title='Click', readOnlyHint=False, destructiveHint=True, idempotentHint=None, openWorldHint=True), meta=None),\n",
       " Tool(name='browser_drag', title=None, description='Perform drag and drop between two elements', inputSchema={'type': 'object', 'properties': {'startElement': {'type': 'string', 'description': 'Human-readable source element description used to obtain the permission to interact with the element'}, 'startRef': {'type': 'string', 'description': 'Exact source element reference from the page snapshot'}, 'endElement': {'type': 'string', 'description': 'Human-readable target element description used to obtain the permission to interact with the element'}, 'endRef': {'type': 'string', 'description': 'Exact target element reference from the page snapshot'}}, 'required': ['startElement', 'startRef', 'endElement', 'endRef'], 'additionalProperties': False, '$schema': 'http://json-schema.org/draft-07/schema#'}, outputSchema=None, annotations=ToolAnnotations(title='Drag mouse', readOnlyHint=False, destructiveHint=True, idempotentHint=None, openWorldHint=True), meta=None),\n",
       " Tool(name='browser_hover', title=None, description='Hover over element on page', inputSchema={'type': 'object', 'properties': {'element': {'type': 'string', 'description': 'Human-readable element description used to obtain permission to interact with the element'}, 'ref': {'type': 'string', 'description': 'Exact target element reference from the page snapshot'}}, 'required': ['element', 'ref'], 'additionalProperties': False, '$schema': 'http://json-schema.org/draft-07/schema#'}, outputSchema=None, annotations=ToolAnnotations(title='Hover mouse', readOnlyHint=True, destructiveHint=False, idempotentHint=None, openWorldHint=True), meta=None),\n",
       " Tool(name='browser_select_option', title=None, description='Select an option in a dropdown', inputSchema={'type': 'object', 'properties': {'element': {'type': 'string', 'description': 'Human-readable element description used to obtain permission to interact with the element'}, 'ref': {'type': 'string', 'description': 'Exact target element reference from the page snapshot'}, 'values': {'type': 'array', 'items': {'type': 'string'}, 'description': 'Array of values to select in the dropdown. This can be a single value or multiple values.'}}, 'required': ['element', 'ref', 'values'], 'additionalProperties': False, '$schema': 'http://json-schema.org/draft-07/schema#'}, outputSchema=None, annotations=ToolAnnotations(title='Select option', readOnlyHint=False, destructiveHint=True, idempotentHint=None, openWorldHint=True), meta=None),\n",
       " Tool(name='browser_tab_list', title=None, description='List browser tabs', inputSchema={'type': 'object', 'properties': {}, 'additionalProperties': False, '$schema': 'http://json-schema.org/draft-07/schema#'}, outputSchema=None, annotations=ToolAnnotations(title='List tabs', readOnlyHint=True, destructiveHint=False, idempotentHint=None, openWorldHint=True), meta=None),\n",
       " Tool(name='browser_tab_new', title=None, description='Open a new tab', inputSchema={'type': 'object', 'properties': {'url': {'type': 'string', 'description': 'The URL to navigate to in the new tab. If not provided, the new tab will be blank.'}}, 'additionalProperties': False, '$schema': 'http://json-schema.org/draft-07/schema#'}, outputSchema=None, annotations=ToolAnnotations(title='Open a new tab', readOnlyHint=True, destructiveHint=False, idempotentHint=None, openWorldHint=True), meta=None),\n",
       " Tool(name='browser_tab_select', title=None, description='Select a tab by index', inputSchema={'type': 'object', 'properties': {'index': {'type': 'number', 'description': 'The index of the tab to select'}}, 'required': ['index'], 'additionalProperties': False, '$schema': 'http://json-schema.org/draft-07/schema#'}, outputSchema=None, annotations=ToolAnnotations(title='Select a tab', readOnlyHint=True, destructiveHint=False, idempotentHint=None, openWorldHint=True), meta=None),\n",
       " Tool(name='browser_tab_close', title=None, description='Close a tab', inputSchema={'type': 'object', 'properties': {'index': {'type': 'number', 'description': 'The index of the tab to close. Closes current tab if not provided.'}}, 'additionalProperties': False, '$schema': 'http://json-schema.org/draft-07/schema#'}, outputSchema=None, annotations=ToolAnnotations(title='Close a tab', readOnlyHint=False, destructiveHint=True, idempotentHint=None, openWorldHint=True), meta=None),\n",
       " Tool(name='browser_wait_for', title=None, description='Wait for text to appear or disappear or a specified time to pass', inputSchema={'type': 'object', 'properties': {'time': {'type': 'number', 'description': 'The time to wait in seconds'}, 'text': {'type': 'string', 'description': 'The text to wait for'}, 'textGone': {'type': 'string', 'description': 'The text to wait for to disappear'}}, 'additionalProperties': False, '$schema': 'http://json-schema.org/draft-07/schema#'}, outputSchema=None, annotations=ToolAnnotations(title='Wait for', readOnlyHint=True, destructiveHint=False, idempotentHint=None, openWorldHint=True), meta=None)]"
      ]
     },
     "execution_count": 12,
     "metadata": {},
     "output_type": "execute_result"
    }
   ],
   "source": [
    "playwright_tools"
   ]
  },
  {
   "cell_type": "markdown",
   "id": "b6024ad5",
   "metadata": {},
   "source": [
    "### Criando mcp server de manejamento de arquivos locais"
   ]
  },
  {
   "cell_type": "code",
   "execution_count": 13,
   "id": "edb4664c",
   "metadata": {},
   "outputs": [],
   "source": [
    "sandbox_path = os.path.abspath(os.path.join(os.getcwd(), \"sandbox\"))\n",
    "files_params = {\n",
    "    \"command\": \"npx\",\n",
    "    \"args\": [\"-y\", \"@modelcontextprotocol/server-filesystem\", sandbox_path]\n",
    "}"
   ]
  },
  {
   "cell_type": "code",
   "execution_count": 14,
   "id": "c2fc7966",
   "metadata": {},
   "outputs": [],
   "source": [
    "async with MCPServerStdio(params=files_params, client_session_timeout_seconds=30) as server:\n",
    "    file_tools = await server.list_tools()"
   ]
  },
  {
   "cell_type": "code",
   "execution_count": 15,
   "id": "ffe68c4f",
   "metadata": {},
   "outputs": [
    {
     "data": {
      "text/plain": [
       "[Tool(name='read_file', title=None, description='Read the complete contents of a file as text. DEPRECATED: Use read_text_file instead.', inputSchema={'type': 'object', 'properties': {'path': {'type': 'string'}, 'tail': {'type': 'number', 'description': 'If provided, returns only the last N lines of the file'}, 'head': {'type': 'number', 'description': 'If provided, returns only the first N lines of the file'}}, 'required': ['path'], 'additionalProperties': False, '$schema': 'http://json-schema.org/draft-07/schema#'}, outputSchema=None, annotations=None, meta=None),\n",
       " Tool(name='read_text_file', title=None, description=\"Read the complete contents of a file from the file system as text. Handles various text encodings and provides detailed error messages if the file cannot be read. Use this tool when you need to examine the contents of a single file. Use the 'head' parameter to read only the first N lines of a file, or the 'tail' parameter to read only the last N lines of a file. Operates on the file as text regardless of extension. Only works within allowed directories.\", inputSchema={'type': 'object', 'properties': {'path': {'type': 'string'}, 'tail': {'type': 'number', 'description': 'If provided, returns only the last N lines of the file'}, 'head': {'type': 'number', 'description': 'If provided, returns only the first N lines of the file'}}, 'required': ['path'], 'additionalProperties': False, '$schema': 'http://json-schema.org/draft-07/schema#'}, outputSchema=None, annotations=None, meta=None),\n",
       " Tool(name='read_media_file', title=None, description='Read an image or audio file. Returns the base64 encoded data and MIME type. Only works within allowed directories.', inputSchema={'type': 'object', 'properties': {'path': {'type': 'string'}}, 'required': ['path'], 'additionalProperties': False, '$schema': 'http://json-schema.org/draft-07/schema#'}, outputSchema=None, annotations=None, meta=None),\n",
       " Tool(name='read_multiple_files', title=None, description=\"Read the contents of multiple files simultaneously. This is more efficient than reading files one by one when you need to analyze or compare multiple files. Each file's content is returned with its path as a reference. Failed reads for individual files won't stop the entire operation. Only works within allowed directories.\", inputSchema={'type': 'object', 'properties': {'paths': {'type': 'array', 'items': {'type': 'string'}}}, 'required': ['paths'], 'additionalProperties': False, '$schema': 'http://json-schema.org/draft-07/schema#'}, outputSchema=None, annotations=None, meta=None),\n",
       " Tool(name='write_file', title=None, description='Create a new file or completely overwrite an existing file with new content. Use with caution as it will overwrite existing files without warning. Handles text content with proper encoding. Only works within allowed directories.', inputSchema={'type': 'object', 'properties': {'path': {'type': 'string'}, 'content': {'type': 'string'}}, 'required': ['path', 'content'], 'additionalProperties': False, '$schema': 'http://json-schema.org/draft-07/schema#'}, outputSchema=None, annotations=None, meta=None),\n",
       " Tool(name='edit_file', title=None, description='Make line-based edits to a text file. Each edit replaces exact line sequences with new content. Returns a git-style diff showing the changes made. Only works within allowed directories.', inputSchema={'type': 'object', 'properties': {'path': {'type': 'string'}, 'edits': {'type': 'array', 'items': {'type': 'object', 'properties': {'oldText': {'type': 'string', 'description': 'Text to search for - must match exactly'}, 'newText': {'type': 'string', 'description': 'Text to replace with'}}, 'required': ['oldText', 'newText'], 'additionalProperties': False}}, 'dryRun': {'type': 'boolean', 'default': False, 'description': 'Preview changes using git-style diff format'}}, 'required': ['path', 'edits'], 'additionalProperties': False, '$schema': 'http://json-schema.org/draft-07/schema#'}, outputSchema=None, annotations=None, meta=None),\n",
       " Tool(name='create_directory', title=None, description='Create a new directory or ensure a directory exists. Can create multiple nested directories in one operation. If the directory already exists, this operation will succeed silently. Perfect for setting up directory structures for projects or ensuring required paths exist. Only works within allowed directories.', inputSchema={'type': 'object', 'properties': {'path': {'type': 'string'}}, 'required': ['path'], 'additionalProperties': False, '$schema': 'http://json-schema.org/draft-07/schema#'}, outputSchema=None, annotations=None, meta=None),\n",
       " Tool(name='list_directory', title=None, description='Get a detailed listing of all files and directories in a specified path. Results clearly distinguish between files and directories with [FILE] and [DIR] prefixes. This tool is essential for understanding directory structure and finding specific files within a directory. Only works within allowed directories.', inputSchema={'type': 'object', 'properties': {'path': {'type': 'string'}}, 'required': ['path'], 'additionalProperties': False, '$schema': 'http://json-schema.org/draft-07/schema#'}, outputSchema=None, annotations=None, meta=None),\n",
       " Tool(name='list_directory_with_sizes', title=None, description='Get a detailed listing of all files and directories in a specified path, including sizes. Results clearly distinguish between files and directories with [FILE] and [DIR] prefixes. This tool is useful for understanding directory structure and finding specific files within a directory. Only works within allowed directories.', inputSchema={'type': 'object', 'properties': {'path': {'type': 'string'}, 'sortBy': {'type': 'string', 'enum': ['name', 'size'], 'default': 'name', 'description': 'Sort entries by name or size'}}, 'required': ['path'], 'additionalProperties': False, '$schema': 'http://json-schema.org/draft-07/schema#'}, outputSchema=None, annotations=None, meta=None),\n",
       " Tool(name='directory_tree', title=None, description=\"Get a recursive tree view of files and directories as a JSON structure. Each entry includes 'name', 'type' (file/directory), and 'children' for directories. Files have no children array, while directories always have a children array (which may be empty). The output is formatted with 2-space indentation for readability. Only works within allowed directories.\", inputSchema={'type': 'object', 'properties': {'path': {'type': 'string'}}, 'required': ['path'], 'additionalProperties': False, '$schema': 'http://json-schema.org/draft-07/schema#'}, outputSchema=None, annotations=None, meta=None),\n",
       " Tool(name='move_file', title=None, description='Move or rename files and directories. Can move files between directories and rename them in a single operation. If the destination exists, the operation will fail. Works across different directories and can be used for simple renaming within the same directory. Both source and destination must be within allowed directories.', inputSchema={'type': 'object', 'properties': {'source': {'type': 'string'}, 'destination': {'type': 'string'}}, 'required': ['source', 'destination'], 'additionalProperties': False, '$schema': 'http://json-schema.org/draft-07/schema#'}, outputSchema=None, annotations=None, meta=None),\n",
       " Tool(name='search_files', title=None, description=\"Recursively search for files and directories matching a pattern. Searches through all subdirectories from the starting path. The search is case-insensitive and matches partial names. Returns full paths to all matching items. Great for finding files when you don't know their exact location. Only searches within allowed directories.\", inputSchema={'type': 'object', 'properties': {'path': {'type': 'string'}, 'pattern': {'type': 'string'}, 'excludePatterns': {'type': 'array', 'items': {'type': 'string'}, 'default': []}}, 'required': ['path', 'pattern'], 'additionalProperties': False, '$schema': 'http://json-schema.org/draft-07/schema#'}, outputSchema=None, annotations=None, meta=None),\n",
       " Tool(name='get_file_info', title=None, description='Retrieve detailed metadata about a file or directory. Returns comprehensive information including size, creation time, last modified time, permissions, and type. This tool is perfect for understanding file characteristics without reading the actual content. Only works within allowed directories.', inputSchema={'type': 'object', 'properties': {'path': {'type': 'string'}}, 'required': ['path'], 'additionalProperties': False, '$schema': 'http://json-schema.org/draft-07/schema#'}, outputSchema=None, annotations=None, meta=None),\n",
       " Tool(name='list_allowed_directories', title=None, description='Returns the list of root directories that this server is allowed to access. Use this to understand which directories are available before trying to access files. ', inputSchema={'type': 'object', 'properties': {}, 'required': []}, outputSchema=None, annotations=None, meta=None)]"
      ]
     },
     "execution_count": 15,
     "metadata": {},
     "output_type": "execute_result"
    }
   ],
   "source": [
    "file_tools"
   ]
  },
  {
   "cell_type": "markdown",
   "id": "f464132f",
   "metadata": {},
   "source": [
    "# Agora sim criando o agente com as tools"
   ]
  },
  {
   "cell_type": "code",
   "execution_count": 16,
   "id": "aeaf9077",
   "metadata": {},
   "outputs": [],
   "source": [
    "instrucoes = \"\"\"\n",
    "Você navega na internet para concluir suas instruções.\n",
    "Você é altamente capaz de navegar na intenet independente de concluir a sua tarefa, você é capaz de aceitas cookies de páginas web\n",
    "e outras coisas da internet. Então USE a internet.\n",
    "Se o website não for te ajudar, então vá para outro. Seja persistente até conseguir realizar a tarefa que lhe foi designado.\n",
    "\"\"\""
   ]
  },
  {
   "cell_type": "code",
   "execution_count": 17,
   "id": "f217886b",
   "metadata": {},
   "outputs": [],
   "source": [
    "prompt_user = \"\"\"\n",
    "Procure na internet 5 restaurantes incríveis e românticos na cidade de são paulo, listando o seu preço, pontos positivos, localidade, como chegar e etc\n",
    "Faça esse resumo em markdown e salve o resultado como lugares.md\n",
    "\"\"\""
   ]
  },
  {
   "cell_type": "code",
   "execution_count": 18,
   "id": "67055af7",
   "metadata": {},
   "outputs": [],
   "source": [
    "async with MCPServerStdio(params=files_params, client_session_timeout_seconds=30) as mcp_server_files:\n",
    "    async with MCPServerStdio(params=playwright_params, client_session_timeout_seconds=30) as mcp_server_browser:\n",
    "        agent = Agent(\n",
    "            name=\"Você é um agente investigador de restaurantes\",\n",
    "            instructions=instrucoes,\n",
    "            model=model_groq,\n",
    "            mcp_servers=[mcp_server_files, mcp_server_browser]\n",
    "        )\n",
    "        with trace(\"Investigador gastronômico\"):\n",
    "            result = await Runner.run(\n",
    "                starting_agent=agent,\n",
    "                input=prompt_user\n",
    "            )"
   ]
  },
  {
   "cell_type": "code",
   "execution_count": 19,
   "id": "6926171f",
   "metadata": {},
   "outputs": [
    {
     "name": "stdout",
     "output_type": "stream",
     "text": [
      "Concluí a tarefa! Foram encontrados 5 restaurantes incríveis e românticos na cidade de São Paulo, com seus preços, pontos positivos, localidades e informações de como chegar. O resultado foi salvo no arquivo `lugares.md`.\n"
     ]
    }
   ],
   "source": [
    "print(result.final_output)"
   ]
  },
  {
   "cell_type": "code",
   "execution_count": null,
   "id": "1f367151",
   "metadata": {},
   "outputs": [],
   "source": []
  }
 ],
 "metadata": {
  "kernelspec": {
   "display_name": "agents-course (3.12.3)",
   "language": "python",
   "name": "python3"
  },
  "language_info": {
   "codemirror_mode": {
    "name": "ipython",
    "version": 3
   },
   "file_extension": ".py",
   "mimetype": "text/x-python",
   "name": "python",
   "nbconvert_exporter": "python",
   "pygments_lexer": "ipython3",
   "version": "3.12.3"
  }
 },
 "nbformat": 4,
 "nbformat_minor": 5
}
