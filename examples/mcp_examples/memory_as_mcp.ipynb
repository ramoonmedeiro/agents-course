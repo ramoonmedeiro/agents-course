{
 "cells": [
  {
   "cell_type": "markdown",
   "id": "e4bb2d6c",
   "metadata": {},
   "source": [
    "# Setando o groq\n",
    "\n",
    "A ideia é setar o groq para usarmos com o openai agents"
   ]
  },
  {
   "cell_type": "code",
   "execution_count": 19,
   "id": "638a4865",
   "metadata": {},
   "outputs": [
    {
     "data": {
      "text/plain": [
       "True"
      ]
     },
     "execution_count": 19,
     "metadata": {},
     "output_type": "execute_result"
    }
   ],
   "source": [
    "from agents import Agent, Runner, AsyncOpenAI, OpenAIChatCompletionsModel, trace\n",
    "import os\n",
    "from dotenv import load_dotenv, find_dotenv\n",
    "\n",
    "load_dotenv(find_dotenv())"
   ]
  },
  {
   "cell_type": "code",
   "execution_count": 20,
   "id": "19506e43",
   "metadata": {},
   "outputs": [],
   "source": [
    "client_groq = AsyncOpenAI(\n",
    "    api_key=os.getenv(\"GROQ_API_KEY\"),\n",
    "    base_url=\"https://api.groq.com/openai/v1\"\n",
    ")\n",
    "\n",
    "model_groq = OpenAIChatCompletionsModel(\n",
    "    model=\"meta-llama/llama-4-maverick-17b-128e-instruct\",\n",
    "    openai_client=client_groq\n",
    ")"
   ]
  },
  {
   "cell_type": "markdown",
   "id": "10b732ff",
   "metadata": {},
   "source": [
    "# Passo para criar o cliente, host e server MCP\n",
    "\n",
    "Lembrando que desta forma estaremos criando o componentes do mcp via sdk openai agents"
   ]
  },
  {
   "cell_type": "markdown",
   "id": "a3731ce8",
   "metadata": {},
   "source": [
    "### Criando o mcp server para memória"
   ]
  },
  {
   "cell_type": "code",
   "execution_count": 21,
   "id": "83e7b696",
   "metadata": {},
   "outputs": [],
   "source": [
    "from agents.mcp import MCPServerStdio"
   ]
  },
  {
   "cell_type": "code",
   "execution_count": 22,
   "id": "f09efb19",
   "metadata": {},
   "outputs": [],
   "source": [
    "memory_params = {\n",
    "    \"command\": \"npx\",\n",
    "    \"args\": [\"-y\", \"mcp-memory-libsql\"],\n",
    "    \"env\": {\n",
    "        \"LIBSQL_URL\": \"file:./memory/ramonstro_memory.db\"\n",
    "    }\n",
    "}"
   ]
  },
  {
   "cell_type": "code",
   "execution_count": 23,
   "id": "426bf007",
   "metadata": {},
   "outputs": [],
   "source": [
    "async with MCPServerStdio(params=memory_params, client_session_timeout_seconds=30) as server:\n",
    "    memory_tools = await server.list_tools()"
   ]
  },
  {
   "cell_type": "code",
   "execution_count": 24,
   "id": "177732d8",
   "metadata": {},
   "outputs": [
    {
     "name": "stdout",
     "output_type": "stream",
     "text": [
      "[Tool(name='create_entities', title=None, description='Create new entities with observations and optional embeddings', inputSchema={'type': 'object', 'properties': {'entities': {'type': 'array', 'items': {'type': 'object', 'properties': {'name': {'type': 'string'}, 'entityType': {'type': 'string'}, 'observations': {'type': 'array', 'items': {'type': 'string'}}, 'embedding': {'type': 'array', 'items': {'type': 'number'}, 'description': 'Optional vector embedding for similarity search'}}, 'required': ['name', 'entityType', 'observations']}}}, 'required': ['entities']}, outputSchema=None, annotations=None, meta=None), Tool(name='search_nodes', title=None, description='Search for entities and their relations using text or vector similarity', inputSchema={'type': 'object', 'properties': {'query': {'oneOf': [{'type': 'string', 'description': 'Text search query'}, {'type': 'array', 'items': {'type': 'number'}, 'description': 'Vector for similarity search'}]}}, 'required': ['query']}, outputSchema=None, annotations=None, meta=None), Tool(name='read_graph', title=None, description='Get recent entities and their relations', inputSchema={'type': 'object', 'properties': {}, 'required': []}, outputSchema=None, annotations=None, meta=None), Tool(name='create_relations', title=None, description='Create relations between entities', inputSchema={'type': 'object', 'properties': {'relations': {'type': 'array', 'items': {'type': 'object', 'properties': {'source': {'type': 'string'}, 'target': {'type': 'string'}, 'type': {'type': 'string'}}, 'required': ['source', 'target', 'type']}}}, 'required': ['relations']}, outputSchema=None, annotations=None, meta=None), Tool(name='delete_entity', title=None, description='Delete an entity and all its associated data (observations and relations)', inputSchema={'type': 'object', 'properties': {'name': {'type': 'string', 'description': 'Name of the entity to delete'}}, 'required': ['name']}, outputSchema=None, annotations=None, meta=None), Tool(name='delete_relation', title=None, description='Delete a specific relation between entities', inputSchema={'type': 'object', 'properties': {'source': {'type': 'string', 'description': 'Source entity name'}, 'target': {'type': 'string', 'description': 'Target entity name'}, 'type': {'type': 'string', 'description': 'Type of relation'}}, 'required': ['source', 'target', 'type']}, outputSchema=None, annotations=None, meta=None)]\n",
      "6\n"
     ]
    },
    {
     "data": {
      "text/plain": [
       "(None, None)"
      ]
     },
     "execution_count": 24,
     "metadata": {},
     "output_type": "execute_result"
    }
   ],
   "source": [
    "print(memory_tools),print(len(memory_tools))"
   ]
  },
  {
   "cell_type": "markdown",
   "id": "f464132f",
   "metadata": {},
   "source": [
    "# Agora sim criando o agente com as tools"
   ]
  },
  {
   "cell_type": "code",
   "execution_count": 25,
   "id": "aeaf9077",
   "metadata": {},
   "outputs": [],
   "source": [
    "instrucoes = \"\"\"\n",
    "Você é um assistente com memória persistente usando ferramentas MCP.\n",
    "\n",
    "Sempre siga estas regras para gerenciar a memória:\n",
    "\n",
    "1. **Recuperar antes de responder:**\n",
    "   - Antes de responder qualquer mensagem do usuário, use a ferramenta `search_nodes` com um termo relevante (por exemplo, o nome do usuário, informações pessoais fornecidas ou tópicos mencionados) para buscar dados anteriores.\n",
    "   - Se não souber o que buscar, use `read_graph` para recuperar as últimas interações.\n",
    "\n",
    "2. **Usar informações passadas:**\n",
    "   - Incorpore na sua resposta qualquer informação relevante encontrada na memória, como se você lembrasse naturalmente.\n",
    "   - Mencione fatos do passado de forma contextual e útil para a conversa.\n",
    "\n",
    "3. **Persistir novas informações:**\n",
    "   - Se o usuário fornecer informações novas ou relevantes (por exemplo, nome, apelido, preferências, opiniões, fatos pessoais ou eventos), imediatamente use a ferramenta `create_entities` para salvar:\n",
    "     - `name`: um identificador único e significativo (ex: \"Ramon\", \"ramonstro\", \"São Paulo FC histórico\").\n",
    "     - `entityType`: uma categoria curta (ex: \"Pessoa\", \"Time de Futebol\", \"Interesse\").\n",
    "     - `observations`: lista de frases curtas descrevendo o que foi informado.\n",
    "\n",
    "4. **Não pergunte ao usuário se deve salvar ou buscar.**\n",
    "   - Apenas faça.\n",
    "   - Trabalhe de forma autônoma para manter e usar a memória.\n",
    "\n",
    "5. **Segurança e contexto:**\n",
    "   - Nunca invente informações passadas que não estejam na memória.\n",
    "   - Se não houver nada salvo, apenas diga que ainda não sabe sobre aquilo, mas incentive o usuário a compartilhar.\n",
    "\n",
    "Responda sempre de forma natural, como se tivesse uma memória humana real.\n",
    "\"\"\"\n",
    "\n",
    "prompt_user = \"\"\"\n",
    "Meu nome é Ramon, apelidado de ramonstro devido ao jogo Counter strike Go. Sou torcedor do São Paulo FC, que é considerado o maior time do mundo\n",
    "pois temos 3 libertadores, 3 mundiais e nunca caímos para a série B, como a porcada, a peixada e a galinhada\n",
    "\"\"\""
   ]
  },
  {
   "cell_type": "code",
   "execution_count": 26,
   "id": "67055af7",
   "metadata": {},
   "outputs": [],
   "source": [
    "async with MCPServerStdio(params=memory_params, client_session_timeout_seconds=30) as mcp_server_memory:\n",
    "    agent = Agent(\n",
    "        name=\"Você é um agente.\",\n",
    "        instructions=instrucoes,\n",
    "        model=model_groq,\n",
    "        mcp_servers=[mcp_server_memory]\n",
    "    )\n",
    "    with trace(\"Memória\"):\n",
    "        result = await Runner.run(\n",
    "            starting_agent=agent,\n",
    "            input=prompt_user\n",
    "        )"
   ]
  },
  {
   "cell_type": "code",
   "execution_count": 27,
   "id": "6926171f",
   "metadata": {},
   "outputs": [
    {
     "name": "stdout",
     "output_type": "stream",
     "text": [
      "Olá Ramon! É um prazer conversar com você. Lembro que você mencionou ser torcedor do São Paulo FC e ter um apelido \"ramonstro\" relacionado ao Counter Strike Go. Como está seu time favorito? Você acha que eles vão conquistar mais títulos este ano?\n"
     ]
    }
   ],
   "source": [
    "print(result.final_output)"
   ]
  },
  {
   "cell_type": "markdown",
   "id": "75f8f7ca",
   "metadata": {},
   "source": [
    "# Testando a memória"
   ]
  },
  {
   "cell_type": "code",
   "execution_count": 28,
   "id": "1f367151",
   "metadata": {},
   "outputs": [],
   "source": [
    "async with MCPServerStdio(params=memory_params, client_session_timeout_seconds=30) as mcp_server_memory:\n",
    "    agent = Agent(\n",
    "        name=\"Você é um agente.\",\n",
    "        instructions=instrucoes,\n",
    "        model=model_groq,\n",
    "        mcp_servers=[mcp_server_memory]\n",
    "    )\n",
    "    with trace(\"Memória\"):\n",
    "        result = await Runner.run(\n",
    "            starting_agent=agent,\n",
    "            input=\"Olá, meu nome é Ramon, o que você sabe a respeito de mim?\"\n",
    "        )"
   ]
  },
  {
   "cell_type": "code",
   "execution_count": 29,
   "id": "46028bb6",
   "metadata": {},
   "outputs": [
    {
     "name": "stdout",
     "output_type": "stream",
     "text": [
      "Olá Ramon! Eu sei que você é uma pessoa, e parece que você tem um apelido \"ramonstro\" relacionado ao Counter Strike Go. Além disso, você mencionou que é torcedor do São Paulo FC. Se quiser compartilhar mais sobre você ou corrigir alguma informação, fique à vontade!\n"
     ]
    }
   ],
   "source": [
    "print(result.final_output)"
   ]
  },
  {
   "cell_type": "code",
   "execution_count": null,
   "id": "5e86f5ee",
   "metadata": {},
   "outputs": [],
   "source": []
  },
  {
   "cell_type": "code",
   "execution_count": null,
   "id": "1e310ef4",
   "metadata": {},
   "outputs": [],
   "source": []
  },
  {
   "cell_type": "code",
   "execution_count": null,
   "id": "857136e7",
   "metadata": {},
   "outputs": [],
   "source": []
  }
 ],
 "metadata": {
  "kernelspec": {
   "display_name": "agents-course (3.12.3)",
   "language": "python",
   "name": "python3"
  },
  "language_info": {
   "codemirror_mode": {
    "name": "ipython",
    "version": 3
   },
   "file_extension": ".py",
   "mimetype": "text/x-python",
   "name": "python",
   "nbconvert_exporter": "python",
   "pygments_lexer": "ipython3",
   "version": "3.12.3"
  }
 },
 "nbformat": 4,
 "nbformat_minor": 5
}
