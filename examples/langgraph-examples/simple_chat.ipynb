{
 "cells": [
  {
   "cell_type": "code",
   "execution_count": 1,
   "id": "4382db08",
   "metadata": {},
   "outputs": [
    {
     "name": "stderr",
     "output_type": "stream",
     "text": [
      "/home/rmede/projects/agents-course/.venv/lib/python3.12/site-packages/tqdm/auto.py:21: TqdmWarning: IProgress not found. Please update jupyter and ipywidgets. See https://ipywidgets.readthedocs.io/en/stable/user_install.html\n",
      "  from .autonotebook import tqdm as notebook_tqdm\n"
     ]
    },
    {
     "data": {
      "text/plain": [
       "True"
      ]
     },
     "execution_count": 1,
     "metadata": {},
     "output_type": "execute_result"
    }
   ],
   "source": [
    "# langgraph\n",
    "from langgraph.graph import StateGraph, START, END\n",
    "from langgraph.graph.message import add_messages\n",
    "\n",
    "# langchain\n",
    "from langchain_groq import ChatGroq\n",
    "\n",
    "# pydantic\n",
    "from pydantic import BaseModel\n",
    "\n",
    "# others\n",
    "from typing import Annotated\n",
    "import random\n",
    "import gradio as gr\n",
    "from IPython.display import Image, display\n",
    "\n",
    "import os\n",
    "from dotenv import load_dotenv, find_dotenv\n",
    "\n",
    "load_dotenv(find_dotenv())"
   ]
  },
  {
   "cell_type": "markdown",
   "id": "18f505da",
   "metadata": {},
   "source": [
    "# Criando o estado"
   ]
  },
  {
   "cell_type": "code",
   "execution_count": 2,
   "id": "8fc68ce2",
   "metadata": {},
   "outputs": [],
   "source": [
    "class State(BaseModel):\n",
    "    messages: Annotated[list, add_messages]"
   ]
  },
  {
   "cell_type": "markdown",
   "id": "b732cd10",
   "metadata": {},
   "source": [
    "# Iniciando o construtor de grafo"
   ]
  },
  {
   "cell_type": "code",
   "execution_count": 3,
   "id": "9ffee351",
   "metadata": {},
   "outputs": [],
   "source": [
    "graph_builder = StateGraph(State)"
   ]
  },
  {
   "cell_type": "markdown",
   "id": "0c3aa42d",
   "metadata": {},
   "source": [
    "# Criando nó"
   ]
  },
  {
   "cell_type": "code",
   "execution_count": 5,
   "id": "93b9b58b",
   "metadata": {},
   "outputs": [],
   "source": [
    "llm = ChatGroq(\n",
    "    model=\"meta-llama/llama-4-scout-17b-16e-instruct\",\n",
    "    temperature=0,\n",
    "    max_tokens=300\n",
    ")"
   ]
  },
  {
   "cell_type": "code",
   "execution_count": 6,
   "id": "6d4940ae",
   "metadata": {},
   "outputs": [
    {
     "data": {
      "text/plain": [
       "<langgraph.graph.state.StateGraph at 0x7233ba4bdc70>"
      ]
     },
     "execution_count": 6,
     "metadata": {},
     "output_type": "execute_result"
    }
   ],
   "source": [
    "def chatbot_node(old_state: State) -> State:\n",
    "    response = llm.invoke(old_state.messages)\n",
    "    new_state = State(messages=[response])\n",
    "    return new_state\n",
    "\n",
    "graph_builder.add_node(\"chatbot_node\", chatbot_node)"
   ]
  },
  {
   "cell_type": "markdown",
   "id": "e9ecc012",
   "metadata": {},
   "source": [
    "# Criando edges"
   ]
  },
  {
   "cell_type": "code",
   "execution_count": 7,
   "id": "7060bc8b",
   "metadata": {},
   "outputs": [
    {
     "data": {
      "text/plain": [
       "<langgraph.graph.state.StateGraph at 0x7233ba4bdc70>"
      ]
     },
     "execution_count": 7,
     "metadata": {},
     "output_type": "execute_result"
    }
   ],
   "source": [
    "graph_builder.add_edge(START, \"chatbot_node\")\n",
    "graph_builder.add_edge(\"chatbot_node\", END)"
   ]
  },
  {
   "cell_type": "markdown",
   "id": "e5a34981",
   "metadata": {},
   "source": [
    "# Compilando o grafo"
   ]
  },
  {
   "cell_type": "code",
   "execution_count": 8,
   "id": "af490cdb",
   "metadata": {},
   "outputs": [],
   "source": [
    "graph = graph_builder.compile()"
   ]
  },
  {
   "cell_type": "markdown",
   "id": "e5c517f0",
   "metadata": {},
   "source": [
    "# Rodando tudo"
   ]
  },
  {
   "cell_type": "code",
   "execution_count": null,
   "id": "7e4f1776",
   "metadata": {},
   "outputs": [
    {
     "name": "stdout",
     "output_type": "stream",
     "text": [
      "* Running on local URL:  http://127.0.0.1:7862\n",
      "* To create a public link, set `share=True` in `launch()`.\n"
     ]
    },
    {
     "data": {
      "text/html": [
       "<div><iframe src=\"http://127.0.0.1:7862/\" width=\"100%\" height=\"500\" allow=\"autoplay; camera; microphone; clipboard-read; clipboard-write;\" frameborder=\"0\" allowfullscreen></iframe></div>"
      ],
      "text/plain": [
       "<IPython.core.display.HTML object>"
      ]
     },
     "metadata": {},
     "output_type": "display_data"
    },
    {
     "data": {
      "text/plain": []
     },
     "execution_count": 9,
     "metadata": {},
     "output_type": "execute_result"
    },
    {
     "name": "stdout",
     "output_type": "stream",
     "text": [
      "{'messages': [HumanMessage(content='Olá, tudo bem?', additional_kwargs={}, response_metadata={}, id='b9f6f2b3-c36d-4fc8-a6f5-edb1361893d0'), AIMessage(content='Tudo bem, sim! É um prazer conversar com você! Como posso ajudar hoje?', additional_kwargs={}, response_metadata={'token_usage': {'completion_tokens': 21, 'prompt_tokens': 16, 'total_tokens': 37, 'completion_time': 0.049630323, 'prompt_time': 0.002563934, 'queue_time': 0.268819944, 'total_time': 0.052194257}, 'model_name': 'meta-llama/llama-4-scout-17b-16e-instruct', 'system_fingerprint': 'fp_42ae451038', 'service_tier': 'on_demand', 'finish_reason': 'stop', 'logprobs': None}, id='run--396f8cce-5567-4039-bb03-8d480d518274-0', usage_metadata={'input_tokens': 16, 'output_tokens': 21, 'total_tokens': 37})]}\n",
      "{'messages': [HumanMessage(content='Gostaria de saber quem foi o campeão da NBA em 2000', additional_kwargs={}, response_metadata={}, id='8e312767-ad8e-451a-bc23-2307374aa88c'), AIMessage(content=\"O campeão da NBA em 2000 foi o Los Angeles Lakers. Eles venceram o Indiana Pacers na final da NBA, ganhando a série por 4 jogos a 2. Esta foi a primeira vitória dos Lakers em 12 anos e marcou o início de uma dinastia liderada por Shaquille O'Neal e Kobe Bryant.\", additional_kwargs={}, response_metadata={'token_usage': {'completion_tokens': 73, 'prompt_tokens': 24, 'total_tokens': 97, 'completion_time': 0.183066134, 'prompt_time': 0.003182427, 'queue_time': 0.373195999, 'total_time': 0.186248561}, 'model_name': 'meta-llama/llama-4-scout-17b-16e-instruct', 'system_fingerprint': 'fp_79da0e0073', 'service_tier': 'on_demand', 'finish_reason': 'stop', 'logprobs': None}, id='run--7277cad6-50e4-446d-b88c-0ff284945d5d-0', usage_metadata={'input_tokens': 24, 'output_tokens': 73, 'total_tokens': 97})]}\n",
      "{'messages': [HumanMessage(content='Obrigado', additional_kwargs={}, response_metadata={}, id='db53b8bf-d660-4a26-b03a-de3095801486'), AIMessage(content='De nada! É um prazer ajudar. Se precisar de mais alguma coisa, basta perguntar!', additional_kwargs={}, response_metadata={'token_usage': {'completion_tokens': 21, 'prompt_tokens': 13, 'total_tokens': 34, 'completion_time': 0.047928847, 'prompt_time': 0.002582374, 'queue_time': 0.274325771, 'total_time': 0.050511221}, 'model_name': 'meta-llama/llama-4-scout-17b-16e-instruct', 'system_fingerprint': 'fp_42ae451038', 'service_tier': 'on_demand', 'finish_reason': 'stop', 'logprobs': None}, id='run--71872ceb-5d37-4184-bb5b-5a9b86a15c39-0', usage_metadata={'input_tokens': 13, 'output_tokens': 21, 'total_tokens': 34})]}\n"
     ]
    }
   ],
   "source": [
    "# Criando função apenas para rodar no gradio\n",
    "def chat(user_input: str):\n",
    "    initial_state = State(\n",
    "        messages=[\n",
    "            {\n",
    "                \"role\": \"user\",\n",
    "                \"content\": user_input\n",
    "            }\n",
    "        ]\n",
    "    )\n",
    "\n",
    "    result = graph.invoke(initial_state)\n",
    "    print(result)\n",
    "    return result[\"messages\"][-1].content\n",
    "\n",
    "gr.ChatInterface(fn=chat, type=\"messages\").launch()"
   ]
  },
  {
   "cell_type": "code",
   "execution_count": null,
   "id": "70dfef32",
   "metadata": {},
   "outputs": [],
   "source": []
  },
  {
   "cell_type": "code",
   "execution_count": null,
   "id": "6f241ce2",
   "metadata": {},
   "outputs": [],
   "source": []
  },
  {
   "cell_type": "code",
   "execution_count": null,
   "id": "e360ccdf",
   "metadata": {},
   "outputs": [],
   "source": []
  },
  {
   "cell_type": "code",
   "execution_count": null,
   "id": "c63db884",
   "metadata": {},
   "outputs": [],
   "source": []
  },
  {
   "cell_type": "code",
   "execution_count": null,
   "id": "9cd49a94",
   "metadata": {},
   "outputs": [],
   "source": []
  }
 ],
 "metadata": {
  "kernelspec": {
   "display_name": "agents-course (3.12.3)",
   "language": "python",
   "name": "python3"
  },
  "language_info": {
   "codemirror_mode": {
    "name": "ipython",
    "version": 3
   },
   "file_extension": ".py",
   "mimetype": "text/x-python",
   "name": "python",
   "nbconvert_exporter": "python",
   "pygments_lexer": "ipython3",
   "version": "3.12.3"
  }
 },
 "nbformat": 4,
 "nbformat_minor": 5
}
