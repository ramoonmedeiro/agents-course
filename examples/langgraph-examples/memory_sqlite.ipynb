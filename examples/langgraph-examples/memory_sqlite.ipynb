{
 "cells": [
  {
   "cell_type": "markdown",
   "id": "0f300fb9",
   "metadata": {},
   "source": [
    "# Usando funções"
   ]
  },
  {
   "cell_type": "markdown",
   "id": "ea554a87",
   "metadata": {},
   "source": [
    "### Função que realiza busca na internet"
   ]
  },
  {
   "cell_type": "code",
   "execution_count": 1,
   "id": "6b2b8d44",
   "metadata": {},
   "outputs": [],
   "source": [
    "from langchain_community.utilities import GoogleSerperAPIWrapper\n",
    "\n",
    "serper = GoogleSerperAPIWrapper()"
   ]
  },
  {
   "cell_type": "code",
   "execution_count": 2,
   "id": "4f968dbf",
   "metadata": {},
   "outputs": [],
   "source": [
    "from langchain.agents import Tool\n",
    "\n",
    "tool_search = Tool(\n",
    "    name=\"search tool\",\n",
    "    func=serper.run,\n",
    "    description=\"Útil para buscar coisas na internet de forma online\"\n",
    ")"
   ]
  },
  {
   "cell_type": "markdown",
   "id": "af8a0c47",
   "metadata": {},
   "source": [
    "### Função que manda mensagem no telegram"
   ]
  },
  {
   "cell_type": "code",
   "execution_count": 3,
   "id": "cf93dcc5",
   "metadata": {},
   "outputs": [],
   "source": [
    "import requests\n",
    "from dotenv import load_dotenv, find_dotenv\n",
    "import os\n",
    "\n",
    "load_dotenv(find_dotenv())\n",
    "\n",
    "chat_id = os.getenv(\"TELEGRAM_CHAT_ID\")\n",
    "token = os.getenv(\"TELEGRAM_TOKEN\")\n",
    "\n",
    "def send_message(msg):\n",
    "    \"\"\"\n",
    "    Função que manda mensagem para o telegram\n",
    "\n",
    "    ----------\n",
    "    parameters\n",
    "    ----------\n",
    "\n",
    "    msg: str\n",
    "        - parâmetro contendo a mensagem que será enviada\n",
    "    \"\"\"\n",
    "    data = {\"chat_id\": chat_id, \"text\": msg}\n",
    "    url = \"https://api.telegram.org/bot{}/sendMessage\".format(token)\n",
    "    requests.post(url, data)"
   ]
  },
  {
   "cell_type": "code",
   "execution_count": 4,
   "id": "d406476d",
   "metadata": {},
   "outputs": [],
   "source": [
    "tool_notification = Tool(\n",
    "    name=\"tool que notifica via telegram\",\n",
    "    func=send_message,\n",
    "    description=\"Função que manda mensagem para o telegram quando for pedido.\"\n",
    ")"
   ]
  },
  {
   "cell_type": "code",
   "execution_count": 5,
   "id": "c18ec309",
   "metadata": {},
   "outputs": [],
   "source": [
    "tools = [tool_search, tool_notification]"
   ]
  },
  {
   "cell_type": "markdown",
   "id": "69e953db",
   "metadata": {},
   "source": [
    "# Criando grafo"
   ]
  },
  {
   "cell_type": "code",
   "execution_count": 6,
   "id": "4382db08",
   "metadata": {},
   "outputs": [
    {
     "name": "stderr",
     "output_type": "stream",
     "text": [
      "/home/rmede/projects/agents-course/.venv/lib/python3.12/site-packages/tqdm/auto.py:21: TqdmWarning: IProgress not found. Please update jupyter and ipywidgets. See https://ipywidgets.readthedocs.io/en/stable/user_install.html\n",
      "  from .autonotebook import tqdm as notebook_tqdm\n"
     ]
    }
   ],
   "source": [
    "# langgraph\n",
    "from langgraph.graph import StateGraph, START, END\n",
    "from langgraph.prebuilt import ToolNode, tools_condition\n",
    "from langgraph.graph.message import add_messages\n",
    "from langgraph.checkpoint.memory import MemorySaver\n",
    "\n",
    "# langchain\n",
    "from langchain_groq import ChatGroq\n",
    "\n",
    "# typing\n",
    "from typing import TypedDict, Annotated\n",
    "\n",
    "# others\n",
    "import gradio as gr\n",
    "from IPython.display import Image, display"
   ]
  },
  {
   "cell_type": "markdown",
   "id": "05088960",
   "metadata": {},
   "source": [
    "# Criando a memória para ser guardada via sqlite"
   ]
  },
  {
   "cell_type": "code",
   "execution_count": 27,
   "id": "cd1c5695",
   "metadata": {},
   "outputs": [],
   "source": [
    "import sqlite3\n",
    "from langgraph.checkpoint.sqlite import SqliteSaver\n",
    "\n",
    "db_path = \"memory.db\"\n",
    "conn = sqlite3.connect(db_path, check_same_thread=False)\n",
    "sql_memory = SqliteSaver(conn=conn)"
   ]
  },
  {
   "cell_type": "markdown",
   "id": "18f505da",
   "metadata": {},
   "source": [
    "# Criando o estado"
   ]
  },
  {
   "cell_type": "code",
   "execution_count": 28,
   "id": "8fc68ce2",
   "metadata": {},
   "outputs": [],
   "source": [
    "class State(TypedDict):\n",
    "    messages: Annotated[list, add_messages]"
   ]
  },
  {
   "cell_type": "markdown",
   "id": "b732cd10",
   "metadata": {},
   "source": [
    "# Iniciando o construtor de grafo"
   ]
  },
  {
   "cell_type": "code",
   "execution_count": 29,
   "id": "9ffee351",
   "metadata": {},
   "outputs": [],
   "source": [
    "graph_builder = StateGraph(State)"
   ]
  },
  {
   "cell_type": "markdown",
   "id": "0c3aa42d",
   "metadata": {},
   "source": [
    "# Criando nó"
   ]
  },
  {
   "cell_type": "code",
   "execution_count": 30,
   "id": "93b9b58b",
   "metadata": {},
   "outputs": [],
   "source": [
    "llm = ChatGroq(\n",
    "    model=\"meta-llama/llama-4-scout-17b-16e-instruct\",\n",
    "    temperature=0,\n",
    "    max_tokens=300\n",
    ")\n",
    "\n",
    "llm_with_tools = llm.bind_tools(tools)"
   ]
  },
  {
   "cell_type": "code",
   "execution_count": 31,
   "id": "6d4940ae",
   "metadata": {},
   "outputs": [
    {
     "data": {
      "text/plain": [
       "<langgraph.graph.state.StateGraph at 0x7db2f4175130>"
      ]
     },
     "execution_count": 31,
     "metadata": {},
     "output_type": "execute_result"
    }
   ],
   "source": [
    "def chatbot_node(old_state: State) -> State:\n",
    "    # Como estamos usando o typed dict ao invés de BaseModel\n",
    "    response = llm_with_tools.invoke(old_state[\"messages\"])\n",
    "    return {\"messages\": [response]}\n",
    "\n",
    "graph_builder.add_node(\"chatbot_node\", chatbot_node)\n",
    "graph_builder.add_node(\"tools_node\", ToolNode(tools=tools))"
   ]
  },
  {
   "cell_type": "markdown",
   "id": "e9ecc012",
   "metadata": {},
   "source": [
    "# Criando edges"
   ]
  },
  {
   "cell_type": "code",
   "execution_count": 32,
   "id": "7060bc8b",
   "metadata": {},
   "outputs": [
    {
     "data": {
      "text/plain": [
       "<langgraph.graph.state.StateGraph at 0x7db2f4175130>"
      ]
     },
     "execution_count": 32,
     "metadata": {},
     "output_type": "execute_result"
    }
   ],
   "source": [
    "graph_builder.add_conditional_edges(\n",
    "    \"chatbot_node\",\n",
    "    tools_condition,\n",
    "    {\"tools\": \"tools_node\", \"__end__\": \"__end__\"}\n",
    ")\n",
    "\n",
    "graph_builder.add_edge(\"tools_node\", \"chatbot_node\")\n",
    "graph_builder.add_edge(START, \"chatbot_node\")\n"
   ]
  },
  {
   "cell_type": "markdown",
   "id": "e5a34981",
   "metadata": {},
   "source": [
    "# Compilando o grafo"
   ]
  },
  {
   "cell_type": "code",
   "execution_count": 33,
   "id": "af490cdb",
   "metadata": {},
   "outputs": [],
   "source": [
    "memory = MemorySaver()\n",
    "graph = graph_builder.compile(checkpointer=sql_memory)"
   ]
  },
  {
   "cell_type": "code",
   "execution_count": 34,
   "id": "11c4a215",
   "metadata": {},
   "outputs": [
    {
     "data": {
      "image/png": "[encoded data removed]",
      "text/plain": [
       "<IPython.core.display.Image object>"
      ]
     },
     "metadata": {},
     "output_type": "display_data"
    }
   ],
   "source": [
    "display(Image(graph.get_graph().draw_mermaid_png()))"
   ]
  },
  {
   "cell_type": "markdown",
   "id": "e5c517f0",
   "metadata": {},
   "source": [
    "# Rodando tudo"
   ]
  },
  {
   "cell_type": "code",
   "execution_count": 36,
   "id": "7e4f1776",
   "metadata": {},
   "outputs": [
    {
     "name": "stdout",
     "output_type": "stream",
     "text": [
      "{'messages': [HumanMessage(content='Olá', additional_kwargs={}, response_metadata={}, id='21ec3dec-6f93-4713-816b-aa482aefa6eb'), AIMessage(content='Olá! Como posso ajudar você hoje?', additional_kwargs={}, response_metadata={'token_usage': {'completion_tokens': 10, 'prompt_tokens': 737, 'total_tokens': 747, 'completion_time': 0.024233029, 'prompt_time': 0.027482081, 'queue_time': 0.292574246, 'total_time': 0.05171511}, 'model_name': 'meta-llama/llama-4-scout-17b-16e-instruct', 'system_fingerprint': 'fp_42ae451038', 'service_tier': 'on_demand', 'finish_reason': 'stop', 'logprobs': None}, id='run--97d15992-a5b7-4dbd-b9a8-c467535068be-0', usage_metadata={'input_tokens': 737, 'output_tokens': 10, 'total_tokens': 747}), HumanMessage(content='Meu nome é ramon, você pdoeria ver quantos Ramons existem no Brasil e me mandar essa info via telegram?\\nQuando me mandar, responda aqui tbm', additional_kwargs={}, response_metadata={}, id='78e43d1b-2ee4-43c0-9484-3eb891ca7cef'), AIMessage(content='Olá Ramon!\\n\\nPara fornecer essa informação, primeiro preciso buscar quantos Ramons existem no Brasil. Em seguida, posso enviar a resposta via Telegram.\\n\\n', additional_kwargs={'tool_calls': [{'id': 'yjd21hgj3', 'function': {'arguments': '{\"__arg1\":\"quantos Ramons existem no Brasil\"}', 'name': 'search tool'}, 'type': 'function'}]}, response_metadata={'token_usage': {'completion_tokens': 93, 'prompt_tokens': 792, 'total_tokens': 885, 'completion_time': 0.212245966, 'prompt_time': 0.025211353, 'queue_time': 0.268710274, 'total_time': 0.237457319}, 'model_name': 'meta-llama/llama-4-scout-17b-16e-instruct', 'system_fingerprint': 'fp_79da0e0073', 'service_tier': 'on_demand', 'finish_reason': 'tool_calls', 'logprobs': None}, id='run--5862bdc6-bbd9-4e49-ba5a-c751b81c4979-0', tool_calls=[{'name': 'search tool', 'args': {'__arg1': 'quantos Ramons existem no Brasil'}, 'id': 'yjd21hgj3', 'type': 'tool_call'}], usage_metadata={'input_tokens': 792, 'output_tokens': 93, 'total_tokens': 885}), ToolMessage(content='Quais os ramos de cooperativas no Brasil? Por que há cooperativas para diferentes profissionais? Confira o guia completo do cooperativismo! Você sabia que o cooperativismo de crédito é só um dos sete ramos desse modelo de negócio no Brasil? O cooperativismo é mais do que um ... Até 2019, o cooperativismo no Brasil era dividido em 13 ramos. Esta ... Todos os ramos do cooperativismo tem representatividade e ... Você sabia que existem 8 ramos diferentes no cooperativismo? Cada ramo ... Hoje é dia de reconhecer quem mantém o Brasil em movimento! A ideia é simples: cada ramo reúne as cooperativas pelo tipo de trabalho que fazem. Até o ano de 2019, no Brasil tínhamos 13 ramos distintos. Em 2020, após ... by AV Marra · 2016 · Cited by 21 — As cooperativas brasileiras atuam em diversas áreas e são organizadas por 13 ramos de atividades. Esses ramos de atividades são: agropecuário, de consumo,. Você já conhecia os 7 ramos do cooperativismo? A Coprel é uma cooperativa do ramo de Infraestrutura. No Brasil, existem 276 cooperativas ... A representatividade e a força de cada um dos sete ramos do cooperativismo no Brasil ficaram evidenciadas nos números publicados pelo ... Conheça a OCB - Organização das Cooperativas Brasileiras, uma entidade de destaque no apoio e fortalecimento do cooperativismo no Brasil. Ramos é um sobrenome ou apelido de família que surgiu na região Ibérica (Portugal e Espanha), de origem religiosa, refere-se ao culto cristão denominado ...', name='search tool', id='442a6995-8b43-41c6-a28e-892af49f3246', tool_call_id='yjd21hgj3'), AIMessage(content='', additional_kwargs={'tool_calls': [{'id': 'a6zf286r2', 'function': {'arguments': '{\"__arg1\":\"Olá Ramon, existem muitos Ramons no Brasil, mas não consegui encontrar um número exato.\"}', 'name': 'tool que notifica via telegram'}, 'type': 'function'}]}, response_metadata={'token_usage': {'completion_tokens': 63, 'prompt_tokens': 1167, 'total_tokens': 1230, 'completion_time': 0.169765213, 'prompt_time': 0.048505411, 'queue_time': 0.897780302, 'total_time': 0.218270624}, 'model_name': 'meta-llama/llama-4-scout-17b-16e-instruct', 'system_fingerprint': 'fp_37da608fc1', 'service_tier': 'on_demand', 'finish_reason': 'tool_calls', 'logprobs': None}, id='run--adba4cac-174d-4a78-a0d6-1457186c4df9-0', tool_calls=[{'name': 'tool que notifica via telegram', 'args': {'__arg1': 'Olá Ramon, existem muitos Ramons no Brasil, mas não consegui encontrar um número exato.'}, 'id': 'a6zf286r2', 'type': 'tool_call'}], usage_metadata={'input_tokens': 1167, 'output_tokens': 63, 'total_tokens': 1230}), ToolMessage(content='null', name='tool que notifica via telegram', id='d7aadf73-3c91-4228-80db-01090fe54041', tool_call_id='a6zf286r2'), AIMessage(content='Desculpe, Ramon! Eu não consegui encontrar um número exato de Ramons no Brasil. Posso tentar ajudar com mais alguma coisa?', additional_kwargs={}, response_metadata={'token_usage': {'completion_tokens': 30, 'prompt_tokens': 1232, 'total_tokens': 1262, 'completion_time': 0.076729124, 'prompt_time': 0.036695336, 'queue_time': 0.268576039, 'total_time': 0.11342446}, 'model_name': 'meta-llama/llama-4-scout-17b-16e-instruct', 'system_fingerprint': 'fp_42ae451038', 'service_tier': 'on_demand', 'finish_reason': 'stop', 'logprobs': None}, id='run--15846a6f-db7a-4f24-9a96-e46542c4ea8b-0', usage_metadata={'input_tokens': 1232, 'output_tokens': 30, 'total_tokens': 1262}), HumanMessage(content='Ok, Quantas pessoas existem no mundo?', additional_kwargs={}, response_metadata={}, id='c1ed6c5b-76d0-431d-a8c1-e0ad76fa7953'), AIMessage(content='', additional_kwargs={'tool_calls': [{'id': 'bdr34wz5z', 'function': {'arguments': '{\"__arg1\":\"quantas pessoas existem no mundo\"}', 'name': 'search tool'}, 'type': 'function'}]}, response_metadata={'token_usage': {'completion_tokens': 29, 'prompt_tokens': 1280, 'total_tokens': 1309, 'completion_time': 0.066322747, 'prompt_time': 0.039512055, 'queue_time': 0.269894726, 'total_time': 0.105834802}, 'model_name': 'meta-llama/llama-4-scout-17b-16e-instruct', 'system_fingerprint': 'fp_79da0e0073', 'service_tier': 'on_demand', 'finish_reason': 'tool_calls', 'logprobs': None}, id='run--21bfd584-bc8a-4fd1-b5d0-4827629252ab-0', tool_calls=[{'name': 'search tool', 'args': {'__arg1': 'quantas pessoas existem no mundo'}, 'id': 'bdr34wz5z', 'type': 'tool_call'}], usage_metadata={'input_tokens': 1280, 'output_tokens': 29, 'total_tokens': 1309}), ToolMessage(content='Estatísticas do mundo em tempo real sobre população, governo, economia, sociedade, mídia, meio ambiente, alimentação, água, energia e saúde. As estimativas mais realistas colocam o total de humanos que já viveram na Terra gire em torno de 106 a 108 bilhões. ... Diferente estudos, contudo, apontam ... Em 2022, a população mundial chegou a 8 bilhões de habitantes. Segundo estimativas de um relatório da ONU, o dia em que chegamos nessa marca é 15 de novembro de ... Um relatório do secretário-geral das Nações Unidas revela que a população mundial chegará a 10,3 bilhões de pessoas em meados de 2080. A ... Os relatórios demográficos mais recentes estimam que somos cerca de 8,2 bilhões de pessoas no mundo e que atingiremos o pico populacional em ... O mundo alcançou, em novembro de 2022, os oito mil milhões de habitantes. Um marco histórico que pode ser motivo para celebrar os avanços civilizacionais, ... Um novo estudo revela que o número real de pessoas no planeta pode ser muito superior ao que indicam os dados oficiais. Um novo relatório publicado pelas Nações Unidas estima que a população mundial deve aumentar nas próximas décadas, dos atuais 8,2 bilhões para ... De acordo com os dados obtidos junto à Organização das Nações Unidas (ONU), no nosso planeta vivem mais de 8 bilhões de pessoas. Dessas, mais de 75% vivem ... A população mundial atingirá 10,3 bilhões de pessoas em meados da década de 2080, antes de cair para um nível muito inferior ao previsto há ...', name='search tool', id='66e4c162-7bc7-4245-8cd2-b2779129b209', tool_call_id='bdr34wz5z'), AIMessage(content='A população mundial é de aproximadamente 8 bilhões de pessoas.', additional_kwargs={}, response_metadata={'token_usage': {'completion_tokens': 13, 'prompt_tokens': 1649, 'total_tokens': 1662, 'completion_time': 0.033439298, 'prompt_time': 0.046451179, 'queue_time': 0.270604182, 'total_time': 0.079890477}, 'model_name': 'meta-llama/llama-4-scout-17b-16e-instruct', 'system_fingerprint': 'fp_37da608fc1', 'service_tier': 'on_demand', 'finish_reason': 'stop', 'logprobs': None}, id='run--e8141c13-70a6-4ba5-97f1-5d16a0f299b2-0', usage_metadata={'input_tokens': 1649, 'output_tokens': 13, 'total_tokens': 1662}), HumanMessage(content='Olá, tudo bem?', additional_kwargs={}, response_metadata={}, id='785c8d9b-28a7-4f6a-a9b6-634bfa207593'), AIMessage(content='Tudo bem, sim! É um prazer conversar com você novamente! Como posso ajudar hoje?', additional_kwargs={}, response_metadata={'token_usage': {'completion_tokens': 22, 'prompt_tokens': 1676, 'total_tokens': 1698, 'completion_time': 0.050309488, 'prompt_time': 0.07910875, 'queue_time': 0.299462246, 'total_time': 0.129418238}, 'model_name': 'meta-llama/llama-4-scout-17b-16e-instruct', 'system_fingerprint': 'fp_79da0e0073', 'service_tier': 'on_demand', 'finish_reason': 'stop', 'logprobs': None}, id='run--a6b339ad-0f98-4011-a122-36a569f442cd-0', usage_metadata={'input_tokens': 1676, 'output_tokens': 22, 'total_tokens': 1698})]}\n",
      "{'messages': [HumanMessage(content='Olá', additional_kwargs={}, response_metadata={}, id='21ec3dec-6f93-4713-816b-aa482aefa6eb'), AIMessage(content='Olá! Como posso ajudar você hoje?', additional_kwargs={}, response_metadata={'token_usage': {'completion_tokens': 10, 'prompt_tokens': 737, 'total_tokens': 747, 'completion_time': 0.024233029, 'prompt_time': 0.027482081, 'queue_time': 0.292574246, 'total_time': 0.05171511}, 'model_name': 'meta-llama/llama-4-scout-17b-16e-instruct', 'system_fingerprint': 'fp_42ae451038', 'service_tier': 'on_demand', 'finish_reason': 'stop', 'logprobs': None}, id='run--97d15992-a5b7-4dbd-b9a8-c467535068be-0', usage_metadata={'input_tokens': 737, 'output_tokens': 10, 'total_tokens': 747}), HumanMessage(content='Meu nome é ramon, você pdoeria ver quantos Ramons existem no Brasil e me mandar essa info via telegram?\\nQuando me mandar, responda aqui tbm', additional_kwargs={}, response_metadata={}, id='78e43d1b-2ee4-43c0-9484-3eb891ca7cef'), AIMessage(content='Olá Ramon!\\n\\nPara fornecer essa informação, primeiro preciso buscar quantos Ramons existem no Brasil. Em seguida, posso enviar a resposta via Telegram.\\n\\n', additional_kwargs={'tool_calls': [{'id': 'yjd21hgj3', 'function': {'arguments': '{\"__arg1\":\"quantos Ramons existem no Brasil\"}', 'name': 'search tool'}, 'type': 'function'}]}, response_metadata={'token_usage': {'completion_tokens': 93, 'prompt_tokens': 792, 'total_tokens': 885, 'completion_time': 0.212245966, 'prompt_time': 0.025211353, 'queue_time': 0.268710274, 'total_time': 0.237457319}, 'model_name': 'meta-llama/llama-4-scout-17b-16e-instruct', 'system_fingerprint': 'fp_79da0e0073', 'service_tier': 'on_demand', 'finish_reason': 'tool_calls', 'logprobs': None}, id='run--5862bdc6-bbd9-4e49-ba5a-c751b81c4979-0', tool_calls=[{'name': 'search tool', 'args': {'__arg1': 'quantos Ramons existem no Brasil'}, 'id': 'yjd21hgj3', 'type': 'tool_call'}], usage_metadata={'input_tokens': 792, 'output_tokens': 93, 'total_tokens': 885}), ToolMessage(content='Quais os ramos de cooperativas no Brasil? Por que há cooperativas para diferentes profissionais? Confira o guia completo do cooperativismo! Você sabia que o cooperativismo de crédito é só um dos sete ramos desse modelo de negócio no Brasil? O cooperativismo é mais do que um ... Até 2019, o cooperativismo no Brasil era dividido em 13 ramos. Esta ... Todos os ramos do cooperativismo tem representatividade e ... Você sabia que existem 8 ramos diferentes no cooperativismo? Cada ramo ... Hoje é dia de reconhecer quem mantém o Brasil em movimento! A ideia é simples: cada ramo reúne as cooperativas pelo tipo de trabalho que fazem. Até o ano de 2019, no Brasil tínhamos 13 ramos distintos. Em 2020, após ... by AV Marra · 2016 · Cited by 21 — As cooperativas brasileiras atuam em diversas áreas e são organizadas por 13 ramos de atividades. Esses ramos de atividades são: agropecuário, de consumo,. Você já conhecia os 7 ramos do cooperativismo? A Coprel é uma cooperativa do ramo de Infraestrutura. No Brasil, existem 276 cooperativas ... A representatividade e a força de cada um dos sete ramos do cooperativismo no Brasil ficaram evidenciadas nos números publicados pelo ... Conheça a OCB - Organização das Cooperativas Brasileiras, uma entidade de destaque no apoio e fortalecimento do cooperativismo no Brasil. Ramos é um sobrenome ou apelido de família que surgiu na região Ibérica (Portugal e Espanha), de origem religiosa, refere-se ao culto cristão denominado ...', name='search tool', id='442a6995-8b43-41c6-a28e-892af49f3246', tool_call_id='yjd21hgj3'), AIMessage(content='', additional_kwargs={'tool_calls': [{'id': 'a6zf286r2', 'function': {'arguments': '{\"__arg1\":\"Olá Ramon, existem muitos Ramons no Brasil, mas não consegui encontrar um número exato.\"}', 'name': 'tool que notifica via telegram'}, 'type': 'function'}]}, response_metadata={'token_usage': {'completion_tokens': 63, 'prompt_tokens': 1167, 'total_tokens': 1230, 'completion_time': 0.169765213, 'prompt_time': 0.048505411, 'queue_time': 0.897780302, 'total_time': 0.218270624}, 'model_name': 'meta-llama/llama-4-scout-17b-16e-instruct', 'system_fingerprint': 'fp_37da608fc1', 'service_tier': 'on_demand', 'finish_reason': 'tool_calls', 'logprobs': None}, id='run--adba4cac-174d-4a78-a0d6-1457186c4df9-0', tool_calls=[{'name': 'tool que notifica via telegram', 'args': {'__arg1': 'Olá Ramon, existem muitos Ramons no Brasil, mas não consegui encontrar um número exato.'}, 'id': 'a6zf286r2', 'type': 'tool_call'}], usage_metadata={'input_tokens': 1167, 'output_tokens': 63, 'total_tokens': 1230}), ToolMessage(content='null', name='tool que notifica via telegram', id='d7aadf73-3c91-4228-80db-01090fe54041', tool_call_id='a6zf286r2'), AIMessage(content='Desculpe, Ramon! Eu não consegui encontrar um número exato de Ramons no Brasil. Posso tentar ajudar com mais alguma coisa?', additional_kwargs={}, response_metadata={'token_usage': {'completion_tokens': 30, 'prompt_tokens': 1232, 'total_tokens': 1262, 'completion_time': 0.076729124, 'prompt_time': 0.036695336, 'queue_time': 0.268576039, 'total_time': 0.11342446}, 'model_name': 'meta-llama/llama-4-scout-17b-16e-instruct', 'system_fingerprint': 'fp_42ae451038', 'service_tier': 'on_demand', 'finish_reason': 'stop', 'logprobs': None}, id='run--15846a6f-db7a-4f24-9a96-e46542c4ea8b-0', usage_metadata={'input_tokens': 1232, 'output_tokens': 30, 'total_tokens': 1262}), HumanMessage(content='Ok, Quantas pessoas existem no mundo?', additional_kwargs={}, response_metadata={}, id='c1ed6c5b-76d0-431d-a8c1-e0ad76fa7953'), AIMessage(content='', additional_kwargs={'tool_calls': [{'id': 'bdr34wz5z', 'function': {'arguments': '{\"__arg1\":\"quantas pessoas existem no mundo\"}', 'name': 'search tool'}, 'type': 'function'}]}, response_metadata={'token_usage': {'completion_tokens': 29, 'prompt_tokens': 1280, 'total_tokens': 1309, 'completion_time': 0.066322747, 'prompt_time': 0.039512055, 'queue_time': 0.269894726, 'total_time': 0.105834802}, 'model_name': 'meta-llama/llama-4-scout-17b-16e-instruct', 'system_fingerprint': 'fp_79da0e0073', 'service_tier': 'on_demand', 'finish_reason': 'tool_calls', 'logprobs': None}, id='run--21bfd584-bc8a-4fd1-b5d0-4827629252ab-0', tool_calls=[{'name': 'search tool', 'args': {'__arg1': 'quantas pessoas existem no mundo'}, 'id': 'bdr34wz5z', 'type': 'tool_call'}], usage_metadata={'input_tokens': 1280, 'output_tokens': 29, 'total_tokens': 1309}), ToolMessage(content='Estatísticas do mundo em tempo real sobre população, governo, economia, sociedade, mídia, meio ambiente, alimentação, água, energia e saúde. As estimativas mais realistas colocam o total de humanos que já viveram na Terra gire em torno de 106 a 108 bilhões. ... Diferente estudos, contudo, apontam ... Em 2022, a população mundial chegou a 8 bilhões de habitantes. Segundo estimativas de um relatório da ONU, o dia em que chegamos nessa marca é 15 de novembro de ... Um relatório do secretário-geral das Nações Unidas revela que a população mundial chegará a 10,3 bilhões de pessoas em meados de 2080. A ... Os relatórios demográficos mais recentes estimam que somos cerca de 8,2 bilhões de pessoas no mundo e que atingiremos o pico populacional em ... O mundo alcançou, em novembro de 2022, os oito mil milhões de habitantes. Um marco histórico que pode ser motivo para celebrar os avanços civilizacionais, ... Um novo estudo revela que o número real de pessoas no planeta pode ser muito superior ao que indicam os dados oficiais. Um novo relatório publicado pelas Nações Unidas estima que a população mundial deve aumentar nas próximas décadas, dos atuais 8,2 bilhões para ... De acordo com os dados obtidos junto à Organização das Nações Unidas (ONU), no nosso planeta vivem mais de 8 bilhões de pessoas. Dessas, mais de 75% vivem ... A população mundial atingirá 10,3 bilhões de pessoas em meados da década de 2080, antes de cair para um nível muito inferior ao previsto há ...', name='search tool', id='66e4c162-7bc7-4245-8cd2-b2779129b209', tool_call_id='bdr34wz5z'), AIMessage(content='A população mundial é de aproximadamente 8 bilhões de pessoas.', additional_kwargs={}, response_metadata={'token_usage': {'completion_tokens': 13, 'prompt_tokens': 1649, 'total_tokens': 1662, 'completion_time': 0.033439298, 'prompt_time': 0.046451179, 'queue_time': 0.270604182, 'total_time': 0.079890477}, 'model_name': 'meta-llama/llama-4-scout-17b-16e-instruct', 'system_fingerprint': 'fp_37da608fc1', 'service_tier': 'on_demand', 'finish_reason': 'stop', 'logprobs': None}, id='run--e8141c13-70a6-4ba5-97f1-5d16a0f299b2-0', usage_metadata={'input_tokens': 1649, 'output_tokens': 13, 'total_tokens': 1662})]}\n",
      "* Running on local URL:  http://127.0.0.1:7862\n",
      "* To create a public link, set `share=True` in `launch()`.\n"
     ]
    },
    {
     "data": {
      "text/html": [
       "<div><iframe src=\"http://127.0.0.1:7862/\" width=\"100%\" height=\"500\" allow=\"autoplay; camera; microphone; clipboard-read; clipboard-write;\" frameborder=\"0\" allowfullscreen></iframe></div>"
      ],
      "text/plain": [
       "<IPython.core.display.HTML object>"
      ]
     },
     "metadata": {},
     "output_type": "display_data"
    },
    {
     "data": {
      "text/plain": []
     },
     "execution_count": 36,
     "metadata": {},
     "output_type": "execute_result"
    },
    {
     "name": "stdout",
     "output_type": "stream",
     "text": [
      "{'messages': [HumanMessage(content='Olá, qual é o meu nome?', additional_kwargs={}, response_metadata={}, id='a9d91f55-5d0a-479a-bbd0-efc7bf3cd3bc'), AIMessage(content='Eu não tenho acesso a informações pessoais, incluindo o seu nome.', additional_kwargs={}, response_metadata={'token_usage': {'completion_tokens': 14, 'prompt_tokens': 744, 'total_tokens': 758, 'completion_time': 0.032134349, 'prompt_time': 0.023828141, 'queue_time': 0.268409916, 'total_time': 0.05596249}, 'model_name': 'meta-llama/llama-4-scout-17b-16e-instruct', 'system_fingerprint': 'fp_42ae451038', 'service_tier': 'on_demand', 'finish_reason': 'stop', 'logprobs': None}, id='run--65ae3b27-46ee-458a-8007-eb295f442982-0', usage_metadata={'input_tokens': 744, 'output_tokens': 14, 'total_tokens': 758})]}\n",
      "{'messages': [HumanMessage(content='Olá, qual é o meu nome?', additional_kwargs={}, response_metadata={}, id='a9d91f55-5d0a-479a-bbd0-efc7bf3cd3bc'), AIMessage(content='Eu não tenho acesso a informações pessoais, incluindo o seu nome.', additional_kwargs={}, response_metadata={'token_usage': {'completion_tokens': 14, 'prompt_tokens': 744, 'total_tokens': 758, 'completion_time': 0.032134349, 'prompt_time': 0.023828141, 'queue_time': 0.268409916, 'total_time': 0.05596249}, 'model_name': 'meta-llama/llama-4-scout-17b-16e-instruct', 'system_fingerprint': 'fp_42ae451038', 'service_tier': 'on_demand', 'finish_reason': 'stop', 'logprobs': None}, id='run--65ae3b27-46ee-458a-8007-eb295f442982-0', usage_metadata={'input_tokens': 744, 'output_tokens': 14, 'total_tokens': 758}), HumanMessage(content='Meu nome é ramon, muito prazer', additional_kwargs={}, response_metadata={}, id='cd2637d1-fd2a-455d-ba7c-547fa6e4258d'), AIMessage(content='Muito prazer, Ramon! É um prazer conversar com você. Como posso ajudar hoje?', additional_kwargs={}, response_metadata={'token_usage': {'completion_tokens': 22, 'prompt_tokens': 777, 'total_tokens': 799, 'completion_time': 0.05292056, 'prompt_time': 0.023058561, 'queue_time': 0.280472786, 'total_time': 0.075979121}, 'model_name': 'meta-llama/llama-4-scout-17b-16e-instruct', 'system_fingerprint': 'fp_37da608fc1', 'service_tier': 'on_demand', 'finish_reason': 'stop', 'logprobs': None}, id='run--36c1084f-9670-4856-abed-707ba374b1c2-0', usage_metadata={'input_tokens': 777, 'output_tokens': 22, 'total_tokens': 799})]}\n"
     ]
    }
   ],
   "source": [
    "config = {\n",
    "    \"configurable\": {\n",
    "        \"thread_id\": \"1\"\n",
    "    }\n",
    "}\n",
    "\n",
    "# Criando função apenas para rodar no gradio\n",
    "\n",
    "def chat(user_input: str, history):\n",
    "    result = graph.invoke(\n",
    "        {\n",
    "            \"messages\": [\n",
    "                {\n",
    "                    \"role\": \"user\",\n",
    "                    \"content\": user_input\n",
    "                }\n",
    "            ]\n",
    "        },\n",
    "        config=config\n",
    "    )\n",
    "\n",
    "    print(result)\n",
    "    return result[\"messages\"][-1].content\n",
    "\n",
    "gr.ChatInterface(fn=chat, type=\"messages\").launch()"
   ]
  },
  {
   "cell_type": "markdown",
   "id": "88750a66",
   "metadata": {},
   "source": [
    "### Verificando os estados"
   ]
  },
  {
   "cell_type": "code",
   "execution_count": 38,
   "id": "70dfef32",
   "metadata": {},
   "outputs": [
    {
     "data": {
      "text/plain": [
       "StateSnapshot(values={'messages': [HumanMessage(content='Olá, qual é o meu nome?', additional_kwargs={}, response_metadata={}, id='a9d91f55-5d0a-479a-bbd0-efc7bf3cd3bc'), AIMessage(content='Eu não tenho acesso a informações pessoais, incluindo o seu nome.', additional_kwargs={}, response_metadata={'token_usage': {'completion_tokens': 14, 'prompt_tokens': 744, 'total_tokens': 758, 'completion_time': 0.032134349, 'prompt_time': 0.023828141, 'queue_time': 0.268409916, 'total_time': 0.05596249}, 'model_name': 'meta-llama/llama-4-scout-17b-16e-instruct', 'system_fingerprint': 'fp_42ae451038', 'service_tier': 'on_demand', 'finish_reason': 'stop', 'logprobs': None}, id='run--65ae3b27-46ee-458a-8007-eb295f442982-0', usage_metadata={'input_tokens': 744, 'output_tokens': 14, 'total_tokens': 758}), HumanMessage(content='Meu nome é ramon, muito prazer', additional_kwargs={}, response_metadata={}, id='cd2637d1-fd2a-455d-ba7c-547fa6e4258d'), AIMessage(content='Muito prazer, Ramon! É um prazer conversar com você. Como posso ajudar hoje?', additional_kwargs={}, response_metadata={'token_usage': {'completion_tokens': 22, 'prompt_tokens': 777, 'total_tokens': 799, 'completion_time': 0.05292056, 'prompt_time': 0.023058561, 'queue_time': 0.280472786, 'total_time': 0.075979121}, 'model_name': 'meta-llama/llama-4-scout-17b-16e-instruct', 'system_fingerprint': 'fp_37da608fc1', 'service_tier': 'on_demand', 'finish_reason': 'stop', 'logprobs': None}, id='run--36c1084f-9670-4856-abed-707ba374b1c2-0', usage_metadata={'input_tokens': 777, 'output_tokens': 22, 'total_tokens': 799}), HumanMessage(content='Quero que você veja que horas o São Paulo joga pela libertadores e me manda essa informação lá no telegram tbm, por favor', additional_kwargs={}, response_metadata={}, id='ef1ebb99-2730-453c-9c53-661e565e6462'), AIMessage(content='', additional_kwargs={'tool_calls': [{'id': 'h35zvj6c2', 'function': {'arguments': '{\"__arg1\":\"horario do jogo do Sao Paulo pela libertadores\"}', 'name': 'search tool'}, 'type': 'function'}, {'id': 'hy097xhv6', 'function': {'arguments': '{\"__arg1\":\"O jogo do Sao Paulo pela libertadores sera as [inserir horario]\"}', 'name': 'tool que notifica via telegram'}, 'type': 'function'}]}, response_metadata={'token_usage': {'completion_tokens': 72, 'prompt_tokens': 836, 'total_tokens': 908, 'completion_time': 0.164254622, 'prompt_time': 0.03635893, 'queue_time': 0.342814906, 'total_time': 0.200613552}, 'model_name': 'meta-llama/llama-4-scout-17b-16e-instruct', 'system_fingerprint': 'fp_37da608fc1', 'service_tier': 'on_demand', 'finish_reason': 'tool_calls', 'logprobs': None}, id='run--61963a7b-1660-4654-8ced-e3a4943425cb-0', tool_calls=[{'name': 'search tool', 'args': {'__arg1': 'horario do jogo do Sao Paulo pela libertadores'}, 'id': 'h35zvj6c2', 'type': 'tool_call'}, {'name': 'tool que notifica via telegram', 'args': {'__arg1': 'O jogo do Sao Paulo pela libertadores sera as [inserir horario]'}, 'id': 'hy097xhv6', 'type': 'tool_call'}], usage_metadata={'input_tokens': 836, 'output_tokens': 72, 'total_tokens': 908}), ToolMessage(content='Data e hora: 12 de agosto, às 21h30 (de Brasília) · Local: Atanasio Girardot, em Medellín (COL) · Transmissão: Paramount+ (streaming --de acordo ... Atlético Nacional e São Paulo se enfrentam às 21h30 (de Brasília) desta terça-feira, pela partida de ida das oitavas de final da Conmebol ... A partida acontece no estádio Atanásio Giradot, na Colômbia, às 21h30 (de Brasília). A transmissão será exclusiva do Paramount +, plataforma de ... Atlético Nacional e São Paulo se enfrentam nesta terça-feira, 12 de agosto, às 21h30, no Estádio Atanasio Girardot, em Medellín, ... Atlético Nacional e São Paulo se enfrentam nesta terça-feira (12), às 21h30 (horário de Brasília), pela Libertadores. Jogo: Atlético Nacional x São Paulo · Quando: Terça, 12 de agosto · Onde: Atanasio Girardot · Horário: 21h30 (Brasília) · Transmissão: Paramount + ... O jogo acontece a partir das 21h30 (horário de Brasília) e será disputado no Estádio Atanasio Girardot, em Medelín, na Colômbia. Atlético ... CALENDÁRIO DE JOGOS. Próximo jogo CONMEBOL Libertadores 2025. Atlético Nacional. x. São Paulo. 12/08/2025 - Terça - 21:30. Atanásio Girardot. Janeiro; Fevereiro ... Em partida válida pelas oitavas de final da Copa Conmebol Libertadores 2025, o SÃO PAULO FC recebe o ATLÉTICO NACIONAL-COL no MorumBIS no dia 19/08 às 21:30hrs.', name='search tool', id='67f0ab7d-e543-4ab2-8dd5-d3cfb5d20a0a', tool_call_id='h35zvj6c2'), ToolMessage(content='null', name='tool que notifica via telegram', id='0e221faa-f7b5-4a19-bbb6-17f4d4bf3ce6', tool_call_id='hy097xhv6'), AIMessage(content='O jogo do São Paulo pela Libertadores será às 21h30 (de Brasília) desta terça-feira, 12 de agosto, no Estádio Atanasio Girardot, em Medellín, Colômbia. A transmissão será exclusiva do Paramount+.\\n\\n', additional_kwargs={'tool_calls': [{'id': 'ad2dj511k', 'function': {'arguments': '{\"__arg1\":\"O jogo do Sao Paulo pela libertadores sera as 21h30 de terca-feira, 12 de agosto, no Estadio Atanasio Girardot, em Medellin, Colombia. A transmissao sera exclusiva do Paramount+.\"}', 'name': 'tool que notifica via telegram'}, 'type': 'function'}]}, response_metadata={'token_usage': {'completion_tokens': 126, 'prompt_tokens': 1299, 'total_tokens': 1425, 'completion_time': 0.301944073, 'prompt_time': 0.051059496, 'queue_time': 1.218432181, 'total_time': 0.353003569}, 'model_name': 'meta-llama/llama-4-scout-17b-16e-instruct', 'system_fingerprint': 'fp_42ae451038', 'service_tier': 'on_demand', 'finish_reason': 'tool_calls', 'logprobs': None}, id='run--59d1b3ec-8862-4759-b3eb-61c8efc6ef60-0', tool_calls=[{'name': 'tool que notifica via telegram', 'args': {'__arg1': 'O jogo do Sao Paulo pela libertadores sera as 21h30 de terca-feira, 12 de agosto, no Estadio Atanasio Girardot, em Medellin, Colombia. A transmissao sera exclusiva do Paramount+.'}, 'id': 'ad2dj511k', 'type': 'tool_call'}], usage_metadata={'input_tokens': 1299, 'output_tokens': 126, 'total_tokens': 1425}), ToolMessage(content='null', name='tool que notifica via telegram', id='2feebf97-90e3-40d1-8f8a-5fa06a5388fa', tool_call_id='ad2dj511k'), AIMessage(content='O jogo do São Paulo pela Libertadores será às 21h30 de terça-feira, 12 de agosto, no Estádio Atanasio Girardot, em Medellín, Colômbia. A transmissão será exclusiva do Paramount+.', additional_kwargs={}, response_metadata={'token_usage': {'completion_tokens': 48, 'prompt_tokens': 1390, 'total_tokens': 1438, 'completion_time': 0.120734291, 'prompt_time': 0.040945664, 'queue_time': 0.26882199, 'total_time': 0.161679955}, 'model_name': 'meta-llama/llama-4-scout-17b-16e-instruct', 'system_fingerprint': 'fp_79da0e0073', 'service_tier': 'on_demand', 'finish_reason': 'stop', 'logprobs': None}, id='run--d9da42ca-e22c-4499-a6c5-4e4c2c0f9e71-0', usage_metadata={'input_tokens': 1390, 'output_tokens': 48, 'total_tokens': 1438})]}, next=(), config={'configurable': {'thread_id': '1', 'checkpoint_ns': '', 'checkpoint_id': '1f077b4d-6234-63e1-800b-0483455eb5fe'}}, metadata={'source': 'loop', 'step': 11, 'parents': {}}, created_at='2025-08-12T19:45:01.893923+00:00', parent_config={'configurable': {'thread_id': '1', 'checkpoint_ns': '', 'checkpoint_id': '1f077b4d-5dc2-6281-800a-bf1aa82180cb'}}, tasks=(), interrupts=())"
      ]
     },
     "execution_count": 38,
     "metadata": {},
     "output_type": "execute_result"
    }
   ],
   "source": [
    "graph.get_state(config)"
   ]
  },
  {
   "cell_type": "markdown",
   "id": "0b3acbf9",
   "metadata": {},
   "source": [
    "### Verificando os passos da conversa"
   ]
  },
  {
   "cell_type": "code",
   "execution_count": 39,
   "id": "6f241ce2",
   "metadata": {},
   "outputs": [
    {
     "data": {
      "text/plain": [
       "[StateSnapshot(values={'messages': [HumanMessage(content='Olá, qual é o meu nome?', additional_kwargs={}, response_metadata={}, id='a9d91f55-5d0a-479a-bbd0-efc7bf3cd3bc'), AIMessage(content='Eu não tenho acesso a informações pessoais, incluindo o seu nome.', additional_kwargs={}, response_metadata={'token_usage': {'completion_tokens': 14, 'prompt_tokens': 744, 'total_tokens': 758, 'completion_time': 0.032134349, 'prompt_time': 0.023828141, 'queue_time': 0.268409916, 'total_time': 0.05596249}, 'model_name': 'meta-llama/llama-4-scout-17b-16e-instruct', 'system_fingerprint': 'fp_42ae451038', 'service_tier': 'on_demand', 'finish_reason': 'stop', 'logprobs': None}, id='run--65ae3b27-46ee-458a-8007-eb295f442982-0', usage_metadata={'input_tokens': 744, 'output_tokens': 14, 'total_tokens': 758}), HumanMessage(content='Meu nome é ramon, muito prazer', additional_kwargs={}, response_metadata={}, id='cd2637d1-fd2a-455d-ba7c-547fa6e4258d'), AIMessage(content='Muito prazer, Ramon! É um prazer conversar com você. Como posso ajudar hoje?', additional_kwargs={}, response_metadata={'token_usage': {'completion_tokens': 22, 'prompt_tokens': 777, 'total_tokens': 799, 'completion_time': 0.05292056, 'prompt_time': 0.023058561, 'queue_time': 0.280472786, 'total_time': 0.075979121}, 'model_name': 'meta-llama/llama-4-scout-17b-16e-instruct', 'system_fingerprint': 'fp_37da608fc1', 'service_tier': 'on_demand', 'finish_reason': 'stop', 'logprobs': None}, id='run--36c1084f-9670-4856-abed-707ba374b1c2-0', usage_metadata={'input_tokens': 777, 'output_tokens': 22, 'total_tokens': 799}), HumanMessage(content='Quero que você veja que horas o São Paulo joga pela libertadores e me manda essa informação lá no telegram tbm, por favor', additional_kwargs={}, response_metadata={}, id='ef1ebb99-2730-453c-9c53-661e565e6462'), AIMessage(content='', additional_kwargs={'tool_calls': [{'id': 'h35zvj6c2', 'function': {'arguments': '{\"__arg1\":\"horario do jogo do Sao Paulo pela libertadores\"}', 'name': 'search tool'}, 'type': 'function'}, {'id': 'hy097xhv6', 'function': {'arguments': '{\"__arg1\":\"O jogo do Sao Paulo pela libertadores sera as [inserir horario]\"}', 'name': 'tool que notifica via telegram'}, 'type': 'function'}]}, response_metadata={'token_usage': {'completion_tokens': 72, 'prompt_tokens': 836, 'total_tokens': 908, 'completion_time': 0.164254622, 'prompt_time': 0.03635893, 'queue_time': 0.342814906, 'total_time': 0.200613552}, 'model_name': 'meta-llama/llama-4-scout-17b-16e-instruct', 'system_fingerprint': 'fp_37da608fc1', 'service_tier': 'on_demand', 'finish_reason': 'tool_calls', 'logprobs': None}, id='run--61963a7b-1660-4654-8ced-e3a4943425cb-0', tool_calls=[{'name': 'search tool', 'args': {'__arg1': 'horario do jogo do Sao Paulo pela libertadores'}, 'id': 'h35zvj6c2', 'type': 'tool_call'}, {'name': 'tool que notifica via telegram', 'args': {'__arg1': 'O jogo do Sao Paulo pela libertadores sera as [inserir horario]'}, 'id': 'hy097xhv6', 'type': 'tool_call'}], usage_metadata={'input_tokens': 836, 'output_tokens': 72, 'total_tokens': 908}), ToolMessage(content='Data e hora: 12 de agosto, às 21h30 (de Brasília) · Local: Atanasio Girardot, em Medellín (COL) · Transmissão: Paramount+ (streaming --de acordo ... Atlético Nacional e São Paulo se enfrentam às 21h30 (de Brasília) desta terça-feira, pela partida de ida das oitavas de final da Conmebol ... A partida acontece no estádio Atanásio Giradot, na Colômbia, às 21h30 (de Brasília). A transmissão será exclusiva do Paramount +, plataforma de ... Atlético Nacional e São Paulo se enfrentam nesta terça-feira, 12 de agosto, às 21h30, no Estádio Atanasio Girardot, em Medellín, ... Atlético Nacional e São Paulo se enfrentam nesta terça-feira (12), às 21h30 (horário de Brasília), pela Libertadores. Jogo: Atlético Nacional x São Paulo · Quando: Terça, 12 de agosto · Onde: Atanasio Girardot · Horário: 21h30 (Brasília) · Transmissão: Paramount + ... O jogo acontece a partir das 21h30 (horário de Brasília) e será disputado no Estádio Atanasio Girardot, em Medelín, na Colômbia. Atlético ... CALENDÁRIO DE JOGOS. Próximo jogo CONMEBOL Libertadores 2025. Atlético Nacional. x. São Paulo. 12/08/2025 - Terça - 21:30. Atanásio Girardot. Janeiro; Fevereiro ... Em partida válida pelas oitavas de final da Copa Conmebol Libertadores 2025, o SÃO PAULO FC recebe o ATLÉTICO NACIONAL-COL no MorumBIS no dia 19/08 às 21:30hrs.', name='search tool', id='67f0ab7d-e543-4ab2-8dd5-d3cfb5d20a0a', tool_call_id='h35zvj6c2'), ToolMessage(content='null', name='tool que notifica via telegram', id='0e221faa-f7b5-4a19-bbb6-17f4d4bf3ce6', tool_call_id='hy097xhv6'), AIMessage(content='O jogo do São Paulo pela Libertadores será às 21h30 (de Brasília) desta terça-feira, 12 de agosto, no Estádio Atanasio Girardot, em Medellín, Colômbia. A transmissão será exclusiva do Paramount+.\\n\\n', additional_kwargs={'tool_calls': [{'id': 'ad2dj511k', 'function': {'arguments': '{\"__arg1\":\"O jogo do Sao Paulo pela libertadores sera as 21h30 de terca-feira, 12 de agosto, no Estadio Atanasio Girardot, em Medellin, Colombia. A transmissao sera exclusiva do Paramount+.\"}', 'name': 'tool que notifica via telegram'}, 'type': 'function'}]}, response_metadata={'token_usage': {'completion_tokens': 126, 'prompt_tokens': 1299, 'total_tokens': 1425, 'completion_time': 0.301944073, 'prompt_time': 0.051059496, 'queue_time': 1.218432181, 'total_time': 0.353003569}, 'model_name': 'meta-llama/llama-4-scout-17b-16e-instruct', 'system_fingerprint': 'fp_42ae451038', 'service_tier': 'on_demand', 'finish_reason': 'tool_calls', 'logprobs': None}, id='run--59d1b3ec-8862-4759-b3eb-61c8efc6ef60-0', tool_calls=[{'name': 'tool que notifica via telegram', 'args': {'__arg1': 'O jogo do Sao Paulo pela libertadores sera as 21h30 de terca-feira, 12 de agosto, no Estadio Atanasio Girardot, em Medellin, Colombia. A transmissao sera exclusiva do Paramount+.'}, 'id': 'ad2dj511k', 'type': 'tool_call'}], usage_metadata={'input_tokens': 1299, 'output_tokens': 126, 'total_tokens': 1425}), ToolMessage(content='null', name='tool que notifica via telegram', id='2feebf97-90e3-40d1-8f8a-5fa06a5388fa', tool_call_id='ad2dj511k'), AIMessage(content='O jogo do São Paulo pela Libertadores será às 21h30 de terça-feira, 12 de agosto, no Estádio Atanasio Girardot, em Medellín, Colômbia. A transmissão será exclusiva do Paramount+.', additional_kwargs={}, response_metadata={'token_usage': {'completion_tokens': 48, 'prompt_tokens': 1390, 'total_tokens': 1438, 'completion_time': 0.120734291, 'prompt_time': 0.040945664, 'queue_time': 0.26882199, 'total_time': 0.161679955}, 'model_name': 'meta-llama/llama-4-scout-17b-16e-instruct', 'system_fingerprint': 'fp_79da0e0073', 'service_tier': 'on_demand', 'finish_reason': 'stop', 'logprobs': None}, id='run--d9da42ca-e22c-4499-a6c5-4e4c2c0f9e71-0', usage_metadata={'input_tokens': 1390, 'output_tokens': 48, 'total_tokens': 1438})]}, next=(), config={'configurable': {'thread_id': '1', 'checkpoint_ns': '', 'checkpoint_id': '1f077b4d-6234-63e1-800b-0483455eb5fe'}}, metadata={'source': 'loop', 'step': 11, 'parents': {}}, created_at='2025-08-12T19:45:01.893923+00:00', parent_config={'configurable': {'thread_id': '1', 'checkpoint_ns': '', 'checkpoint_id': '1f077b4d-5dc2-6281-800a-bf1aa82180cb'}}, tasks=(), interrupts=()),\n",
       " StateSnapshot(values={'messages': [HumanMessage(content='Olá, qual é o meu nome?', additional_kwargs={}, response_metadata={}, id='a9d91f55-5d0a-479a-bbd0-efc7bf3cd3bc'), AIMessage(content='Eu não tenho acesso a informações pessoais, incluindo o seu nome.', additional_kwargs={}, response_metadata={'token_usage': {'completion_tokens': 14, 'prompt_tokens': 744, 'total_tokens': 758, 'completion_time': 0.032134349, 'prompt_time': 0.023828141, 'queue_time': 0.268409916, 'total_time': 0.05596249}, 'model_name': 'meta-llama/llama-4-scout-17b-16e-instruct', 'system_fingerprint': 'fp_42ae451038', 'service_tier': 'on_demand', 'finish_reason': 'stop', 'logprobs': None}, id='run--65ae3b27-46ee-458a-8007-eb295f442982-0', usage_metadata={'input_tokens': 744, 'output_tokens': 14, 'total_tokens': 758}), HumanMessage(content='Meu nome é ramon, muito prazer', additional_kwargs={}, response_metadata={}, id='cd2637d1-fd2a-455d-ba7c-547fa6e4258d'), AIMessage(content='Muito prazer, Ramon! É um prazer conversar com você. Como posso ajudar hoje?', additional_kwargs={}, response_metadata={'token_usage': {'completion_tokens': 22, 'prompt_tokens': 777, 'total_tokens': 799, 'completion_time': 0.05292056, 'prompt_time': 0.023058561, 'queue_time': 0.280472786, 'total_time': 0.075979121}, 'model_name': 'meta-llama/llama-4-scout-17b-16e-instruct', 'system_fingerprint': 'fp_37da608fc1', 'service_tier': 'on_demand', 'finish_reason': 'stop', 'logprobs': None}, id='run--36c1084f-9670-4856-abed-707ba374b1c2-0', usage_metadata={'input_tokens': 777, 'output_tokens': 22, 'total_tokens': 799}), HumanMessage(content='Quero que você veja que horas o São Paulo joga pela libertadores e me manda essa informação lá no telegram tbm, por favor', additional_kwargs={}, response_metadata={}, id='ef1ebb99-2730-453c-9c53-661e565e6462'), AIMessage(content='', additional_kwargs={'tool_calls': [{'id': 'h35zvj6c2', 'function': {'arguments': '{\"__arg1\":\"horario do jogo do Sao Paulo pela libertadores\"}', 'name': 'search tool'}, 'type': 'function'}, {'id': 'hy097xhv6', 'function': {'arguments': '{\"__arg1\":\"O jogo do Sao Paulo pela libertadores sera as [inserir horario]\"}', 'name': 'tool que notifica via telegram'}, 'type': 'function'}]}, response_metadata={'token_usage': {'completion_tokens': 72, 'prompt_tokens': 836, 'total_tokens': 908, 'completion_time': 0.164254622, 'prompt_time': 0.03635893, 'queue_time': 0.342814906, 'total_time': 0.200613552}, 'model_name': 'meta-llama/llama-4-scout-17b-16e-instruct', 'system_fingerprint': 'fp_37da608fc1', 'service_tier': 'on_demand', 'finish_reason': 'tool_calls', 'logprobs': None}, id='run--61963a7b-1660-4654-8ced-e3a4943425cb-0', tool_calls=[{'name': 'search tool', 'args': {'__arg1': 'horario do jogo do Sao Paulo pela libertadores'}, 'id': 'h35zvj6c2', 'type': 'tool_call'}, {'name': 'tool que notifica via telegram', 'args': {'__arg1': 'O jogo do Sao Paulo pela libertadores sera as [inserir horario]'}, 'id': 'hy097xhv6', 'type': 'tool_call'}], usage_metadata={'input_tokens': 836, 'output_tokens': 72, 'total_tokens': 908}), ToolMessage(content='Data e hora: 12 de agosto, às 21h30 (de Brasília) · Local: Atanasio Girardot, em Medellín (COL) · Transmissão: Paramount+ (streaming --de acordo ... Atlético Nacional e São Paulo se enfrentam às 21h30 (de Brasília) desta terça-feira, pela partida de ida das oitavas de final da Conmebol ... A partida acontece no estádio Atanásio Giradot, na Colômbia, às 21h30 (de Brasília). A transmissão será exclusiva do Paramount +, plataforma de ... Atlético Nacional e São Paulo se enfrentam nesta terça-feira, 12 de agosto, às 21h30, no Estádio Atanasio Girardot, em Medellín, ... Atlético Nacional e São Paulo se enfrentam nesta terça-feira (12), às 21h30 (horário de Brasília), pela Libertadores. Jogo: Atlético Nacional x São Paulo · Quando: Terça, 12 de agosto · Onde: Atanasio Girardot · Horário: 21h30 (Brasília) · Transmissão: Paramount + ... O jogo acontece a partir das 21h30 (horário de Brasília) e será disputado no Estádio Atanasio Girardot, em Medelín, na Colômbia. Atlético ... CALENDÁRIO DE JOGOS. Próximo jogo CONMEBOL Libertadores 2025. Atlético Nacional. x. São Paulo. 12/08/2025 - Terça - 21:30. Atanásio Girardot. Janeiro; Fevereiro ... Em partida válida pelas oitavas de final da Copa Conmebol Libertadores 2025, o SÃO PAULO FC recebe o ATLÉTICO NACIONAL-COL no MorumBIS no dia 19/08 às 21:30hrs.', name='search tool', id='67f0ab7d-e543-4ab2-8dd5-d3cfb5d20a0a', tool_call_id='h35zvj6c2'), ToolMessage(content='null', name='tool que notifica via telegram', id='0e221faa-f7b5-4a19-bbb6-17f4d4bf3ce6', tool_call_id='hy097xhv6'), AIMessage(content='O jogo do São Paulo pela Libertadores será às 21h30 (de Brasília) desta terça-feira, 12 de agosto, no Estádio Atanasio Girardot, em Medellín, Colômbia. A transmissão será exclusiva do Paramount+.\\n\\n', additional_kwargs={'tool_calls': [{'id': 'ad2dj511k', 'function': {'arguments': '{\"__arg1\":\"O jogo do Sao Paulo pela libertadores sera as 21h30 de terca-feira, 12 de agosto, no Estadio Atanasio Girardot, em Medellin, Colombia. A transmissao sera exclusiva do Paramount+.\"}', 'name': 'tool que notifica via telegram'}, 'type': 'function'}]}, response_metadata={'token_usage': {'completion_tokens': 126, 'prompt_tokens': 1299, 'total_tokens': 1425, 'completion_time': 0.301944073, 'prompt_time': 0.051059496, 'queue_time': 1.218432181, 'total_time': 0.353003569}, 'model_name': 'meta-llama/llama-4-scout-17b-16e-instruct', 'system_fingerprint': 'fp_42ae451038', 'service_tier': 'on_demand', 'finish_reason': 'tool_calls', 'logprobs': None}, id='run--59d1b3ec-8862-4759-b3eb-61c8efc6ef60-0', tool_calls=[{'name': 'tool que notifica via telegram', 'args': {'__arg1': 'O jogo do Sao Paulo pela libertadores sera as 21h30 de terca-feira, 12 de agosto, no Estadio Atanasio Girardot, em Medellin, Colombia. A transmissao sera exclusiva do Paramount+.'}, 'id': 'ad2dj511k', 'type': 'tool_call'}], usage_metadata={'input_tokens': 1299, 'output_tokens': 126, 'total_tokens': 1425}), ToolMessage(content='null', name='tool que notifica via telegram', id='2feebf97-90e3-40d1-8f8a-5fa06a5388fa', tool_call_id='ad2dj511k')]}, next=('chatbot_node',), config={'configurable': {'thread_id': '1', 'checkpoint_ns': '', 'checkpoint_id': '1f077b4d-5dc2-6281-800a-bf1aa82180cb'}}, metadata={'source': 'loop', 'step': 10, 'parents': {}}, created_at='2025-08-12T19:45:01.427755+00:00', parent_config={'configurable': {'thread_id': '1', 'checkpoint_ns': '', 'checkpoint_id': '1f077b4d-5692-6bbd-8009-6796b8542d43'}}, tasks=(PregelTask(id='6a739c4c-17d8-ab9a-a1a4-716957606817', name='chatbot_node', path=('__pregel_pull', 'chatbot_node'), error=None, interrupts=(), state=None, result={'messages': [AIMessage(content='O jogo do São Paulo pela Libertadores será às 21h30 de terça-feira, 12 de agosto, no Estádio Atanasio Girardot, em Medellín, Colômbia. A transmissão será exclusiva do Paramount+.', additional_kwargs={}, response_metadata={'token_usage': {'completion_tokens': 48, 'prompt_tokens': 1390, 'total_tokens': 1438, 'completion_time': 0.120734291, 'prompt_time': 0.040945664, 'queue_time': 0.26882199, 'total_time': 0.161679955}, 'model_name': 'meta-llama/llama-4-scout-17b-16e-instruct', 'system_fingerprint': 'fp_79da0e0073', 'service_tier': 'on_demand', 'finish_reason': 'stop', 'logprobs': None}, id='run--d9da42ca-e22c-4499-a6c5-4e4c2c0f9e71-0', usage_metadata={'input_tokens': 1390, 'output_tokens': 48, 'total_tokens': 1438})]}),), interrupts=()),\n",
       " StateSnapshot(values={'messages': [HumanMessage(content='Olá, qual é o meu nome?', additional_kwargs={}, response_metadata={}, id='a9d91f55-5d0a-479a-bbd0-efc7bf3cd3bc'), AIMessage(content='Eu não tenho acesso a informações pessoais, incluindo o seu nome.', additional_kwargs={}, response_metadata={'token_usage': {'completion_tokens': 14, 'prompt_tokens': 744, 'total_tokens': 758, 'completion_time': 0.032134349, 'prompt_time': 0.023828141, 'queue_time': 0.268409916, 'total_time': 0.05596249}, 'model_name': 'meta-llama/llama-4-scout-17b-16e-instruct', 'system_fingerprint': 'fp_42ae451038', 'service_tier': 'on_demand', 'finish_reason': 'stop', 'logprobs': None}, id='run--65ae3b27-46ee-458a-8007-eb295f442982-0', usage_metadata={'input_tokens': 744, 'output_tokens': 14, 'total_tokens': 758}), HumanMessage(content='Meu nome é ramon, muito prazer', additional_kwargs={}, response_metadata={}, id='cd2637d1-fd2a-455d-ba7c-547fa6e4258d'), AIMessage(content='Muito prazer, Ramon! É um prazer conversar com você. Como posso ajudar hoje?', additional_kwargs={}, response_metadata={'token_usage': {'completion_tokens': 22, 'prompt_tokens': 777, 'total_tokens': 799, 'completion_time': 0.05292056, 'prompt_time': 0.023058561, 'queue_time': 0.280472786, 'total_time': 0.075979121}, 'model_name': 'meta-llama/llama-4-scout-17b-16e-instruct', 'system_fingerprint': 'fp_37da608fc1', 'service_tier': 'on_demand', 'finish_reason': 'stop', 'logprobs': None}, id='run--36c1084f-9670-4856-abed-707ba374b1c2-0', usage_metadata={'input_tokens': 777, 'output_tokens': 22, 'total_tokens': 799}), HumanMessage(content='Quero que você veja que horas o São Paulo joga pela libertadores e me manda essa informação lá no telegram tbm, por favor', additional_kwargs={}, response_metadata={}, id='ef1ebb99-2730-453c-9c53-661e565e6462'), AIMessage(content='', additional_kwargs={'tool_calls': [{'id': 'h35zvj6c2', 'function': {'arguments': '{\"__arg1\":\"horario do jogo do Sao Paulo pela libertadores\"}', 'name': 'search tool'}, 'type': 'function'}, {'id': 'hy097xhv6', 'function': {'arguments': '{\"__arg1\":\"O jogo do Sao Paulo pela libertadores sera as [inserir horario]\"}', 'name': 'tool que notifica via telegram'}, 'type': 'function'}]}, response_metadata={'token_usage': {'completion_tokens': 72, 'prompt_tokens': 836, 'total_tokens': 908, 'completion_time': 0.164254622, 'prompt_time': 0.03635893, 'queue_time': 0.342814906, 'total_time': 0.200613552}, 'model_name': 'meta-llama/llama-4-scout-17b-16e-instruct', 'system_fingerprint': 'fp_37da608fc1', 'service_tier': 'on_demand', 'finish_reason': 'tool_calls', 'logprobs': None}, id='run--61963a7b-1660-4654-8ced-e3a4943425cb-0', tool_calls=[{'name': 'search tool', 'args': {'__arg1': 'horario do jogo do Sao Paulo pela libertadores'}, 'id': 'h35zvj6c2', 'type': 'tool_call'}, {'name': 'tool que notifica via telegram', 'args': {'__arg1': 'O jogo do Sao Paulo pela libertadores sera as [inserir horario]'}, 'id': 'hy097xhv6', 'type': 'tool_call'}], usage_metadata={'input_tokens': 836, 'output_tokens': 72, 'total_tokens': 908}), ToolMessage(content='Data e hora: 12 de agosto, às 21h30 (de Brasília) · Local: Atanasio Girardot, em Medellín (COL) · Transmissão: Paramount+ (streaming --de acordo ... Atlético Nacional e São Paulo se enfrentam às 21h30 (de Brasília) desta terça-feira, pela partida de ida das oitavas de final da Conmebol ... A partida acontece no estádio Atanásio Giradot, na Colômbia, às 21h30 (de Brasília). A transmissão será exclusiva do Paramount +, plataforma de ... Atlético Nacional e São Paulo se enfrentam nesta terça-feira, 12 de agosto, às 21h30, no Estádio Atanasio Girardot, em Medellín, ... Atlético Nacional e São Paulo se enfrentam nesta terça-feira (12), às 21h30 (horário de Brasília), pela Libertadores. Jogo: Atlético Nacional x São Paulo · Quando: Terça, 12 de agosto · Onde: Atanasio Girardot · Horário: 21h30 (Brasília) · Transmissão: Paramount + ... O jogo acontece a partir das 21h30 (horário de Brasília) e será disputado no Estádio Atanasio Girardot, em Medelín, na Colômbia. Atlético ... CALENDÁRIO DE JOGOS. Próximo jogo CONMEBOL Libertadores 2025. Atlético Nacional. x. São Paulo. 12/08/2025 - Terça - 21:30. Atanásio Girardot. Janeiro; Fevereiro ... Em partida válida pelas oitavas de final da Copa Conmebol Libertadores 2025, o SÃO PAULO FC recebe o ATLÉTICO NACIONAL-COL no MorumBIS no dia 19/08 às 21:30hrs.', name='search tool', id='67f0ab7d-e543-4ab2-8dd5-d3cfb5d20a0a', tool_call_id='h35zvj6c2'), ToolMessage(content='null', name='tool que notifica via telegram', id='0e221faa-f7b5-4a19-bbb6-17f4d4bf3ce6', tool_call_id='hy097xhv6'), AIMessage(content='O jogo do São Paulo pela Libertadores será às 21h30 (de Brasília) desta terça-feira, 12 de agosto, no Estádio Atanasio Girardot, em Medellín, Colômbia. A transmissão será exclusiva do Paramount+.\\n\\n', additional_kwargs={'tool_calls': [{'id': 'ad2dj511k', 'function': {'arguments': '{\"__arg1\":\"O jogo do Sao Paulo pela libertadores sera as 21h30 de terca-feira, 12 de agosto, no Estadio Atanasio Girardot, em Medellin, Colombia. A transmissao sera exclusiva do Paramount+.\"}', 'name': 'tool que notifica via telegram'}, 'type': 'function'}]}, response_metadata={'token_usage': {'completion_tokens': 126, 'prompt_tokens': 1299, 'total_tokens': 1425, 'completion_time': 0.301944073, 'prompt_time': 0.051059496, 'queue_time': 1.218432181, 'total_time': 0.353003569}, 'model_name': 'meta-llama/llama-4-scout-17b-16e-instruct', 'system_fingerprint': 'fp_42ae451038', 'service_tier': 'on_demand', 'finish_reason': 'tool_calls', 'logprobs': None}, id='run--59d1b3ec-8862-4759-b3eb-61c8efc6ef60-0', tool_calls=[{'name': 'tool que notifica via telegram', 'args': {'__arg1': 'O jogo do Sao Paulo pela libertadores sera as 21h30 de terca-feira, 12 de agosto, no Estadio Atanasio Girardot, em Medellin, Colombia. A transmissao sera exclusiva do Paramount+.'}, 'id': 'ad2dj511k', 'type': 'tool_call'}], usage_metadata={'input_tokens': 1299, 'output_tokens': 126, 'total_tokens': 1425})]}, next=('tools_node',), config={'configurable': {'thread_id': '1', 'checkpoint_ns': '', 'checkpoint_id': '1f077b4d-5692-6bbd-8009-6796b8542d43'}}, metadata={'source': 'loop', 'step': 9, 'parents': {}}, created_at='2025-08-12T19:45:00.674338+00:00', parent_config={'configurable': {'thread_id': '1', 'checkpoint_ns': '', 'checkpoint_id': '1f077b4d-47a6-6746-8008-b0235d52af61'}}, tasks=(PregelTask(id='97d6b063-ac5d-10d5-0646-a20c2c774f81', name='tools_node', path=('__pregel_pull', 'tools_node'), error=None, interrupts=(), state=None, result={'messages': [ToolMessage(content='null', name='tool que notifica via telegram', id='2feebf97-90e3-40d1-8f8a-5fa06a5388fa', tool_call_id='ad2dj511k')]}),), interrupts=()),\n",
       " StateSnapshot(values={'messages': [HumanMessage(content='Olá, qual é o meu nome?', additional_kwargs={}, response_metadata={}, id='a9d91f55-5d0a-479a-bbd0-efc7bf3cd3bc'), AIMessage(content='Eu não tenho acesso a informações pessoais, incluindo o seu nome.', additional_kwargs={}, response_metadata={'token_usage': {'completion_tokens': 14, 'prompt_tokens': 744, 'total_tokens': 758, 'completion_time': 0.032134349, 'prompt_time': 0.023828141, 'queue_time': 0.268409916, 'total_time': 0.05596249}, 'model_name': 'meta-llama/llama-4-scout-17b-16e-instruct', 'system_fingerprint': 'fp_42ae451038', 'service_tier': 'on_demand', 'finish_reason': 'stop', 'logprobs': None}, id='run--65ae3b27-46ee-458a-8007-eb295f442982-0', usage_metadata={'input_tokens': 744, 'output_tokens': 14, 'total_tokens': 758}), HumanMessage(content='Meu nome é ramon, muito prazer', additional_kwargs={}, response_metadata={}, id='cd2637d1-fd2a-455d-ba7c-547fa6e4258d'), AIMessage(content='Muito prazer, Ramon! É um prazer conversar com você. Como posso ajudar hoje?', additional_kwargs={}, response_metadata={'token_usage': {'completion_tokens': 22, 'prompt_tokens': 777, 'total_tokens': 799, 'completion_time': 0.05292056, 'prompt_time': 0.023058561, 'queue_time': 0.280472786, 'total_time': 0.075979121}, 'model_name': 'meta-llama/llama-4-scout-17b-16e-instruct', 'system_fingerprint': 'fp_37da608fc1', 'service_tier': 'on_demand', 'finish_reason': 'stop', 'logprobs': None}, id='run--36c1084f-9670-4856-abed-707ba374b1c2-0', usage_metadata={'input_tokens': 777, 'output_tokens': 22, 'total_tokens': 799}), HumanMessage(content='Quero que você veja que horas o São Paulo joga pela libertadores e me manda essa informação lá no telegram tbm, por favor', additional_kwargs={}, response_metadata={}, id='ef1ebb99-2730-453c-9c53-661e565e6462'), AIMessage(content='', additional_kwargs={'tool_calls': [{'id': 'h35zvj6c2', 'function': {'arguments': '{\"__arg1\":\"horario do jogo do Sao Paulo pela libertadores\"}', 'name': 'search tool'}, 'type': 'function'}, {'id': 'hy097xhv6', 'function': {'arguments': '{\"__arg1\":\"O jogo do Sao Paulo pela libertadores sera as [inserir horario]\"}', 'name': 'tool que notifica via telegram'}, 'type': 'function'}]}, response_metadata={'token_usage': {'completion_tokens': 72, 'prompt_tokens': 836, 'total_tokens': 908, 'completion_time': 0.164254622, 'prompt_time': 0.03635893, 'queue_time': 0.342814906, 'total_time': 0.200613552}, 'model_name': 'meta-llama/llama-4-scout-17b-16e-instruct', 'system_fingerprint': 'fp_37da608fc1', 'service_tier': 'on_demand', 'finish_reason': 'tool_calls', 'logprobs': None}, id='run--61963a7b-1660-4654-8ced-e3a4943425cb-0', tool_calls=[{'name': 'search tool', 'args': {'__arg1': 'horario do jogo do Sao Paulo pela libertadores'}, 'id': 'h35zvj6c2', 'type': 'tool_call'}, {'name': 'tool que notifica via telegram', 'args': {'__arg1': 'O jogo do Sao Paulo pela libertadores sera as [inserir horario]'}, 'id': 'hy097xhv6', 'type': 'tool_call'}], usage_metadata={'input_tokens': 836, 'output_tokens': 72, 'total_tokens': 908}), ToolMessage(content='Data e hora: 12 de agosto, às 21h30 (de Brasília) · Local: Atanasio Girardot, em Medellín (COL) · Transmissão: Paramount+ (streaming --de acordo ... Atlético Nacional e São Paulo se enfrentam às 21h30 (de Brasília) desta terça-feira, pela partida de ida das oitavas de final da Conmebol ... A partida acontece no estádio Atanásio Giradot, na Colômbia, às 21h30 (de Brasília). A transmissão será exclusiva do Paramount +, plataforma de ... Atlético Nacional e São Paulo se enfrentam nesta terça-feira, 12 de agosto, às 21h30, no Estádio Atanasio Girardot, em Medellín, ... Atlético Nacional e São Paulo se enfrentam nesta terça-feira (12), às 21h30 (horário de Brasília), pela Libertadores. Jogo: Atlético Nacional x São Paulo · Quando: Terça, 12 de agosto · Onde: Atanasio Girardot · Horário: 21h30 (Brasília) · Transmissão: Paramount + ... O jogo acontece a partir das 21h30 (horário de Brasília) e será disputado no Estádio Atanasio Girardot, em Medelín, na Colômbia. Atlético ... CALENDÁRIO DE JOGOS. Próximo jogo CONMEBOL Libertadores 2025. Atlético Nacional. x. São Paulo. 12/08/2025 - Terça - 21:30. Atanásio Girardot. Janeiro; Fevereiro ... Em partida válida pelas oitavas de final da Copa Conmebol Libertadores 2025, o SÃO PAULO FC recebe o ATLÉTICO NACIONAL-COL no MorumBIS no dia 19/08 às 21:30hrs.', name='search tool', id='67f0ab7d-e543-4ab2-8dd5-d3cfb5d20a0a', tool_call_id='h35zvj6c2'), ToolMessage(content='null', name='tool que notifica via telegram', id='0e221faa-f7b5-4a19-bbb6-17f4d4bf3ce6', tool_call_id='hy097xhv6')]}, next=('chatbot_node',), config={'configurable': {'thread_id': '1', 'checkpoint_ns': '', 'checkpoint_id': '1f077b4d-47a6-6746-8008-b0235d52af61'}}, metadata={'source': 'loop', 'step': 8, 'parents': {}}, created_at='2025-08-12T19:44:59.109538+00:00', parent_config={'configurable': {'thread_id': '1', 'checkpoint_ns': '', 'checkpoint_id': '1f077b4d-3924-6b54-8007-94f66493be3f'}}, tasks=(PregelTask(id='dd3f414b-bd05-291a-0265-c823f5ad25a0', name='chatbot_node', path=('__pregel_pull', 'chatbot_node'), error=None, interrupts=(), state=None, result={'messages': [AIMessage(content='O jogo do São Paulo pela Libertadores será às 21h30 (de Brasília) desta terça-feira, 12 de agosto, no Estádio Atanasio Girardot, em Medellín, Colômbia. A transmissão será exclusiva do Paramount+.\\n\\n', additional_kwargs={'tool_calls': [{'id': 'ad2dj511k', 'function': {'arguments': '{\"__arg1\":\"O jogo do Sao Paulo pela libertadores sera as 21h30 de terca-feira, 12 de agosto, no Estadio Atanasio Girardot, em Medellin, Colombia. A transmissao sera exclusiva do Paramount+.\"}', 'name': 'tool que notifica via telegram'}, 'type': 'function'}]}, response_metadata={'token_usage': {'completion_tokens': 126, 'prompt_tokens': 1299, 'total_tokens': 1425, 'completion_time': 0.301944073, 'prompt_time': 0.051059496, 'queue_time': 1.218432181, 'total_time': 0.353003569}, 'model_name': 'meta-llama/llama-4-scout-17b-16e-instruct', 'system_fingerprint': 'fp_42ae451038', 'service_tier': 'on_demand', 'finish_reason': 'tool_calls', 'logprobs': None}, id='run--59d1b3ec-8862-4759-b3eb-61c8efc6ef60-0', tool_calls=[{'name': 'tool que notifica via telegram', 'args': {'__arg1': 'O jogo do Sao Paulo pela libertadores sera as 21h30 de terca-feira, 12 de agosto, no Estadio Atanasio Girardot, em Medellin, Colombia. A transmissao sera exclusiva do Paramount+.'}, 'id': 'ad2dj511k', 'type': 'tool_call'}], usage_metadata={'input_tokens': 1299, 'output_tokens': 126, 'total_tokens': 1425})]}),), interrupts=()),\n",
       " StateSnapshot(values={'messages': [HumanMessage(content='Olá, qual é o meu nome?', additional_kwargs={}, response_metadata={}, id='a9d91f55-5d0a-479a-bbd0-efc7bf3cd3bc'), AIMessage(content='Eu não tenho acesso a informações pessoais, incluindo o seu nome.', additional_kwargs={}, response_metadata={'token_usage': {'completion_tokens': 14, 'prompt_tokens': 744, 'total_tokens': 758, 'completion_time': 0.032134349, 'prompt_time': 0.023828141, 'queue_time': 0.268409916, 'total_time': 0.05596249}, 'model_name': 'meta-llama/llama-4-scout-17b-16e-instruct', 'system_fingerprint': 'fp_42ae451038', 'service_tier': 'on_demand', 'finish_reason': 'stop', 'logprobs': None}, id='run--65ae3b27-46ee-458a-8007-eb295f442982-0', usage_metadata={'input_tokens': 744, 'output_tokens': 14, 'total_tokens': 758}), HumanMessage(content='Meu nome é ramon, muito prazer', additional_kwargs={}, response_metadata={}, id='cd2637d1-fd2a-455d-ba7c-547fa6e4258d'), AIMessage(content='Muito prazer, Ramon! É um prazer conversar com você. Como posso ajudar hoje?', additional_kwargs={}, response_metadata={'token_usage': {'completion_tokens': 22, 'prompt_tokens': 777, 'total_tokens': 799, 'completion_time': 0.05292056, 'prompt_time': 0.023058561, 'queue_time': 0.280472786, 'total_time': 0.075979121}, 'model_name': 'meta-llama/llama-4-scout-17b-16e-instruct', 'system_fingerprint': 'fp_37da608fc1', 'service_tier': 'on_demand', 'finish_reason': 'stop', 'logprobs': None}, id='run--36c1084f-9670-4856-abed-707ba374b1c2-0', usage_metadata={'input_tokens': 777, 'output_tokens': 22, 'total_tokens': 799}), HumanMessage(content='Quero que você veja que horas o São Paulo joga pela libertadores e me manda essa informação lá no telegram tbm, por favor', additional_kwargs={}, response_metadata={}, id='ef1ebb99-2730-453c-9c53-661e565e6462'), AIMessage(content='', additional_kwargs={'tool_calls': [{'id': 'h35zvj6c2', 'function': {'arguments': '{\"__arg1\":\"horario do jogo do Sao Paulo pela libertadores\"}', 'name': 'search tool'}, 'type': 'function'}, {'id': 'hy097xhv6', 'function': {'arguments': '{\"__arg1\":\"O jogo do Sao Paulo pela libertadores sera as [inserir horario]\"}', 'name': 'tool que notifica via telegram'}, 'type': 'function'}]}, response_metadata={'token_usage': {'completion_tokens': 72, 'prompt_tokens': 836, 'total_tokens': 908, 'completion_time': 0.164254622, 'prompt_time': 0.03635893, 'queue_time': 0.342814906, 'total_time': 0.200613552}, 'model_name': 'meta-llama/llama-4-scout-17b-16e-instruct', 'system_fingerprint': 'fp_37da608fc1', 'service_tier': 'on_demand', 'finish_reason': 'tool_calls', 'logprobs': None}, id='run--61963a7b-1660-4654-8ced-e3a4943425cb-0', tool_calls=[{'name': 'search tool', 'args': {'__arg1': 'horario do jogo do Sao Paulo pela libertadores'}, 'id': 'h35zvj6c2', 'type': 'tool_call'}, {'name': 'tool que notifica via telegram', 'args': {'__arg1': 'O jogo do Sao Paulo pela libertadores sera as [inserir horario]'}, 'id': 'hy097xhv6', 'type': 'tool_call'}], usage_metadata={'input_tokens': 836, 'output_tokens': 72, 'total_tokens': 908})]}, next=('tools_node',), config={'configurable': {'thread_id': '1', 'checkpoint_ns': '', 'checkpoint_id': '1f077b4d-3924-6b54-8007-94f66493be3f'}}, metadata={'source': 'loop', 'step': 7, 'parents': {}}, created_at='2025-08-12T19:44:57.588401+00:00', parent_config={'configurable': {'thread_id': '1', 'checkpoint_ns': '', 'checkpoint_id': '1f077b4d-32d3-6ef0-8006-80167d2f560b'}}, tasks=(PregelTask(id='63b005f2-41de-29e6-4712-283c693b55bc', name='tools_node', path=('__pregel_pull', 'tools_node'), error=None, interrupts=(), state=None, result={'messages': [ToolMessage(content='Data e hora: 12 de agosto, às 21h30 (de Brasília) · Local: Atanasio Girardot, em Medellín (COL) · Transmissão: Paramount+ (streaming --de acordo ... Atlético Nacional e São Paulo se enfrentam às 21h30 (de Brasília) desta terça-feira, pela partida de ida das oitavas de final da Conmebol ... A partida acontece no estádio Atanásio Giradot, na Colômbia, às 21h30 (de Brasília). A transmissão será exclusiva do Paramount +, plataforma de ... Atlético Nacional e São Paulo se enfrentam nesta terça-feira, 12 de agosto, às 21h30, no Estádio Atanasio Girardot, em Medellín, ... Atlético Nacional e São Paulo se enfrentam nesta terça-feira (12), às 21h30 (horário de Brasília), pela Libertadores. Jogo: Atlético Nacional x São Paulo · Quando: Terça, 12 de agosto · Onde: Atanasio Girardot · Horário: 21h30 (Brasília) · Transmissão: Paramount + ... O jogo acontece a partir das 21h30 (horário de Brasília) e será disputado no Estádio Atanasio Girardot, em Medelín, na Colômbia. Atlético ... CALENDÁRIO DE JOGOS. Próximo jogo CONMEBOL Libertadores 2025. Atlético Nacional. x. São Paulo. 12/08/2025 - Terça - 21:30. Atanásio Girardot. Janeiro; Fevereiro ... Em partida válida pelas oitavas de final da Copa Conmebol Libertadores 2025, o SÃO PAULO FC recebe o ATLÉTICO NACIONAL-COL no MorumBIS no dia 19/08 às 21:30hrs.', name='search tool', id='67f0ab7d-e543-4ab2-8dd5-d3cfb5d20a0a', tool_call_id='h35zvj6c2'), ToolMessage(content='null', name='tool que notifica via telegram', id='0e221faa-f7b5-4a19-bbb6-17f4d4bf3ce6', tool_call_id='hy097xhv6')]}),), interrupts=()),\n",
       " StateSnapshot(values={'messages': [HumanMessage(content='Olá, qual é o meu nome?', additional_kwargs={}, response_metadata={}, id='a9d91f55-5d0a-479a-bbd0-efc7bf3cd3bc'), AIMessage(content='Eu não tenho acesso a informações pessoais, incluindo o seu nome.', additional_kwargs={}, response_metadata={'token_usage': {'completion_tokens': 14, 'prompt_tokens': 744, 'total_tokens': 758, 'completion_time': 0.032134349, 'prompt_time': 0.023828141, 'queue_time': 0.268409916, 'total_time': 0.05596249}, 'model_name': 'meta-llama/llama-4-scout-17b-16e-instruct', 'system_fingerprint': 'fp_42ae451038', 'service_tier': 'on_demand', 'finish_reason': 'stop', 'logprobs': None}, id='run--65ae3b27-46ee-458a-8007-eb295f442982-0', usage_metadata={'input_tokens': 744, 'output_tokens': 14, 'total_tokens': 758}), HumanMessage(content='Meu nome é ramon, muito prazer', additional_kwargs={}, response_metadata={}, id='cd2637d1-fd2a-455d-ba7c-547fa6e4258d'), AIMessage(content='Muito prazer, Ramon! É um prazer conversar com você. Como posso ajudar hoje?', additional_kwargs={}, response_metadata={'token_usage': {'completion_tokens': 22, 'prompt_tokens': 777, 'total_tokens': 799, 'completion_time': 0.05292056, 'prompt_time': 0.023058561, 'queue_time': 0.280472786, 'total_time': 0.075979121}, 'model_name': 'meta-llama/llama-4-scout-17b-16e-instruct', 'system_fingerprint': 'fp_37da608fc1', 'service_tier': 'on_demand', 'finish_reason': 'stop', 'logprobs': None}, id='run--36c1084f-9670-4856-abed-707ba374b1c2-0', usage_metadata={'input_tokens': 777, 'output_tokens': 22, 'total_tokens': 799}), HumanMessage(content='Quero que você veja que horas o São Paulo joga pela libertadores e me manda essa informação lá no telegram tbm, por favor', additional_kwargs={}, response_metadata={}, id='ef1ebb99-2730-453c-9c53-661e565e6462')]}, next=('chatbot_node',), config={'configurable': {'thread_id': '1', 'checkpoint_ns': '', 'checkpoint_id': '1f077b4d-32d3-6ef0-8006-80167d2f560b'}}, metadata={'source': 'loop', 'step': 6, 'parents': {}}, created_at='2025-08-12T19:44:56.926171+00:00', parent_config={'configurable': {'thread_id': '1', 'checkpoint_ns': '', 'checkpoint_id': '1f077b4d-32d1-6180-8005-3bed5facfbc7'}}, tasks=(PregelTask(id='0493fb69-54ff-2e71-28b7-dd41c84844c0', name='chatbot_node', path=('__pregel_pull', 'chatbot_node'), error=None, interrupts=(), state=None, result={'messages': [AIMessage(content='', additional_kwargs={'tool_calls': [{'id': 'h35zvj6c2', 'function': {'arguments': '{\"__arg1\":\"horario do jogo do Sao Paulo pela libertadores\"}', 'name': 'search tool'}, 'type': 'function'}, {'id': 'hy097xhv6', 'function': {'arguments': '{\"__arg1\":\"O jogo do Sao Paulo pela libertadores sera as [inserir horario]\"}', 'name': 'tool que notifica via telegram'}, 'type': 'function'}]}, response_metadata={'token_usage': {'completion_tokens': 72, 'prompt_tokens': 836, 'total_tokens': 908, 'completion_time': 0.164254622, 'prompt_time': 0.03635893, 'queue_time': 0.342814906, 'total_time': 0.200613552}, 'model_name': 'meta-llama/llama-4-scout-17b-16e-instruct', 'system_fingerprint': 'fp_37da608fc1', 'service_tier': 'on_demand', 'finish_reason': 'tool_calls', 'logprobs': None}, id='run--61963a7b-1660-4654-8ced-e3a4943425cb-0', tool_calls=[{'name': 'search tool', 'args': {'__arg1': 'horario do jogo do Sao Paulo pela libertadores'}, 'id': 'h35zvj6c2', 'type': 'tool_call'}, {'name': 'tool que notifica via telegram', 'args': {'__arg1': 'O jogo do Sao Paulo pela libertadores sera as [inserir horario]'}, 'id': 'hy097xhv6', 'type': 'tool_call'}], usage_metadata={'input_tokens': 836, 'output_tokens': 72, 'total_tokens': 908})]}),), interrupts=()),\n",
       " StateSnapshot(values={'messages': [HumanMessage(content='Olá, qual é o meu nome?', additional_kwargs={}, response_metadata={}, id='a9d91f55-5d0a-479a-bbd0-efc7bf3cd3bc'), AIMessage(content='Eu não tenho acesso a informações pessoais, incluindo o seu nome.', additional_kwargs={}, response_metadata={'token_usage': {'completion_tokens': 14, 'prompt_tokens': 744, 'total_tokens': 758, 'completion_time': 0.032134349, 'prompt_time': 0.023828141, 'queue_time': 0.268409916, 'total_time': 0.05596249}, 'model_name': 'meta-llama/llama-4-scout-17b-16e-instruct', 'system_fingerprint': 'fp_42ae451038', 'service_tier': 'on_demand', 'finish_reason': 'stop', 'logprobs': None}, id='run--65ae3b27-46ee-458a-8007-eb295f442982-0', usage_metadata={'input_tokens': 744, 'output_tokens': 14, 'total_tokens': 758}), HumanMessage(content='Meu nome é ramon, muito prazer', additional_kwargs={}, response_metadata={}, id='cd2637d1-fd2a-455d-ba7c-547fa6e4258d'), AIMessage(content='Muito prazer, Ramon! É um prazer conversar com você. Como posso ajudar hoje?', additional_kwargs={}, response_metadata={'token_usage': {'completion_tokens': 22, 'prompt_tokens': 777, 'total_tokens': 799, 'completion_time': 0.05292056, 'prompt_time': 0.023058561, 'queue_time': 0.280472786, 'total_time': 0.075979121}, 'model_name': 'meta-llama/llama-4-scout-17b-16e-instruct', 'system_fingerprint': 'fp_37da608fc1', 'service_tier': 'on_demand', 'finish_reason': 'stop', 'logprobs': None}, id='run--36c1084f-9670-4856-abed-707ba374b1c2-0', usage_metadata={'input_tokens': 777, 'output_tokens': 22, 'total_tokens': 799})]}, next=('__start__',), config={'configurable': {'thread_id': '1', 'checkpoint_ns': '', 'checkpoint_id': '1f077b4d-32d1-6180-8005-3bed5facfbc7'}}, metadata={'source': 'input', 'step': 5, 'parents': {}}, created_at='2025-08-12T19:44:56.925008+00:00', parent_config={'configurable': {'thread_id': '1', 'checkpoint_ns': '', 'checkpoint_id': '1f077b4c-00ef-6ced-8004-1842a6278b49'}}, tasks=(PregelTask(id='84bf6758-77a4-be51-3c65-5d4b91e61297', name='__start__', path=('__pregel_pull', '__start__'), error=None, interrupts=(), state=None, result={'messages': [{'role': 'user', 'content': 'Quero que você veja que horas o São Paulo joga pela libertadores e me manda essa informação lá no telegram tbm, por favor'}]}),), interrupts=()),\n",
       " StateSnapshot(values={'messages': [HumanMessage(content='Olá, qual é o meu nome?', additional_kwargs={}, response_metadata={}, id='a9d91f55-5d0a-479a-bbd0-efc7bf3cd3bc'), AIMessage(content='Eu não tenho acesso a informações pessoais, incluindo o seu nome.', additional_kwargs={}, response_metadata={'token_usage': {'completion_tokens': 14, 'prompt_tokens': 744, 'total_tokens': 758, 'completion_time': 0.032134349, 'prompt_time': 0.023828141, 'queue_time': 0.268409916, 'total_time': 0.05596249}, 'model_name': 'meta-llama/llama-4-scout-17b-16e-instruct', 'system_fingerprint': 'fp_42ae451038', 'service_tier': 'on_demand', 'finish_reason': 'stop', 'logprobs': None}, id='run--65ae3b27-46ee-458a-8007-eb295f442982-0', usage_metadata={'input_tokens': 744, 'output_tokens': 14, 'total_tokens': 758}), HumanMessage(content='Meu nome é ramon, muito prazer', additional_kwargs={}, response_metadata={}, id='cd2637d1-fd2a-455d-ba7c-547fa6e4258d'), AIMessage(content='Muito prazer, Ramon! É um prazer conversar com você. Como posso ajudar hoje?', additional_kwargs={}, response_metadata={'token_usage': {'completion_tokens': 22, 'prompt_tokens': 777, 'total_tokens': 799, 'completion_time': 0.05292056, 'prompt_time': 0.023058561, 'queue_time': 0.280472786, 'total_time': 0.075979121}, 'model_name': 'meta-llama/llama-4-scout-17b-16e-instruct', 'system_fingerprint': 'fp_37da608fc1', 'service_tier': 'on_demand', 'finish_reason': 'stop', 'logprobs': None}, id='run--36c1084f-9670-4856-abed-707ba374b1c2-0', usage_metadata={'input_tokens': 777, 'output_tokens': 22, 'total_tokens': 799})]}, next=(), config={'configurable': {'thread_id': '1', 'checkpoint_ns': '', 'checkpoint_id': '1f077b4c-00ef-6ced-8004-1842a6278b49'}}, metadata={'source': 'loop', 'step': 4, 'parents': {}}, created_at='2025-08-12T19:44:24.851158+00:00', parent_config={'configurable': {'thread_id': '1', 'checkpoint_ns': '', 'checkpoint_id': '1f077b4b-fc34-6178-8003-d1b902d396fd'}}, tasks=(), interrupts=()),\n",
       " StateSnapshot(values={'messages': [HumanMessage(content='Olá, qual é o meu nome?', additional_kwargs={}, response_metadata={}, id='a9d91f55-5d0a-479a-bbd0-efc7bf3cd3bc'), AIMessage(content='Eu não tenho acesso a informações pessoais, incluindo o seu nome.', additional_kwargs={}, response_metadata={'token_usage': {'completion_tokens': 14, 'prompt_tokens': 744, 'total_tokens': 758, 'completion_time': 0.032134349, 'prompt_time': 0.023828141, 'queue_time': 0.268409916, 'total_time': 0.05596249}, 'model_name': 'meta-llama/llama-4-scout-17b-16e-instruct', 'system_fingerprint': 'fp_42ae451038', 'service_tier': 'on_demand', 'finish_reason': 'stop', 'logprobs': None}, id='run--65ae3b27-46ee-458a-8007-eb295f442982-0', usage_metadata={'input_tokens': 744, 'output_tokens': 14, 'total_tokens': 758}), HumanMessage(content='Meu nome é ramon, muito prazer', additional_kwargs={}, response_metadata={}, id='cd2637d1-fd2a-455d-ba7c-547fa6e4258d')]}, next=('chatbot_node',), config={'configurable': {'thread_id': '1', 'checkpoint_ns': '', 'checkpoint_id': '1f077b4b-fc34-6178-8003-d1b902d396fd'}}, metadata={'source': 'loop', 'step': 3, 'parents': {}}, created_at='2025-08-12T19:44:24.354843+00:00', parent_config={'configurable': {'thread_id': '1', 'checkpoint_ns': '', 'checkpoint_id': '1f077b4b-fc31-6861-8002-b75fe5fa6090'}}, tasks=(PregelTask(id='c42376de-7ebf-ba13-b848-6e9b997a6891', name='chatbot_node', path=('__pregel_pull', 'chatbot_node'), error=None, interrupts=(), state=None, result={'messages': [AIMessage(content='Muito prazer, Ramon! É um prazer conversar com você. Como posso ajudar hoje?', additional_kwargs={}, response_metadata={'token_usage': {'completion_tokens': 22, 'prompt_tokens': 777, 'total_tokens': 799, 'completion_time': 0.05292056, 'prompt_time': 0.023058561, 'queue_time': 0.280472786, 'total_time': 0.075979121}, 'model_name': 'meta-llama/llama-4-scout-17b-16e-instruct', 'system_fingerprint': 'fp_37da608fc1', 'service_tier': 'on_demand', 'finish_reason': 'stop', 'logprobs': None}, id='run--36c1084f-9670-4856-abed-707ba374b1c2-0', usage_metadata={'input_tokens': 777, 'output_tokens': 22, 'total_tokens': 799})]}),), interrupts=()),\n",
       " StateSnapshot(values={'messages': [HumanMessage(content='Olá, qual é o meu nome?', additional_kwargs={}, response_metadata={}, id='a9d91f55-5d0a-479a-bbd0-efc7bf3cd3bc'), AIMessage(content='Eu não tenho acesso a informações pessoais, incluindo o seu nome.', additional_kwargs={}, response_metadata={'token_usage': {'completion_tokens': 14, 'prompt_tokens': 744, 'total_tokens': 758, 'completion_time': 0.032134349, 'prompt_time': 0.023828141, 'queue_time': 0.268409916, 'total_time': 0.05596249}, 'model_name': 'meta-llama/llama-4-scout-17b-16e-instruct', 'system_fingerprint': 'fp_42ae451038', 'service_tier': 'on_demand', 'finish_reason': 'stop', 'logprobs': None}, id='run--65ae3b27-46ee-458a-8007-eb295f442982-0', usage_metadata={'input_tokens': 744, 'output_tokens': 14, 'total_tokens': 758})]}, next=('__start__',), config={'configurable': {'thread_id': '1', 'checkpoint_ns': '', 'checkpoint_id': '1f077b4b-fc31-6861-8002-b75fe5fa6090'}}, metadata={'source': 'input', 'step': 2, 'parents': {}}, created_at='2025-08-12T19:44:24.353787+00:00', parent_config={'configurable': {'thread_id': '1', 'checkpoint_ns': '', 'checkpoint_id': '1f077b4b-9be0-64d8-8001-1e4cd36f4dfe'}}, tasks=(PregelTask(id='1068ea97-f7e7-4e0d-bef6-228f36f22057', name='__start__', path=('__pregel_pull', '__start__'), error=None, interrupts=(), state=None, result={'messages': [{'role': 'user', 'content': 'Meu nome é ramon, muito prazer'}]}),), interrupts=()),\n",
       " StateSnapshot(values={'messages': [HumanMessage(content='Olá, qual é o meu nome?', additional_kwargs={}, response_metadata={}, id='a9d91f55-5d0a-479a-bbd0-efc7bf3cd3bc'), AIMessage(content='Eu não tenho acesso a informações pessoais, incluindo o seu nome.', additional_kwargs={}, response_metadata={'token_usage': {'completion_tokens': 14, 'prompt_tokens': 744, 'total_tokens': 758, 'completion_time': 0.032134349, 'prompt_time': 0.023828141, 'queue_time': 0.268409916, 'total_time': 0.05596249}, 'model_name': 'meta-llama/llama-4-scout-17b-16e-instruct', 'system_fingerprint': 'fp_42ae451038', 'service_tier': 'on_demand', 'finish_reason': 'stop', 'logprobs': None}, id='run--65ae3b27-46ee-458a-8007-eb295f442982-0', usage_metadata={'input_tokens': 744, 'output_tokens': 14, 'total_tokens': 758})]}, next=(), config={'configurable': {'thread_id': '1', 'checkpoint_ns': '', 'checkpoint_id': '1f077b4b-9be0-64d8-8001-1e4cd36f4dfe'}}, metadata={'source': 'loop', 'step': 1, 'parents': {}}, created_at='2025-08-12T19:44:14.254185+00:00', parent_config={'configurable': {'thread_id': '1', 'checkpoint_ns': '', 'checkpoint_id': '1f077b4b-975b-6ad1-8000-7c8831fe5fc4'}}, tasks=(), interrupts=()),\n",
       " StateSnapshot(values={'messages': [HumanMessage(content='Olá, qual é o meu nome?', additional_kwargs={}, response_metadata={}, id='a9d91f55-5d0a-479a-bbd0-efc7bf3cd3bc')]}, next=('chatbot_node',), config={'configurable': {'thread_id': '1', 'checkpoint_ns': '', 'checkpoint_id': '1f077b4b-975b-6ad1-8000-7c8831fe5fc4'}}, metadata={'source': 'loop', 'step': 0, 'parents': {}}, created_at='2025-08-12T19:44:13.780433+00:00', parent_config={'configurable': {'thread_id': '1', 'checkpoint_ns': '', 'checkpoint_id': '1f077b4b-9756-6c0c-bfff-fbb212a569c5'}}, tasks=(PregelTask(id='a98cc454-a2f8-89a2-9710-26085816e2ec', name='chatbot_node', path=('__pregel_pull', 'chatbot_node'), error=None, interrupts=(), state=None, result={'messages': [AIMessage(content='Eu não tenho acesso a informações pessoais, incluindo o seu nome.', additional_kwargs={}, response_metadata={'token_usage': {'completion_tokens': 14, 'prompt_tokens': 744, 'total_tokens': 758, 'completion_time': 0.032134349, 'prompt_time': 0.023828141, 'queue_time': 0.268409916, 'total_time': 0.05596249}, 'model_name': 'meta-llama/llama-4-scout-17b-16e-instruct', 'system_fingerprint': 'fp_42ae451038', 'service_tier': 'on_demand', 'finish_reason': 'stop', 'logprobs': None}, id='run--65ae3b27-46ee-458a-8007-eb295f442982-0', usage_metadata={'input_tokens': 744, 'output_tokens': 14, 'total_tokens': 758})]}),), interrupts=()),\n",
       " StateSnapshot(values={'messages': []}, next=('__start__',), config={'configurable': {'thread_id': '1', 'checkpoint_ns': '', 'checkpoint_id': '1f077b4b-9756-6c0c-bfff-fbb212a569c5'}}, metadata={'source': 'input', 'step': -1, 'parents': {}}, created_at='2025-08-12T19:44:13.778424+00:00', parent_config=None, tasks=(PregelTask(id='5920f240-8d19-d335-1755-2411445d6522', name='__start__', path=('__pregel_pull', '__start__'), error=None, interrupts=(), state=None, result={'messages': [{'role': 'user', 'content': 'Olá, qual é o meu nome?'}]}),), interrupts=())]"
      ]
     },
     "execution_count": 39,
     "metadata": {},
     "output_type": "execute_result"
    }
   ],
   "source": [
    "list(graph.get_state_history(config))"
   ]
  },
  {
   "cell_type": "markdown",
   "id": "d71564d4",
   "metadata": {},
   "source": [
    "# Abrindo o arquivo"
   ]
  },
  {
   "cell_type": "code",
   "execution_count": 46,
   "id": "e360ccdf",
   "metadata": {},
   "outputs": [
    {
     "name": "stdout",
     "output_type": "stream",
     "text": [
      "          name\n",
      "0  checkpoints\n",
      "1       writes\n"
     ]
    }
   ],
   "source": [
    "import pandas as pd\n",
    "\n",
    "conn = sqlite3.connect('memory.db')\n",
    "\n",
    "query_tables = \"SELECT name FROM sqlite_master WHERE type='table';\"\n",
    "tables = pd.read_sql_query(query_tables, conn)\n",
    "print(tables)"
   ]
  },
  {
   "cell_type": "code",
   "execution_count": 48,
   "id": "c63db884",
   "metadata": {},
   "outputs": [],
   "source": [
    "checkpoints_df = pd.read_sql_query(\"SELECT * FROM checkpoints;\", conn)\n",
    "writes_df = pd.read_sql_query(\"SELECT * FROM writes;\", conn)"
   ]
  },
  {
   "cell_type": "code",
   "execution_count": 50,
   "id": "9cd49a94",
   "metadata": {},
   "outputs": [
    {
     "data": {
      "text/html": [
       "<div>\n",
       "<style scoped>\n",
       "    .dataframe tbody tr th:only-of-type {\n",
       "        vertical-align: middle;\n",
       "    }\n",
       "\n",
       "    .dataframe tbody tr th {\n",
       "        vertical-align: top;\n",
       "    }\n",
       "\n",
       "    .dataframe thead th {\n",
       "        text-align: right;\n",
       "    }\n",
       "</style>\n",
       "<table border=\"1\" class=\"dataframe\">\n",
       "  <thead>\n",
       "    <tr style=\"text-align: right;\">\n",
       "      <th></th>\n",
       "      <th>thread_id</th>\n",
       "      <th>checkpoint_ns</th>\n",
       "      <th>checkpoint_id</th>\n",
       "      <th>parent_checkpoint_id</th>\n",
       "      <th>type</th>\n",
       "      <th>checkpoint</th>\n",
       "      <th>metadata</th>\n",
       "    </tr>\n",
       "  </thead>\n",
       "  <tbody>\n",
       "    <tr>\n",
       "      <th>0</th>\n",
       "      <td>029qry8fshdn932</td>\n",
       "      <td></td>\n",
       "      <td>1f077b47-d925-6a5b-bfff-9755582335c5</td>\n",
       "      <td>None</td>\n",
       "      <td>msgpack</td>\n",
       "      <td>b'\\x87\\xa1v\\x04\\xa2ts\\xd9 2025-08-12T19:42:33....</td>\n",
       "      <td>b'{\"source\": \"input\", \"step\": -1, \"parents\": {}}'</td>\n",
       "    </tr>\n",
       "    <tr>\n",
       "      <th>1</th>\n",
       "      <td>029qry8fshdn932</td>\n",
       "      <td></td>\n",
       "      <td>1f077b47-d929-61ab-8000-f0d032b2eb00</td>\n",
       "      <td>1f077b47-d925-6a5b-bfff-9755582335c5</td>\n",
       "      <td>msgpack</td>\n",
       "      <td>b'\\x87\\xa1v\\x04\\xa2ts\\xd9 2025-08-12T19:42:33....</td>\n",
       "      <td>b'{\"source\": \"loop\", \"step\": 0, \"parents\": {}}'</td>\n",
       "    </tr>\n",
       "    <tr>\n",
       "      <th>2</th>\n",
       "      <td>029qry8fshdn932</td>\n",
       "      <td></td>\n",
       "      <td>1f077b47-e056-6a8b-8001-7ffdc5139831</td>\n",
       "      <td>1f077b47-d929-61ab-8000-f0d032b2eb00</td>\n",
       "      <td>msgpack</td>\n",
       "      <td>b'\\x87\\xa1v\\x04\\xa2ts\\xd9 2025-08-12T19:42:34....</td>\n",
       "      <td>b'{\"source\": \"loop\", \"step\": 1, \"parents\": {}}'</td>\n",
       "    </tr>\n",
       "    <tr>\n",
       "      <th>3</th>\n",
       "      <td>029qry8fshdn932</td>\n",
       "      <td></td>\n",
       "      <td>1f077b49-0796-6c8a-8002-40a9bb80740e</td>\n",
       "      <td>1f077b47-e056-6a8b-8001-7ffdc5139831</td>\n",
       "      <td>msgpack</td>\n",
       "      <td>b'\\x87\\xa1v\\x04\\xa2ts\\xd9 2025-08-12T19:43:05....</td>\n",
       "      <td>b'{\"source\": \"input\", \"step\": 2, \"parents\": {}}'</td>\n",
       "    </tr>\n",
       "    <tr>\n",
       "      <th>4</th>\n",
       "      <td>029qry8fshdn932</td>\n",
       "      <td></td>\n",
       "      <td>1f077b49-0799-6e86-8003-20794edca951</td>\n",
       "      <td>1f077b49-0796-6c8a-8002-40a9bb80740e</td>\n",
       "      <td>msgpack</td>\n",
       "      <td>b'\\x87\\xa1v\\x04\\xa2ts\\xd9 2025-08-12T19:43:05....</td>\n",
       "      <td>b'{\"source\": \"loop\", \"step\": 3, \"parents\": {}}'</td>\n",
       "    </tr>\n",
       "  </tbody>\n",
       "</table>\n",
       "</div>"
      ],
      "text/plain": [
       "         thread_id checkpoint_ns                         checkpoint_id  \\\n",
       "0  029qry8fshdn932                1f077b47-d925-6a5b-bfff-9755582335c5   \n",
       "1  029qry8fshdn932                1f077b47-d929-61ab-8000-f0d032b2eb00   \n",
       "2  029qry8fshdn932                1f077b47-e056-6a8b-8001-7ffdc5139831   \n",
       "3  029qry8fshdn932                1f077b49-0796-6c8a-8002-40a9bb80740e   \n",
       "4  029qry8fshdn932                1f077b49-0799-6e86-8003-20794edca951   \n",
       "\n",
       "                   parent_checkpoint_id     type  \\\n",
       "0                                  None  msgpack   \n",
       "1  1f077b47-d925-6a5b-bfff-9755582335c5  msgpack   \n",
       "2  1f077b47-d929-61ab-8000-f0d032b2eb00  msgpack   \n",
       "3  1f077b47-e056-6a8b-8001-7ffdc5139831  msgpack   \n",
       "4  1f077b49-0796-6c8a-8002-40a9bb80740e  msgpack   \n",
       "\n",
       "                                          checkpoint  \\\n",
       "0  b'\\x87\\xa1v\\x04\\xa2ts\\xd9 2025-08-12T19:42:33....   \n",
       "1  b'\\x87\\xa1v\\x04\\xa2ts\\xd9 2025-08-12T19:42:33....   \n",
       "2  b'\\x87\\xa1v\\x04\\xa2ts\\xd9 2025-08-12T19:42:34....   \n",
       "3  b'\\x87\\xa1v\\x04\\xa2ts\\xd9 2025-08-12T19:43:05....   \n",
       "4  b'\\x87\\xa1v\\x04\\xa2ts\\xd9 2025-08-12T19:43:05....   \n",
       "\n",
       "                                            metadata  \n",
       "0  b'{\"source\": \"input\", \"step\": -1, \"parents\": {}}'  \n",
       "1    b'{\"source\": \"loop\", \"step\": 0, \"parents\": {}}'  \n",
       "2    b'{\"source\": \"loop\", \"step\": 1, \"parents\": {}}'  \n",
       "3   b'{\"source\": \"input\", \"step\": 2, \"parents\": {}}'  \n",
       "4    b'{\"source\": \"loop\", \"step\": 3, \"parents\": {}}'  "
      ]
     },
     "execution_count": 50,
     "metadata": {},
     "output_type": "execute_result"
    }
   ],
   "source": [
    "checkpoints_df.head()"
   ]
  },
  {
   "cell_type": "code",
   "execution_count": 51,
   "id": "72f26467",
   "metadata": {},
   "outputs": [
    {
     "data": {
      "text/html": [
       "<div>\n",
       "<style scoped>\n",
       "    .dataframe tbody tr th:only-of-type {\n",
       "        vertical-align: middle;\n",
       "    }\n",
       "\n",
       "    .dataframe tbody tr th {\n",
       "        vertical-align: top;\n",
       "    }\n",
       "\n",
       "    .dataframe thead th {\n",
       "        text-align: right;\n",
       "    }\n",
       "</style>\n",
       "<table border=\"1\" class=\"dataframe\">\n",
       "  <thead>\n",
       "    <tr style=\"text-align: right;\">\n",
       "      <th></th>\n",
       "      <th>thread_id</th>\n",
       "      <th>checkpoint_ns</th>\n",
       "      <th>checkpoint_id</th>\n",
       "      <th>task_id</th>\n",
       "      <th>idx</th>\n",
       "      <th>channel</th>\n",
       "      <th>type</th>\n",
       "      <th>value</th>\n",
       "    </tr>\n",
       "  </thead>\n",
       "  <tbody>\n",
       "    <tr>\n",
       "      <th>0</th>\n",
       "      <td>029qry8fshdn932</td>\n",
       "      <td></td>\n",
       "      <td>1f077b47-d925-6a5b-bfff-9755582335c5</td>\n",
       "      <td>58690747-f5ee-7c3e-9da6-84f1dc368d6e</td>\n",
       "      <td>0</td>\n",
       "      <td>messages</td>\n",
       "      <td>msgpack</td>\n",
       "      <td>b'\\x91\\x82\\xa4role\\xa4user\\xa7content\\xa4Ol\\xc...</td>\n",
       "    </tr>\n",
       "    <tr>\n",
       "      <th>1</th>\n",
       "      <td>029qry8fshdn932</td>\n",
       "      <td></td>\n",
       "      <td>1f077b47-d925-6a5b-bfff-9755582335c5</td>\n",
       "      <td>58690747-f5ee-7c3e-9da6-84f1dc368d6e</td>\n",
       "      <td>1</td>\n",
       "      <td>branch:to:chatbot_node</td>\n",
       "      <td>null</td>\n",
       "      <td>b''</td>\n",
       "    </tr>\n",
       "    <tr>\n",
       "      <th>2</th>\n",
       "      <td>029qry8fshdn932</td>\n",
       "      <td></td>\n",
       "      <td>1f077b47-d929-61ab-8000-f0d032b2eb00</td>\n",
       "      <td>a5fa6026-5c49-8946-53d1-d3c70b9dfd9c</td>\n",
       "      <td>0</td>\n",
       "      <td>messages</td>\n",
       "      <td>msgpack</td>\n",
       "      <td>b'\\x91\\xc8\\x02V\\x05\\x94\\xbalangchain_core.mess...</td>\n",
       "    </tr>\n",
       "    <tr>\n",
       "      <th>3</th>\n",
       "      <td>029qry8fshdn932</td>\n",
       "      <td></td>\n",
       "      <td>1f077b49-0796-6c8a-8002-40a9bb80740e</td>\n",
       "      <td>740408e1-d91d-1473-c55b-2be43245df25</td>\n",
       "      <td>0</td>\n",
       "      <td>messages</td>\n",
       "      <td>msgpack</td>\n",
       "      <td>b'\\x91\\x82\\xa4role\\xa4user\\xa7content\\xd9\\x8dM...</td>\n",
       "    </tr>\n",
       "    <tr>\n",
       "      <th>4</th>\n",
       "      <td>029qry8fshdn932</td>\n",
       "      <td></td>\n",
       "      <td>1f077b49-0796-6c8a-8002-40a9bb80740e</td>\n",
       "      <td>740408e1-d91d-1473-c55b-2be43245df25</td>\n",
       "      <td>1</td>\n",
       "      <td>branch:to:chatbot_node</td>\n",
       "      <td>null</td>\n",
       "      <td>b''</td>\n",
       "    </tr>\n",
       "  </tbody>\n",
       "</table>\n",
       "</div>"
      ],
      "text/plain": [
       "         thread_id checkpoint_ns                         checkpoint_id  \\\n",
       "0  029qry8fshdn932                1f077b47-d925-6a5b-bfff-9755582335c5   \n",
       "1  029qry8fshdn932                1f077b47-d925-6a5b-bfff-9755582335c5   \n",
       "2  029qry8fshdn932                1f077b47-d929-61ab-8000-f0d032b2eb00   \n",
       "3  029qry8fshdn932                1f077b49-0796-6c8a-8002-40a9bb80740e   \n",
       "4  029qry8fshdn932                1f077b49-0796-6c8a-8002-40a9bb80740e   \n",
       "\n",
       "                                task_id  idx                 channel     type  \\\n",
       "0  58690747-f5ee-7c3e-9da6-84f1dc368d6e    0                messages  msgpack   \n",
       "1  58690747-f5ee-7c3e-9da6-84f1dc368d6e    1  branch:to:chatbot_node     null   \n",
       "2  a5fa6026-5c49-8946-53d1-d3c70b9dfd9c    0                messages  msgpack   \n",
       "3  740408e1-d91d-1473-c55b-2be43245df25    0                messages  msgpack   \n",
       "4  740408e1-d91d-1473-c55b-2be43245df25    1  branch:to:chatbot_node     null   \n",
       "\n",
       "                                               value  \n",
       "0  b'\\x91\\x82\\xa4role\\xa4user\\xa7content\\xa4Ol\\xc...  \n",
       "1                                                b''  \n",
       "2  b'\\x91\\xc8\\x02V\\x05\\x94\\xbalangchain_core.mess...  \n",
       "3  b'\\x91\\x82\\xa4role\\xa4user\\xa7content\\xd9\\x8dM...  \n",
       "4                                                b''  "
      ]
     },
     "execution_count": 51,
     "metadata": {},
     "output_type": "execute_result"
    }
   ],
   "source": [
    "writes_df.head()"
   ]
  }
 ],
 "metadata": {
  "kernelspec": {
   "display_name": "agents-course (3.12.3)",
   "language": "python",
   "name": "python3"
  },
  "language_info": {
   "codemirror_mode": {
    "name": "ipython",
    "version": 3
   },
   "file_extension": ".py",
   "mimetype": "text/x-python",
   "name": "python",
   "nbconvert_exporter": "python",
   "pygments_lexer": "ipython3",
   "version": "3.12.3"
  }
 },
 "nbformat": 4,
 "nbformat_minor": 5
}
