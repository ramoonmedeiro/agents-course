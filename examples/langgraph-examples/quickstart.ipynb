{
 "cells": [
  {
   "cell_type": "code",
   "execution_count": 22,
   "id": "f321647f",
   "metadata": {},
   "outputs": [],
   "source": [
    "# langgraph\n",
    "from langgraph.graph import StateGraph, START, END\n",
    "from langgraph.graph.message import add_messages\n",
    "\n",
    "# pydantic\n",
    "from pydantic import BaseModel\n",
    "\n",
    "# others\n",
    "from typing import Annotated\n",
    "import random\n",
    "import gradio as gr\n",
    "from IPython.display import Image, display"
   ]
  },
  {
   "cell_type": "markdown",
   "id": "ef749eac",
   "metadata": {},
   "source": [
    "# Passo 1: Criando o estado do grafo"
   ]
  },
  {
   "cell_type": "code",
   "execution_count": 2,
   "id": "1a77ce32",
   "metadata": {},
   "outputs": [],
   "source": [
    "class State(BaseModel):\n",
    "    messages: Annotated[list, add_messages]"
   ]
  },
  {
   "cell_type": "markdown",
   "id": "4278825e",
   "metadata": {},
   "source": [
    "# Passo 2: Iniciando o contrutor de grafos"
   ]
  },
  {
   "cell_type": "code",
   "execution_count": 3,
   "id": "76cb184f",
   "metadata": {},
   "outputs": [],
   "source": [
    "graph_builder = StateGraph(State)"
   ]
  },
  {
   "cell_type": "markdown",
   "id": "799decd0",
   "metadata": {},
   "source": [
    "# Passo 3: Criando o nó"
   ]
  },
  {
   "cell_type": "code",
   "execution_count": 4,
   "metadata": {},
   "outputs": [],
   "source": [
    "adjetivos = [\"cheiroso\", \"fedido\", \"desejado\", \"gostoso\", \"horrososo\"]\n",
    "substantivos = [\"Bananas\", \"Travesseiro\", \"Cassinos\", \"Trakinas\"]"
   ]
  },
  {
   "cell_type": "code",
   "execution_count": 5,
   "id": "7c563bfe",
   "metadata": {},
   "outputs": [],
   "source": [
    "def primeiro_no(old_state: State) -> State:\n",
    "    frase = f\"{random.choice(substantivos)} são {random.choice(adjetivos)}\"\n",
    "    messages = [{\"role\": \"assistant\", \"content\": frase}]\n",
    "    new_state = State(messages=messages)\n",
    "    return new_state"
   ]
  },
  {
   "cell_type": "code",
   "execution_count": 9,
   "id": "52d64b9c",
   "metadata": {},
   "outputs": [
    {
     "data": {
      "text/plain": [
       "<langgraph.graph.state.StateGraph at 0x7f754683fc20>"
      ]
     },
     "execution_count": 9,
     "metadata": {},
     "output_type": "execute_result"
    }
   ],
   "source": [
    "graph_builder.add_node(\"primeiro_no\", primeiro_no)"
   ]
  },
  {
   "cell_type": "markdown",
   "id": "b0994ee4",
   "metadata": {},
   "source": [
    "# Passo 4: Criando edges"
   ]
  },
  {
   "cell_type": "code",
   "execution_count": 10,
   "id": "3e392059",
   "metadata": {},
   "outputs": [
    {
     "data": {
      "text/plain": [
       "<langgraph.graph.state.StateGraph at 0x7f754683fc20>"
      ]
     },
     "execution_count": 10,
     "metadata": {},
     "output_type": "execute_result"
    }
   ],
   "source": [
    "graph_builder.add_edge(START, \"primeiro_no\")\n",
    "graph_builder.add_edge(\"primeiro_no\", END)"
   ]
  },
  {
   "cell_type": "markdown",
   "id": "a2d52912",
   "metadata": {},
   "source": [
    "# Passo 5: Compilando o grafo"
   ]
  },
  {
   "cell_type": "code",
   "execution_count": 11,
   "id": "38f2340b",
   "metadata": {},
   "outputs": [],
   "source": [
    "graph = graph_builder.compile()"
   ]
  },
  {
   "cell_type": "markdown",
   "id": "263e4d17",
   "metadata": {},
   "source": [
    "# Rodando o workflow inteiro"
   ]
  },
  {
   "cell_type": "code",
   "execution_count": 20,
   "id": "6ed7e526",
   "metadata": {},
   "outputs": [],
   "source": [
    "def chat(user_input: str, history):\n",
    "    message = {\n",
    "        \"role\": \"assistant\",\n",
    "        \"content\": user_input\n",
    "    }\n",
    "\n",
    "    messages = [message]\n",
    "    state = State(messages=messages)\n",
    "    result = graph.invoke(state)\n",
    "    return result[\"messages\"][-1].content"
   ]
  },
  {
   "cell_type": "code",
   "execution_count": 21,
   "id": "00d7e901",
   "metadata": {},
   "outputs": [
    {
     "name": "stdout",
     "output_type": "stream",
     "text": [
      "* Running on local URL:  http://127.0.0.1:7861\n",
      "* To create a public link, set `share=True` in `launch()`.\n"
     ]
    },
    {
     "data": {
      "text/html": [
       "<div><iframe src=\"http://127.0.0.1:7861/\" width=\"100%\" height=\"500\" allow=\"autoplay; camera; microphone; clipboard-read; clipboard-write;\" frameborder=\"0\" allowfullscreen></iframe></div>"
      ],
      "text/plain": [
       "<IPython.core.display.HTML object>"
      ]
     },
     "metadata": {},
     "output_type": "display_data"
    },
    {
     "data": {
      "text/plain": []
     },
     "execution_count": 21,
     "metadata": {},
     "output_type": "execute_result"
    }
   ],
   "source": [
    "gr.ChatInterface(fn=chat, type=\"messages\").launch()"
   ]
  },
  {
   "cell_type": "code",
   "execution_count": null,
   "id": "9b09b0da",
   "metadata": {},
   "outputs": [],
   "source": []
  }
 ],
 "metadata": {
  "kernelspec": {
   "display_name": "agents-course (3.12.3)",
   "language": "python",
   "name": "python3"
  },
  "language_info": {
   "codemirror_mode": {
    "name": "ipython",
    "version": 3
   },
   "file_extension": ".py",
   "mimetype": "text/x-python",
   "name": "python",
   "nbconvert_exporter": "python",
   "pygments_lexer": "ipython3",
   "version": "3.12.3"
  }
 },
 "nbformat": 4,
 "nbformat_minor": 5
}
